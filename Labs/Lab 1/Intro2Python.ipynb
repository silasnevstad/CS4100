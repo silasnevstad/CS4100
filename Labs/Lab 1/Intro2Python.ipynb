{
 "cells": [
  {
   "cell_type": "markdown",
   "metadata": {},
   "source": [
    "# Homework 0: Introduction To Python 🐍"
   ]
  },
  {
   "cell_type": "markdown",
   "metadata": {},
   "source": [
    "## Why Python?\n",
    "\n",
    "Python is one of the hottest languages in industry today, especially in machine learning and data science. It is widely appreciated for its clean, readable, and generally no-nonsense code that enables singleminded focus on the task at hand. It was designed to be both simple and friendly, yet still powerful and expressive.\n",
    "\n",
    "In this course, we will be using Python 3.10."
   ]
  },
  {
   "cell_type": "markdown",
   "metadata": {},
   "source": [
    "## About This Homework\n",
    "\n",
    "In this homework, we assume that you have taken an introductory course in computer science, or you are familiar with programming in another programming language (e.g. C++ or Java). If you are already familiar with Python, then you may skip to the [discussion of NumPy](#4.-NumPy). Here we will briefly demonstrate how to write Python code and introduce some of the tools we frequently use."
   ]
  },
  {
   "cell_type": "markdown",
   "metadata": {},
   "source": [
    "### This is a Jupyter Notebook\n",
    "\n",
    "As you may already know, this homework is formatted as a Jupyter Notebook, which provides a Python environment that you can interact with. This means that you can run all of the code examples you find below, and even create your own code to try things out (you are highly encouraged to do so!)."
   ]
  },
  {
   "cell_type": "markdown",
   "metadata": {},
   "source": [
    "Each chunk of code or text in this notebook is written in a **block**. There are three types of blocks in Jupyter Notebooks: code, markdown, and raw."
   ]
  },
  {
   "cell_type": "markdown",
   "metadata": {},
   "source": [
    "#### Code Blocks\n",
    "\n",
    "**Code blocks**, are exactly what their name implies: you write code in them. They are blocks that can be executed in the interactive Python environment we mentioned earlier. You can **run** code blocks by clicking into them so that you see a blue bar to the left of the block, and then either pressing the small ▶ button in the top bar, or pressing `Shift + Enter`.\n",
    "\n",
    "**Try this!** Here is an example of a code block, run it! "
   ]
  },
  {
   "cell_type": "code",
   "execution_count": 84,
   "metadata": {
    "ExecuteTime": {
     "end_time": "2024-07-03T18:15:08.808780Z",
     "start_time": "2024-07-03T18:15:08.805146Z"
    }
   },
   "outputs": [
    {
     "name": "stdout",
     "output_type": "stream",
     "text": [
      "I'm a code block!\n"
     ]
    }
   ],
   "source": [
    "print(\"I'm a code block!\")"
   ]
  },
  {
   "cell_type": "markdown",
   "metadata": {},
   "source": [
    "You can also add new blocks by pressing the + button in the top bar."
   ]
  },
  {
   "cell_type": "markdown",
   "metadata": {},
   "source": [
    "#### Markdown Blocks\n",
    "\n",
    "All of the text you see in this notebook was written with the second type of block we mentioned: **markdown blocks**. These blocks allow you to write formatted text with a simple markdown language called, well, [Markdown](https://en.wikipedia.org/wiki/Markdown). You can find a very simple demonstration of markdown [here](https://markdown-here.com/livedemo.html). You can also double-click any of the text blocks in this document, **like this one**, to see the markdown \"source\" code that produced it. Just **run** it to render it again."
   ]
  },
  {
   "cell_type": "markdown",
   "metadata": {},
   "source": [
    "#### Raw Blocks\n",
    "\n",
    "The last type of block is a **raw block**, which allows you to write preformatted or \"raw\" text. The contents of these blocks are not rendered after running them, like with the markdown blocks. These blocks are not very common in a notebook, but there are times where you will find them useful."
   ]
  },
  {
   "cell_type": "raw",
   "metadata": {},
   "source": [
    "This is a raw text block!\n",
    "\n",
    "        Everything is \n",
    "        formatted exactly as written."
   ]
  },
  {
   "cell_type": "markdown",
   "metadata": {},
   "source": [
    "## 3. Working in Python\n",
    "\n",
    "As mentioned before, Python is renowned for its simplicity. And, while this introduction may be long, we strongly believe that as you continue to write Python code, you will find that the language just \"fades into the background,\" allowing you to focus on the data science that you are here to learn.\n",
    "\n",
    "As you read through the rest of the homework, remember that all of the code blocks are interactive and that you should **run** them to see what happens. Furthermore, you are _encouraged_ to make your own blocks (with the + button) and to try experimenting with things yourself. Just keep in mind that on homeworks, we may not allow extra blocks to be used."
   ]
  },
  {
   "cell_type": "markdown",
   "metadata": {},
   "source": [
    "### Expressions\n",
    "\n",
    "As with any programming language, complex ideas are built up from small, *primitive* expressions. More generally, anything that can be *evaluated* to a value is an expression. For example, a number (1, 2, etc.) in code is an expression because that code can be evaluated to the value of that number.\n",
    "\n",
    "**Try this!** Execute the cells in this section and observe their output."
   ]
  },
  {
   "cell_type": "code",
   "execution_count": 85,
   "metadata": {
    "ExecuteTime": {
     "end_time": "2024-07-03T18:15:09.363715Z",
     "start_time": "2024-07-03T18:15:09.360933Z"
    }
   },
   "outputs": [
    {
     "data": {
      "text/plain": "217"
     },
     "execution_count": 85,
     "metadata": {},
     "output_type": "execute_result"
    }
   ],
   "source": [
    "217"
   ]
  },
  {
   "cell_type": "markdown",
   "metadata": {},
   "source": [
    "By combining simple expressions with operators, we can even express complex ideas, like those used to find patterns in data. For example,"
   ]
  },
  {
   "cell_type": "code",
   "execution_count": 86,
   "metadata": {
    "ExecuteTime": {
     "end_time": "2024-07-03T18:15:09.383910Z",
     "start_time": "2024-07-03T18:15:09.381628Z"
    }
   },
   "outputs": [
    {
     "data": {
      "text/plain": "2019"
     },
     "execution_count": 86,
     "metadata": {},
     "output_type": "execute_result"
    }
   ],
   "source": [
    "217 * 9 + 8 * 7 + 10"
   ]
  },
  {
   "cell_type": "markdown",
   "metadata": {},
   "source": [
    "Some other types of expressions are `strings` and `booleans`:"
   ]
  },
  {
   "cell_type": "code",
   "execution_count": 87,
   "metadata": {
    "ExecuteTime": {
     "end_time": "2024-07-03T18:15:09.435212Z",
     "start_time": "2024-07-03T18:15:09.432881Z"
    }
   },
   "outputs": [
    {
     "data": {
      "text/plain": "\"I'm an expression too!\""
     },
     "execution_count": 87,
     "metadata": {},
     "output_type": "execute_result"
    }
   ],
   "source": [
    "\"I'm an expression too!\""
   ]
  },
  {
   "cell_type": "code",
   "execution_count": 88,
   "metadata": {
    "ExecuteTime": {
     "end_time": "2024-07-03T18:15:09.467386Z",
     "start_time": "2024-07-03T18:15:09.464900Z"
    }
   },
   "outputs": [
    {
     "data": {
      "text/plain": "True"
     },
     "execution_count": 88,
     "metadata": {},
     "output_type": "execute_result"
    }
   ],
   "source": [
    "True or False is not False"
   ]
  },
  {
   "cell_type": "markdown",
   "metadata": {},
   "source": [
    "### Variables\n",
    "\n",
    "You can create variables by assigning a value to a name (or, if you prefer, by giving a name a value). Values can be expressed as expressions, which are evaluated prior to being assigned to a name."
   ]
  },
  {
   "cell_type": "code",
   "execution_count": 89,
   "metadata": {
    "ExecuteTime": {
     "end_time": "2024-07-03T18:15:09.496753Z",
     "start_time": "2024-07-03T18:15:09.494387Z"
    }
   },
   "outputs": [
    {
     "data": {
      "text/plain": "'Hello'"
     },
     "execution_count": 89,
     "metadata": {},
     "output_type": "execute_result"
    }
   ],
   "source": [
    "greeting = 'Hello'\n",
    "greeting"
   ]
  },
  {
   "cell_type": "markdown",
   "metadata": {},
   "source": [
    "If you are in a hurry, you can also assign names to multiple values simultaneously. But a caveat for this is that assignment is done after evaluation so you cannot use `one` and `two` in the expression for `three`."
   ]
  },
  {
   "cell_type": "code",
   "execution_count": 90,
   "metadata": {
    "ExecuteTime": {
     "end_time": "2024-07-03T18:15:09.523381Z",
     "start_time": "2024-07-03T18:15:09.521570Z"
    }
   },
   "outputs": [],
   "source": [
    "# this won't work!\n",
    "one, two, three = 1, 2, one + two"
   ]
  },
  {
   "cell_type": "code",
   "execution_count": 91,
   "metadata": {
    "ExecuteTime": {
     "end_time": "2024-07-03T18:15:09.586660Z",
     "start_time": "2024-07-03T18:15:09.584360Z"
    }
   },
   "outputs": [],
   "source": [
    "# this is ok!\n",
    "one, two, three = 1, 2, 3"
   ]
  },
  {
   "cell_type": "markdown",
   "metadata": {},
   "source": [
    "### Strings\n",
    "\n",
    "Working with data often means working with strings. Recall that strings are what we call words and sentences in programming languanges because they are essentially a group of characters, like `a` or `b`, that have been *strung* together like `hello there!`. Being familiar with how to manipulate strings is not only important, but very useful. Many professionals love Python because of how easy it is to work with strings, especially in areas like [Natural Language Processing](https://en.wikipedia.org/wiki/Natural_language_processing)."
   ]
  },
  {
   "cell_type": "markdown",
   "metadata": {},
   "source": [
    "Like in other languages, you can denote a string using the `\"` symbol. For example, `\"this is a string\"`. Alternatively in Python you may also use a \"single quote\", `'`, to denote a string (e.g. `'this is also a string'`)."
   ]
  },
  {
   "cell_type": "markdown",
   "metadata": {},
   "source": [
    "**Try this!** In the follow block, try assigning a string containing your name to a variable called `my_name`."
   ]
  },
  {
   "cell_type": "code",
   "execution_count": 92,
   "metadata": {
    "ExecuteTime": {
     "end_time": "2024-07-03T18:15:09.599475Z",
     "start_time": "2024-07-03T18:15:09.597676Z"
    }
   },
   "outputs": [],
   "source": [
    "# replace None with a string containing your name\n",
    "my_name = None\n",
    "my_name = \"Silas Nevstad\""
   ]
  },
  {
   "cell_type": "markdown",
   "metadata": {},
   "source": [
    "#### Indexing and Slicing\n",
    "\n",
    "You can access specific characters in a string using square bracket notation, `[]`. "
   ]
  },
  {
   "cell_type": "code",
   "execution_count": 93,
   "metadata": {
    "ExecuteTime": {
     "end_time": "2024-07-03T18:15:09.610767Z",
     "start_time": "2024-07-03T18:15:09.608801Z"
    }
   },
   "outputs": [
    {
     "data": {
      "text/plain": "'S'"
     },
     "execution_count": 93,
     "metadata": {},
     "output_type": "execute_result"
    }
   ],
   "source": [
    "my_name[0]"
   ]
  },
  {
   "cell_type": "markdown",
   "metadata": {},
   "source": [
    "Remember that, like Java, strings are indexed from `0`."
   ]
  },
  {
   "cell_type": "markdown",
   "metadata": {},
   "source": [
    "You can also slice strings, or get a part of a string using **slice** indexing. Slicing works by specifying the range of indices that you are interested in retrieving. The way to describe this is the same as [interval notation](http://www.mathwords.com/i/interval_notation.htm) if you remember from math:\n",
    "\n",
    "$$[\\text{begin} : \\text{end}).$$\n",
    "\n",
    "The selected string will include the character at the first index given, but will not include the character of the second index."
   ]
  },
  {
   "cell_type": "code",
   "execution_count": 94,
   "metadata": {
    "ExecuteTime": {
     "end_time": "2024-07-03T18:15:09.650931Z",
     "start_time": "2024-07-03T18:15:09.648634Z"
    }
   },
   "outputs": [
    {
     "data": {
      "text/plain": "'Si'"
     },
     "execution_count": 94,
     "metadata": {},
     "output_type": "execute_result"
    }
   ],
   "source": [
    "my_name[0:2]"
   ]
  },
  {
   "cell_type": "markdown",
   "metadata": {},
   "source": [
    "Often, you will be interested in either the first few or last few characters in a string, in which case you can leave out the corresponding index. In the following example, I only want the characters from index `1` to the end so I can leave off the ending index."
   ]
  },
  {
   "cell_type": "code",
   "execution_count": 95,
   "metadata": {
    "ExecuteTime": {
     "end_time": "2024-07-03T18:15:09.665165Z",
     "start_time": "2024-07-03T18:15:09.662239Z"
    }
   },
   "outputs": [
    {
     "data": {
      "text/plain": "'ilas Nevstad'"
     },
     "execution_count": 95,
     "metadata": {},
     "output_type": "execute_result"
    }
   ],
   "source": [
    "my_name[1:]"
   ]
  },
  {
   "cell_type": "markdown",
   "metadata": {},
   "source": [
    "**Try this!** Get all characters of the following string but the first four without counting its length: "
   ]
  },
  {
   "cell_type": "code",
   "execution_count": 96,
   "metadata": {
    "ExecuteTime": {
     "end_time": "2024-07-03T18:15:09.702047Z",
     "start_time": "2024-07-03T18:15:09.699726Z"
    }
   },
   "outputs": [
    {
     "data": {
      "text/plain": "' is a really long sting and you have now clue on how long it is!'"
     },
     "execution_count": 96,
     "metadata": {},
     "output_type": "execute_result"
    }
   ],
   "source": [
    "my_string = \"This is a really long sting and you have now clue on how long it is!\"\n",
    "\n",
    "# your code here \n",
    "my_string[4:]"
   ]
  },
  {
   "cell_type": "markdown",
   "metadata": {},
   "source": [
    "#### More On Strings\n",
    "\n",
    "There are many more things that you can do with strings, for example you can concatenate them together (`'hello' + ', '+ 'world'`). However, in this course, you will primarily be working with _numerical_ data, instead of strings, so we will not linger on this topic. For more information on strings, please see this [article from Google](https://developers.google.com/edu/python/strings)."
   ]
  },
  {
   "cell_type": "markdown",
   "metadata": {},
   "source": [
    "### Lists\n",
    "\n",
    "Lists are like `arrays` in Java, except that you can put whatever you want into them. They are also flexible in size so you can keep adding to them as much as you'd like. Python lists are also the basis of strings. Because of this, strings and lists both share many of the same features."
   ]
  },
  {
   "cell_type": "markdown",
   "metadata": {},
   "source": [
    "Here we create a new list, using square bracket notation, and then fill it with `1`, the value of variable `one`, the character `'a'`, and the value of the variable `my_name`."
   ]
  },
  {
   "cell_type": "code",
   "execution_count": 97,
   "metadata": {
    "ExecuteTime": {
     "end_time": "2024-07-03T18:15:09.754917Z",
     "start_time": "2024-07-03T18:15:09.752168Z"
    }
   },
   "outputs": [
    {
     "data": {
      "text/plain": "[1, 1, 'a', 'Silas Nevstad']"
     },
     "execution_count": 97,
     "metadata": {},
     "output_type": "execute_result"
    }
   ],
   "source": [
    "[1, one, 'a', my_name]"
   ]
  },
  {
   "cell_type": "markdown",
   "metadata": {},
   "source": [
    "#### Adding to a List\n",
    "\n",
    "You can add to lists using the `append` method like this."
   ]
  },
  {
   "cell_type": "code",
   "execution_count": 98,
   "metadata": {
    "ExecuteTime": {
     "end_time": "2024-07-03T18:15:09.782454Z",
     "start_time": "2024-07-03T18:15:09.779959Z"
    }
   },
   "outputs": [
    {
     "data": {
      "text/plain": "[1, 2, 3, 4, 5, 6]"
     },
     "execution_count": 98,
     "metadata": {},
     "output_type": "execute_result"
    }
   ],
   "source": [
    "a_list = [1, 2, 3, 4, 5]\n",
    "a_list.append(6)\n",
    "a_list"
   ]
  },
  {
   "cell_type": "markdown",
   "metadata": {},
   "source": [
    "It is also possible to concatenate two lists, i.e. you can add two lists end-to-end."
   ]
  },
  {
   "cell_type": "code",
   "execution_count": 99,
   "metadata": {
    "ExecuteTime": {
     "end_time": "2024-07-03T18:15:09.822817Z",
     "start_time": "2024-07-03T18:15:09.820628Z"
    }
   },
   "outputs": [
    {
     "data": {
      "text/plain": "[1, 2, 3, 4, 5, 6, 1, 2, 3, 4, 5, 6]"
     },
     "execution_count": 99,
     "metadata": {},
     "output_type": "execute_result"
    }
   ],
   "source": [
    "a_list + a_list"
   ]
  },
  {
   "cell_type": "markdown",
   "metadata": {},
   "source": [
    "#### Indexing\n",
    "\n",
    "The good thing about this is that strings are essentially the same as lists so you can use the same indexing techniques as you did for strings for lists.\n",
    "\n",
    "**Try This!** Get the second to fourth elements of `a_list`."
   ]
  },
  {
   "cell_type": "code",
   "execution_count": 100,
   "metadata": {
    "ExecuteTime": {
     "end_time": "2024-07-03T18:15:09.880089Z",
     "start_time": "2024-07-03T18:15:09.877788Z"
    }
   },
   "outputs": [
    {
     "data": {
      "text/plain": "[2, 3, 4]"
     },
     "execution_count": 100,
     "metadata": {},
     "output_type": "execute_result"
    }
   ],
   "source": [
    "# your code here \n",
    "a_list[1:4]"
   ]
  },
  {
   "cell_type": "markdown",
   "metadata": {},
   "source": [
    "We can also do more crazy indexing things, like skipping elements:"
   ]
  },
  {
   "cell_type": "code",
   "execution_count": 101,
   "metadata": {
    "ExecuteTime": {
     "end_time": "2024-07-03T18:15:09.945382Z",
     "start_time": "2024-07-03T18:15:09.942889Z"
    }
   },
   "outputs": [
    {
     "data": {
      "text/plain": "[1, 3, 5]"
     },
     "execution_count": 101,
     "metadata": {},
     "output_type": "execute_result"
    }
   ],
   "source": [
    "a_list[0::2]"
   ]
  },
  {
   "cell_type": "markdown",
   "metadata": {},
   "source": [
    "**Write-up!** How would you explain this line of code in words? Write your response in the box below."
   ]
  },
  {
   "cell_type": "markdown",
   "metadata": {},
   "source": [
    "**Your response here:** \n",
    "This line of code is indexing the list `a_list` starting from the first element and then skipping every other element."
   ]
  },
  {
   "cell_type": "markdown",
   "metadata": {},
   "source": [
    "Or reversing it:"
   ]
  },
  {
   "cell_type": "code",
   "execution_count": 102,
   "metadata": {
    "ExecuteTime": {
     "end_time": "2024-07-03T18:15:09.985650Z",
     "start_time": "2024-07-03T18:15:09.983176Z"
    }
   },
   "outputs": [
    {
     "data": {
      "text/plain": "[6, 5, 4, 3, 2, 1]"
     },
     "execution_count": 102,
     "metadata": {},
     "output_type": "execute_result"
    }
   ],
   "source": [
    "a_list[::-1]"
   ]
  },
  {
   "cell_type": "markdown",
   "metadata": {},
   "source": [
    "**Try This!** How would you get all of the elements from `a_list` with slicing? _Note that this is not the same as simply evaluating `a_list` again. Instead, it will make a copy of the list._"
   ]
  },
  {
   "cell_type": "code",
   "execution_count": 103,
   "metadata": {
    "ExecuteTime": {
     "end_time": "2024-07-03T18:15:10.032771Z",
     "start_time": "2024-07-03T18:15:10.030269Z"
    }
   },
   "outputs": [
    {
     "data": {
      "text/plain": "[1, 2, 3, 4, 5, 6]"
     },
     "execution_count": 103,
     "metadata": {},
     "output_type": "execute_result"
    }
   ],
   "source": [
    "# your code here \n",
    "a_list[:]"
   ]
  },
  {
   "cell_type": "markdown",
   "metadata": {},
   "source": [
    "### Control Flow and Loops"
   ]
  },
  {
   "cell_type": "markdown",
   "metadata": {},
   "source": [
    "#### If-Else Conditionals\n",
    "\n",
    "Besides the `elif` statement, there are three more things to notice. First, the conditional statements don't have to be in parentheses, which allows for easier reading of code with much less clutter. Second, each statement is terminated with a `:`. This is essentially saying that we will \"define\" what this statement entails. And, third, that each \"block\" following a statement is merely indented with either 4 spaces or a tab. This is, again, for readability. You can almost think of Python code as _outlining_ what you want it to do, where each statement is kind of like a heading and each block is an indented \"idea,\" so to speak."
   ]
  },
  {
   "cell_type": "code",
   "execution_count": 104,
   "metadata": {
    "ExecuteTime": {
     "end_time": "2024-07-03T18:15:10.059255Z",
     "start_time": "2024-07-03T18:15:10.056956Z"
    }
   },
   "outputs": [
    {
     "name": "stdout",
     "output_type": "stream",
     "text": [
      "Just one.\n"
     ]
    }
   ],
   "source": [
    "if 2 < 1 and 1 > 0:\n",
    "    print('Not both!')\n",
    "elif 1 > 0:\n",
    "    print('Just one.')\n",
    "else:\n",
    "    print('Everything else')"
   ]
  },
  {
   "cell_type": "markdown",
   "metadata": {},
   "source": [
    "#### Loops\n",
    "\n",
    "The syntax for a `while` loop should look relatively similar to those in Java. The differences lie in the same places as for the `if` statements. A   `while` loop will iterate \"while\" its condition remains `True`."
   ]
  },
  {
   "cell_type": "code",
   "execution_count": 105,
   "metadata": {
    "ExecuteTime": {
     "end_time": "2024-07-03T18:15:10.111996Z",
     "start_time": "2024-07-03T18:15:10.110039Z"
    }
   },
   "outputs": [
    {
     "name": "stdout",
     "output_type": "stream",
     "text": [
      "5\n",
      "4\n",
      "3\n",
      "2\n",
      "1\n"
     ]
    }
   ],
   "source": [
    "n = 5\n",
    "\n",
    "while n > 0:\n",
    "    print(n)\n",
    "    n -= 1"
   ]
  },
  {
   "cell_type": "markdown",
   "metadata": {},
   "source": [
    "`for` loops may look a little unfamiliar at first, but there is good reason for this. For loops in Python are designed to have greater functionality without sacrificing readability. Below is an example of how you would iterate 5 times."
   ]
  },
  {
   "cell_type": "code",
   "execution_count": 106,
   "metadata": {
    "ExecuteTime": {
     "end_time": "2024-07-03T18:15:10.133783Z",
     "start_time": "2024-07-03T18:15:10.131816Z"
    }
   },
   "outputs": [
    {
     "name": "stdout",
     "output_type": "stream",
     "text": [
      "0\n",
      "1\n",
      "2\n",
      "3\n",
      "4\n"
     ]
    }
   ],
   "source": [
    "for i in range(5):\n",
    "    print(i)"
   ]
  },
  {
   "cell_type": "markdown",
   "metadata": {},
   "source": [
    "You can also easily iterate through lists the same way as lists are also `iterables`."
   ]
  },
  {
   "cell_type": "code",
   "execution_count": 107,
   "metadata": {
    "ExecuteTime": {
     "end_time": "2024-07-03T18:15:10.186112Z",
     "start_time": "2024-07-03T18:15:10.183873Z"
    }
   },
   "outputs": [
    {
     "name": "stdout",
     "output_type": "stream",
     "text": [
      "Hello\n",
      "Machine\n",
      "Learning\n",
      "!!!\n"
     ]
    }
   ],
   "source": [
    "a_list = ['Hello', 'Machine', 'Learning', '!!!']\n",
    "\n",
    "for word in a_list:\n",
    "    print(word)"
   ]
  },
  {
   "cell_type": "markdown",
   "metadata": {},
   "source": [
    "In an earlier example, we took a `range`, which is \"list-like\", and square each value. The `range` function returns an `iterable` from an _optional_ starting point to an end point."
   ]
  },
  {
   "cell_type": "code",
   "execution_count": 108,
   "metadata": {
    "ExecuteTime": {
     "end_time": "2024-07-03T18:15:10.198775Z",
     "start_time": "2024-07-03T18:15:10.196594Z"
    }
   },
   "outputs": [
    {
     "data": {
      "text/plain": "range(0, 5)"
     },
     "execution_count": 108,
     "metadata": {},
     "output_type": "execute_result"
    }
   ],
   "source": [
    "range(5)"
   ]
  },
  {
   "cell_type": "markdown",
   "metadata": {},
   "source": [
    "**Try this!** Create a for loop to print out every even number from in the interval `[1:50]` (inclusive). Hint: create an appropriate `iterable` first."
   ]
  },
  {
   "cell_type": "code",
   "execution_count": 109,
   "metadata": {
    "ExecuteTime": {
     "end_time": "2024-07-03T18:15:10.222547Z",
     "start_time": "2024-07-03T18:15:10.219959Z"
    }
   },
   "outputs": [
    {
     "name": "stdout",
     "output_type": "stream",
     "text": [
      "2\n",
      "4\n",
      "6\n",
      "8\n",
      "10\n",
      "12\n",
      "14\n",
      "16\n",
      "18\n",
      "20\n",
      "22\n",
      "24\n",
      "26\n",
      "28\n",
      "30\n",
      "32\n",
      "34\n",
      "36\n",
      "38\n",
      "40\n",
      "42\n",
      "44\n",
      "46\n",
      "48\n",
      "50\n",
      "2\n",
      "4\n",
      "6\n",
      "8\n",
      "10\n",
      "12\n",
      "14\n",
      "16\n",
      "18\n",
      "20\n",
      "22\n",
      "24\n",
      "26\n",
      "28\n",
      "30\n",
      "32\n",
      "34\n",
      "36\n",
      "38\n",
      "40\n",
      "42\n",
      "44\n",
      "46\n",
      "48\n",
      "50\n",
      "2\n",
      "4\n",
      "6\n",
      "8\n",
      "10\n",
      "12\n",
      "14\n",
      "16\n",
      "18\n",
      "20\n",
      "22\n",
      "24\n",
      "26\n",
      "28\n",
      "30\n",
      "32\n",
      "34\n",
      "36\n",
      "38\n",
      "40\n",
      "42\n",
      "44\n",
      "46\n",
      "48\n",
      "50\n"
     ]
    }
   ],
   "source": [
    "# your code here \n",
    "for i in range(1, 51):\n",
    "    if i % 2 == 0:\n",
    "        print(i)\n",
    "        \n",
    "# or\n",
    "for i in range(2, 51, 2):\n",
    "    print(i)\n",
    "    \n",
    "# or\n",
    "lst = list(range(1, 51))\n",
    "for i in lst[1::2]:\n",
    "    print(i)"
   ]
  },
  {
   "cell_type": "markdown",
   "metadata": {},
   "source": [
    "#### List Comprehensions\n",
    "\n",
    "A very useful feature of Python lists is called **comprehension** notation. It allows us to use for loops to create lists! This notation is very similar to set-builder notation from math and allows us to succinctly create lists from other lists."
   ]
  },
  {
   "cell_type": "code",
   "execution_count": 110,
   "metadata": {
    "ExecuteTime": {
     "end_time": "2024-07-03T18:15:10.273640Z",
     "start_time": "2024-07-03T18:15:10.271250Z"
    }
   },
   "outputs": [
    {
     "data": {
      "text/plain": "[0, 1, 4, 9, 16]"
     },
     "execution_count": 110,
     "metadata": {},
     "output_type": "execute_result"
    }
   ],
   "source": [
    "squares = [x * x for x in range(5)]\n",
    "squares"
   ]
  },
  {
   "cell_type": "code",
   "execution_count": 111,
   "metadata": {
    "ExecuteTime": {
     "end_time": "2024-07-03T18:15:10.296123Z",
     "start_time": "2024-07-03T18:15:10.293996Z"
    }
   },
   "outputs": [
    {
     "data": {
      "text/plain": "[1, 2, 5, 10, 17]"
     },
     "execution_count": 111,
     "metadata": {},
     "output_type": "execute_result"
    }
   ],
   "source": [
    "squares_plus = [x + 1 for x in squares]\n",
    "squares_plus"
   ]
  },
  {
   "cell_type": "markdown",
   "metadata": {},
   "source": [
    "### Functions\n",
    "\n",
    "Functions in Python, and in general, can be thought of as a generalized method in Java. Where methods operate on and are attached to classes, functions are not. However, both constructs facilitate \"abstraction\" in our code. Abstraction is usually defined as a process by which we hide away all the little details about something in order to focus on how the thing interacts. Practically in CS this means:\n",
    "\n",
    "> [Abstraction's] main goal is to handle complexity by hiding unnecessary details from the user. -[Stackify](https://stackify.com/oop-concept-abstraction/?utm_referrer=https%3A%2F%2Fwww.google.com%2F)\n",
    "\n",
    "This is what allows us to think about driving a car without actually thinking about all the complex details of what happens when we press the gas pedal. In the same way, functional abstraction allows us to think about functions as a collection of code that, given a particular input, will return a particular output."
   ]
  },
  {
   "cell_type": "markdown",
   "metadata": {},
   "source": [
    "A very simple example might be a sum function, which computes the sum of a `list` of values."
   ]
  },
  {
   "cell_type": "code",
   "execution_count": 112,
   "metadata": {
    "ExecuteTime": {
     "end_time": "2024-07-03T18:15:10.349855Z",
     "start_time": "2024-07-03T18:15:10.347401Z"
    }
   },
   "outputs": [
    {
     "data": {
      "text/plain": "15"
     },
     "execution_count": 112,
     "metadata": {},
     "output_type": "execute_result"
    }
   ],
   "source": [
    "sum([1, 2, 3, 4, 5])"
   ]
  },
  {
   "cell_type": "markdown",
   "metadata": {},
   "source": [
    "With this function, I can retrieve the sum of a group of values without ever having to know _how_ the sum is actually computed. Another benefit of grouping code into functions is that it makes the code easy to test — just call the function with some inputs and see if the right output is returned. The last benefit I will mention here is that a function is a way of separating concerns and ideas. When you write a `sum` function, all you are responsible for is the correctness and efficiency of the computation, nothing else. Also, when writing a function, you are putting code that does a particular computation into a logical grouping, much like how in writing you would group similar ideas into a paragraph."
   ]
  },
  {
   "cell_type": "markdown",
   "metadata": {},
   "source": [
    "#### Syntax\n",
    "\n",
    "The syntax of defining a function in Python is quite simple. You let the interpreter know that you want to define a function using the `def` statement. Then, you follow that with your function's name and the arguments. There is no need to specify the types that the function accepts as Python will figure that out itself. If it cannot, then it will let you know in the form of an error."
   ]
  },
  {
   "cell_type": "code",
   "execution_count": 113,
   "metadata": {
    "ExecuteTime": {
     "end_time": "2024-07-03T18:15:10.368698Z",
     "start_time": "2024-07-03T18:15:10.366989Z"
    }
   },
   "outputs": [],
   "source": [
    "def my_function(arg1, arg2):\n",
    "    output = arg1 + arg2\n",
    "    return output"
   ]
  },
  {
   "cell_type": "markdown",
   "metadata": {},
   "source": [
    "Notice that, again, much like the `if` statements and loops, function definitions end with a `:` and the contents are indented."
   ]
  },
  {
   "cell_type": "markdown",
   "metadata": {},
   "source": [
    "Some will miss the safety of static typing in Java (others won't). While this is true, in exchange you can reduce the redundancy of code between one version of a function that takes in one type of input and another version of the same function that takes in different type (e.g. `len(int[])` and `len(char[])`)."
   ]
  },
  {
   "cell_type": "markdown",
   "metadata": {},
   "source": [
    "#### More Examples"
   ]
  },
  {
   "cell_type": "code",
   "execution_count": 114,
   "metadata": {
    "ExecuteTime": {
     "end_time": "2024-07-03T18:15:10.393380Z",
     "start_time": "2024-07-03T18:15:10.391622Z"
    }
   },
   "outputs": [],
   "source": [
    "def mean(values):\n",
    "    return sum(values) / len(values)"
   ]
  },
  {
   "cell_type": "markdown",
   "metadata": {},
   "source": [
    "Notice that the `len` function returns the length of any list."
   ]
  },
  {
   "cell_type": "markdown",
   "metadata": {},
   "source": [
    "#### Lambdas\n",
    "\n",
    "Lambdas are a special type of function called anonymous functions. Whereas with normal functions you must name the function in the definition, you do not have to name lambda functions.\n",
    "\n",
    "```\n",
    "def named_function():\n",
    "    pass\n",
    "```\n",
    "\n",
    "Lambdas are treated as expressions that evaluate to functions exactly like how `'hello'` is evaluated to a string. This means that you can store lambdas in variables, but this is _widely_ considered bad practice as a full function definition is much more readable.\n",
    "\n",
    "```\n",
    "lambda x, y: x + y\n",
    "```\n",
    "\n",
    "Here, the `lambda` keyword tells Python that we want to make a lambda function. The `x` and `y` before the colon denote the arguments of the function. The expression after the colon represents the logic of the function. In this case, we could call this function `add` since it takes two values and adds them."
   ]
  },
  {
   "cell_type": "markdown",
   "metadata": {},
   "source": [
    "Again, it is very bad practice to assign lambdas to variables. This might make you think that they are useless, but I assure you that they are not. The most common use case of lambdas is when another function takes a function as an argument. An example of this is the `max` function.\n",
    "\n",
    "I'm sure everyone is familiar with the `max` function, but in case you are not, this function returns the largest element in a list. Typically you would simply call the `max` function with `some_list` and get the largest element."
   ]
  },
  {
   "cell_type": "markdown",
   "metadata": {},
   "source": [
    "Try evaluating this next cell."
   ]
  },
  {
   "cell_type": "code",
   "execution_count": 115,
   "metadata": {
    "ExecuteTime": {
     "end_time": "2024-07-03T18:15:10.450324Z",
     "start_time": "2024-07-03T18:15:10.447823Z"
    }
   },
   "outputs": [
    {
     "data": {
      "text/plain": "4"
     },
     "execution_count": 115,
     "metadata": {},
     "output_type": "execute_result"
    }
   ],
   "source": [
    "some_list = [1, 2, 3, 4]\n",
    "max(some_list)"
   ]
  },
  {
   "cell_type": "markdown",
   "metadata": {},
   "source": [
    "As expected, the largest value in `some_list` is `4`. However, there are cases where you want to get the max element of a list but the elements have complex structure. For example, consider a class roster, which is a list of students. In this situation, let us represent each student as a `list` containing their name, age, and graduation year."
   ]
  },
  {
   "cell_type": "code",
   "execution_count": 116,
   "metadata": {
    "ExecuteTime": {
     "end_time": "2024-07-03T18:15:10.467168Z",
     "start_time": "2024-07-03T18:15:10.465030Z"
    }
   },
   "outputs": [],
   "source": [
    "roster = [\n",
    "    ['Billy',  21, 2021],\n",
    "    ['Meghan', 18, 2020],\n",
    "    ['Jeff',   21, 2019],\n",
    "    ['Alex',   50, 2021],\n",
    "    ['Cate',   21, 2020]\n",
    "]"
   ]
  },
  {
   "cell_type": "markdown",
   "metadata": {},
   "source": [
    "We want to find the oldest student, `Alex`, in this group of students. How can we do that? Let's try directly calling `max` with this `roster` and see what we get."
   ]
  },
  {
   "cell_type": "code",
   "execution_count": 117,
   "metadata": {
    "ExecuteTime": {
     "end_time": "2024-07-03T18:15:10.531439Z",
     "start_time": "2024-07-03T18:15:10.529227Z"
    }
   },
   "outputs": [
    {
     "data": {
      "text/plain": "['Meghan', 18, 2020]"
     },
     "execution_count": 117,
     "metadata": {},
     "output_type": "execute_result"
    }
   ],
   "source": [
    "max(roster)"
   ]
  },
  {
   "cell_type": "markdown",
   "metadata": {},
   "source": [
    "The `max` function returned `['Meghan', 18, 2020]`, which isn't what we are looking for.\n",
    "\n",
    "> **Note**: this result makes sense because the `max` function sees a list of lists and defaults to using the first element of each list to compare them. In this case, `Meghan` starts with `M`, which comes later in the alphabet than the rest of the students' initials.\n",
    "\n",
    "In order to get the oldest student, we will need to show the `max` function which values we want it to compare. To do this we will use a `key`, which is a function. Instead of writing an entire function for this, we can just pass in a lambda that, when called with a roster, will return the age of the student."
   ]
  },
  {
   "cell_type": "code",
   "execution_count": 118,
   "metadata": {
    "ExecuteTime": {
     "end_time": "2024-07-03T18:15:10.548408Z",
     "start_time": "2024-07-03T18:15:10.545722Z"
    }
   },
   "outputs": [
    {
     "data": {
      "text/plain": "['Alex', 50, 2021]"
     },
     "execution_count": 118,
     "metadata": {},
     "output_type": "execute_result"
    }
   ],
   "source": [
    "max(roster, key=lambda student: student[1])"
   ]
  },
  {
   "cell_type": "markdown",
   "metadata": {},
   "source": [
    "Here we see that `'Alex'`, who is 50, was returned as the oldest student."
   ]
  },
  {
   "cell_type": "markdown",
   "metadata": {},
   "source": [
    "### Other Python Topics\n",
    "\n",
    "A complete discussion of Python would include topics such as [dictionaries](https://www.programiz.com/python-programming/dictionary), [iterators](https://www.programiz.com/python-programming/iterator), and [classes](https://www.programiz.com/python-programming/object-oriented-programming), among other important topics. However, this has already been a lot of information and we will not run into these additional topics in the first few homeworks. Because of this, we will opt to introduce these other topics as they appear throughout this course."
   ]
  },
  {
   "cell_type": "markdown",
   "metadata": {},
   "source": [
    "## 4. NumPy\n",
    "\n",
    "You can put just about anything into a Python list. They are designed to be completely agnostic to types, making them just about as flexible as a data structure can get. You want to store a string, an int, and another list? No problem. However, this versatility doesn’t come for free. In exchange for quality of life, we must give up some degree of computational efficiency — though probably not enough to tip the scales against lists in most use cases.\n",
    "\n",
    "One case, however, where lists are not ideal is mathematical computation. Here, we don't need the flexibility that lists give us since we know upfront that we are only dealing with _numbers_ and _how many_ of these numbers we have (e.g. the dimensionality of a column vector is fixed for a particular problem). This leads us to seek an alternative data structure that is optimized for these constraints (i.e. known type and shape): the **array**."
   ]
  },
  {
   "cell_type": "markdown",
   "metadata": {},
   "source": [
    "These types of math-specialized arrays are not provided by Python itself. Instead, they can be found in the `numpy` package. Here we import `numpy` with the alias `np`. This is for the sakes of both convention and convenience; $2 < 5$."
   ]
  },
  {
   "cell_type": "code",
   "execution_count": 119,
   "metadata": {
    "ExecuteTime": {
     "end_time": "2024-07-03T18:15:10.562090Z",
     "start_time": "2024-07-03T18:15:10.560279Z"
    }
   },
   "outputs": [],
   "source": [
    "import numpy as np"
   ]
  },
  {
   "cell_type": "markdown",
   "metadata": {},
   "source": [
    "### Creating Arrays\n",
    "\n",
    "Arrays can be created from many \"list-like\" objects by calling `np.array` on the object."
   ]
  },
  {
   "cell_type": "code",
   "execution_count": 120,
   "metadata": {
    "ExecuteTime": {
     "end_time": "2024-07-03T18:15:10.623709Z",
     "start_time": "2024-07-03T18:15:10.620800Z"
    }
   },
   "outputs": [
    {
     "data": {
      "text/plain": "array([0, 1, 2, 3, 4, 5, 6, 7, 8, 9])"
     },
     "execution_count": 120,
     "metadata": {},
     "output_type": "execute_result"
    }
   ],
   "source": [
    "some_list = range(10)\n",
    "np.array(some_list)"
   ]
  },
  {
   "cell_type": "markdown",
   "metadata": {},
   "source": [
    "You may also created multi-dimensional, or `ndarray`s, in this way."
   ]
  },
  {
   "cell_type": "code",
   "execution_count": 121,
   "metadata": {
    "ExecuteTime": {
     "end_time": "2024-07-03T18:15:10.636771Z",
     "start_time": "2024-07-03T18:15:10.634492Z"
    }
   },
   "outputs": [
    {
     "data": {
      "text/plain": "array([[1, 2, 3],\n       [4, 5, 6]])"
     },
     "execution_count": 121,
     "metadata": {},
     "output_type": "execute_result"
    }
   ],
   "source": [
    "some_ndlist = [\n",
    "    [1, 2, 3],\n",
    "    [4, 5, 6]\n",
    "]\n",
    "np.array(some_ndlist)"
   ]
  },
  {
   "cell_type": "markdown",
   "metadata": {},
   "source": [
    "#### Zeros"
   ]
  },
  {
   "cell_type": "markdown",
   "metadata": {},
   "source": [
    "Sometimes you just need a _uniform_ array of some value. Here are some examples of how you can make these."
   ]
  },
  {
   "cell_type": "code",
   "execution_count": 122,
   "metadata": {
    "ExecuteTime": {
     "end_time": "2024-07-03T18:15:10.647808Z",
     "start_time": "2024-07-03T18:15:10.642994Z"
    }
   },
   "outputs": [
    {
     "data": {
      "text/plain": "array([0., 0., 0., 0., 0.])"
     },
     "execution_count": 122,
     "metadata": {},
     "output_type": "execute_result"
    }
   ],
   "source": [
    "np.zeros(5)"
   ]
  },
  {
   "cell_type": "markdown",
   "metadata": {},
   "source": [
    "In the following example, we pass in a `tuple` (kind of like a list) with the shape of the array we want, ie. `(5, 5)`. _**The resulting array has two dimensions (rows and columns)**_."
   ]
  },
  {
   "cell_type": "code",
   "execution_count": 123,
   "metadata": {
    "ExecuteTime": {
     "end_time": "2024-07-03T18:15:10.701647Z",
     "start_time": "2024-07-03T18:15:10.699071Z"
    }
   },
   "outputs": [
    {
     "data": {
      "text/plain": "array([[0., 0., 0.],\n       [0., 0., 0.],\n       [0., 0., 0.],\n       [0., 0., 0.],\n       [0., 0., 0.]])"
     },
     "execution_count": 123,
     "metadata": {},
     "output_type": "execute_result"
    }
   ],
   "source": [
    "np.zeros((5, 3))"
   ]
  },
  {
   "cell_type": "markdown",
   "metadata": {},
   "source": [
    "**Try this!** Create a three dimensional array of shape $2 \\times 3 \\times 4$ with zero entries.  "
   ]
  },
  {
   "cell_type": "code",
   "execution_count": 124,
   "metadata": {
    "ExecuteTime": {
     "end_time": "2024-07-03T18:15:10.715492Z",
     "start_time": "2024-07-03T18:15:10.712176Z"
    }
   },
   "outputs": [
    {
     "data": {
      "text/plain": "array([[[0., 0., 0., 0.],\n        [0., 0., 0., 0.],\n        [0., 0., 0., 0.]],\n\n       [[0., 0., 0., 0.],\n        [0., 0., 0., 0.],\n        [0., 0., 0., 0.]]])"
     },
     "execution_count": 124,
     "metadata": {},
     "output_type": "execute_result"
    }
   ],
   "source": [
    "# your code here \n",
    "np.zeros((2, 3, 4))"
   ]
  },
  {
   "cell_type": "markdown",
   "metadata": {},
   "source": [
    "This looks pretty complicated and luckily for our course we will mosly use one and two dimensional arrays as they can represent _vectors_ and _matrices_. "
   ]
  },
  {
   "cell_type": "markdown",
   "metadata": {},
   "source": [
    "#### Ones"
   ]
  },
  {
   "cell_type": "code",
   "execution_count": 125,
   "metadata": {
    "ExecuteTime": {
     "end_time": "2024-07-03T18:15:10.727181Z",
     "start_time": "2024-07-03T18:15:10.724797Z"
    }
   },
   "outputs": [
    {
     "data": {
      "text/plain": "array([1., 1., 1., 1., 1.])"
     },
     "execution_count": 125,
     "metadata": {},
     "output_type": "execute_result"
    }
   ],
   "source": [
    "np.ones(5)"
   ]
  },
  {
   "cell_type": "markdown",
   "metadata": {},
   "source": [
    "If you need an array of `5` then make an array of `ones` of the desired shape and multiple it by `5`."
   ]
  },
  {
   "cell_type": "code",
   "execution_count": 126,
   "metadata": {
    "ExecuteTime": {
     "end_time": "2024-07-03T18:15:10.787275Z",
     "start_time": "2024-07-03T18:15:10.784347Z"
    }
   },
   "outputs": [
    {
     "data": {
      "text/plain": "array([5., 5., 5., 5., 5.])"
     },
     "execution_count": 126,
     "metadata": {},
     "output_type": "execute_result"
    }
   ],
   "source": [
    "np.ones(5) * 5"
   ]
  },
  {
   "cell_type": "markdown",
   "metadata": {},
   "source": [
    "#### Evenly Spaced Sequences"
   ]
  },
  {
   "cell_type": "markdown",
   "metadata": {},
   "source": [
    "You can also get an array of evenly spaced numbers over a specified interval using `np.linspace`.\n",
    "\n",
    "```\n",
    "np.linspace(start, stop, number)\n",
    "```"
   ]
  },
  {
   "cell_type": "code",
   "execution_count": 127,
   "metadata": {
    "ExecuteTime": {
     "end_time": "2024-07-03T18:15:10.797890Z",
     "start_time": "2024-07-03T18:15:10.795479Z"
    }
   },
   "outputs": [
    {
     "data": {
      "text/plain": "array([ 0.        ,  0.52631579,  1.05263158,  1.57894737,  2.10526316,\n        2.63157895,  3.15789474,  3.68421053,  4.21052632,  4.73684211,\n        5.26315789,  5.78947368,  6.31578947,  6.84210526,  7.36842105,\n        7.89473684,  8.42105263,  8.94736842,  9.47368421, 10.        ])"
     },
     "execution_count": 127,
     "metadata": {},
     "output_type": "execute_result"
    }
   ],
   "source": [
    "np.linspace(0, 10, 20)"
   ]
  },
  {
   "cell_type": "markdown",
   "metadata": {},
   "source": [
    "### Thinking of Arrays as Vectors\n",
    "\n",
    "One of the main benefits of using arrays rather than lists is because of _vectorized_ operations, which essentially allow us to think of an entire array as a unit and operate at the array level — we don't have to concern ourselves with each individual number. \n",
    "> [🐍 **Python Feature** 🐍]: Python uses amazingly simple syntax: we can write `a+b` or `a*b` to compute the sum or product of two _scalars_ or two (same-sized) _vectors_ using the exacly same syntax. \n",
    "\n",
    "#### Scalars:"
   ]
  },
  {
   "cell_type": "code",
   "execution_count": 128,
   "metadata": {
    "ExecuteTime": {
     "end_time": "2024-07-03T18:15:10.809176Z",
     "start_time": "2024-07-03T18:15:10.807085Z"
    }
   },
   "outputs": [
    {
     "data": {
      "text/plain": "6"
     },
     "execution_count": 128,
     "metadata": {},
     "output_type": "execute_result"
    }
   ],
   "source": [
    "a = 5\n",
    "b = 1\n",
    "\n",
    "a + b"
   ]
  },
  {
   "cell_type": "code",
   "execution_count": 129,
   "metadata": {
    "ExecuteTime": {
     "end_time": "2024-07-03T18:15:10.866873Z",
     "start_time": "2024-07-03T18:15:10.864531Z"
    }
   },
   "outputs": [
    {
     "data": {
      "text/plain": "5"
     },
     "execution_count": 129,
     "metadata": {},
     "output_type": "execute_result"
    }
   ],
   "source": [
    "a * b"
   ]
  },
  {
   "cell_type": "markdown",
   "metadata": {},
   "source": [
    "#### Vectors:\n",
    "Below is an example of \"vectorized\" addition and \"vectorized\" multiplication."
   ]
  },
  {
   "cell_type": "code",
   "execution_count": 130,
   "metadata": {
    "ExecuteTime": {
     "end_time": "2024-07-03T18:15:10.885606Z",
     "start_time": "2024-07-03T18:15:10.883098Z"
    }
   },
   "outputs": [
    {
     "data": {
      "text/plain": "array([2., 3., 4.])"
     },
     "execution_count": 130,
     "metadata": {},
     "output_type": "execute_result"
    }
   ],
   "source": [
    "a = np.ones(3)             # a = [1, 1, 1]\n",
    "b = np.array([1, 2, 3])    # b = [1, 2, 3]\n",
    "\n",
    "a + b"
   ]
  },
  {
   "cell_type": "code",
   "execution_count": 131,
   "metadata": {
    "ExecuteTime": {
     "end_time": "2024-07-03T18:15:10.907843Z",
     "start_time": "2024-07-03T18:15:10.905522Z"
    }
   },
   "outputs": [
    {
     "data": {
      "text/plain": "array([1., 2., 3.])"
     },
     "execution_count": 131,
     "metadata": {},
     "output_type": "execute_result"
    }
   ],
   "source": [
    "a * b"
   ]
  },
  {
   "cell_type": "markdown",
   "metadata": {},
   "source": [
    "Note that multiplication above is carried out \"element-wise\". The i-th element in the resulting vector will be computed as: $$a_i b_i \\quad i=0, 1, \\ldots, d$$\n",
    "\n",
    "#### Dot Product\n",
    "In many cases, _vectorized_ operations are simply _element-wise operations_ as we have seen for addition and multiplication above. \n",
    "\n",
    "However, we need to pay special attention to products. A product between two vectors can be defined in multiple ways. Above we have seen _element-wise_ multiplication, but most often when we deal with vectors, especially in data science and machine learning, we actually want to compute the _dot product_, or _inner product_ of two $d$-dimensional vectors (mathspeak for $d$-sized arrays). \n",
    "\n",
    "The dot product between two vectors $\\textbf{a}$ and $\\textbf{b}$ is defined as \n",
    "$$\\textbf{a} \\cdot \\textbf{b} = \\textbf{a}^T\\textbf{b} = \\sum_{i=1}^{d} a_i b_i.$$ \n",
    "This translates to \"_multiply each element of $\\textbf{a}$ by the element at the same index in $\\textbf{b}$ and sum the products._\" Note that the *T* stands for transpose (more info [here](https://en.wikipedia.org/wiki/Row_and_column_vectors).\n",
    "\n",
    "A Python function for this might look like:"
   ]
  },
  {
   "cell_type": "code",
   "execution_count": 132,
   "metadata": {
    "ExecuteTime": {
     "end_time": "2024-07-03T18:15:10.949405Z",
     "start_time": "2024-07-03T18:15:10.947202Z"
    }
   },
   "outputs": [],
   "source": [
    "def dot_inefficient(a, b):\n",
    "    '''computes the dot product of A and B using Python built-in functions'''\n",
    "    products = []\n",
    "    \n",
    "    for i in range(len(a)):\n",
    "        p = a[i] * b[i]\n",
    "        products.append(p)\n",
    "        \n",
    "    return sum(products)"
   ]
  },
  {
   "cell_type": "code",
   "execution_count": 133,
   "metadata": {
    "ExecuteTime": {
     "end_time": "2024-07-03T18:15:10.977813Z",
     "start_time": "2024-07-03T18:15:10.975449Z"
    }
   },
   "outputs": [
    {
     "data": {
      "text/plain": "6.0"
     },
     "execution_count": 133,
     "metadata": {},
     "output_type": "execute_result"
    }
   ],
   "source": [
    "dot_inefficient(a, b)                  # 1*1 + 1*2 + 1*3 = 6"
   ]
  },
  {
   "cell_type": "markdown",
   "metadata": {},
   "source": [
    "#### Loops\n",
    "Notice the `for loop` that is required. **Python loops to perform vector operations are always inefficient!** Note that even simple \"element-wise\" products `a*b`, sums `a+b`, etc. will involve looping. \n",
    "\n",
    "Looping itself in Python is not necessarily slow, but given the constraints of this context (recall, we are only dealing with numbers and we know how many of them we have) we can do bettter by leveraging \"super\" fast C libraries to do this for us.\n",
    "\n",
    "> **For the curious**: In this case, we use Python and NumPy as an interface for highly optimized C routines."
   ]
  },
  {
   "cell_type": "markdown",
   "metadata": {},
   "source": [
    "**Try this!** Now that you know more about what you can do with arrays, let's try to revise our `dot` function to use NumPy computations."
   ]
  },
  {
   "cell_type": "code",
   "execution_count": 134,
   "metadata": {
    "ExecuteTime": {
     "end_time": "2024-07-03T18:15:11.004083Z",
     "start_time": "2024-07-03T18:15:11.001310Z"
    }
   },
   "outputs": [],
   "source": [
    "def dot_revised(a, b):\n",
    "    '''computes the dot product of A and B using NumPy computations'''\n",
    "    # your code here \n",
    "    solution = np.dot(a, b)\n",
    "    # without using .dot\n",
    "    solution = np.sum(a * b)\n",
    "\n",
    "    return solution"
   ]
  },
  {
   "cell_type": "code",
   "execution_count": 135,
   "metadata": {
    "ExecuteTime": {
     "end_time": "2024-07-03T18:15:11.018861Z",
     "start_time": "2024-07-03T18:15:11.016464Z"
    }
   },
   "outputs": [
    {
     "data": {
      "text/plain": "6.0"
     },
     "execution_count": 135,
     "metadata": {},
     "output_type": "execute_result"
    }
   ],
   "source": [
    "dot_revised(a, b)                  # 1*1 + 1*2 + 1*3 = 6"
   ]
  },
  {
   "cell_type": "markdown",
   "metadata": {},
   "source": [
    "Or even better: "
   ]
  },
  {
   "cell_type": "code",
   "execution_count": 136,
   "metadata": {
    "ExecuteTime": {
     "end_time": "2024-07-03T18:15:11.044688Z",
     "start_time": "2024-07-03T18:15:11.042018Z"
    }
   },
   "outputs": [
    {
     "data": {
      "text/plain": "6.0"
     },
     "execution_count": 136,
     "metadata": {},
     "output_type": "execute_result"
    }
   ],
   "source": [
    "np.dot(a,b)"
   ]
  },
  {
   "cell_type": "markdown",
   "metadata": {},
   "source": [
    "#### Array Operations\n",
    "There are many other vectorized array operations, such as `np.min`, `np.sqrt`, among others that also take advantage of the `array` datastructure to compute results very quickly. An extensive list of mathematical operations provided by NumPy can be found in [its documentation](https://docs.scipy.org/doc/numpy-1.14.0/reference/routines.math.html).\n",
    "\n",
    "Furthermore, some computations can be found as methods of arrays themselves. These include `array.min()`, `array.mean()`, etc. A list of these can be found [here](https://docs.scipy.org/doc/numpy-1.14.0/reference/arrays.ndarray.html#calculation)."
   ]
  },
  {
   "cell_type": "markdown",
   "metadata": {},
   "source": [
    "### Arrays as Matrices\n",
    "\n",
    "Arrays are considered to be very generic. They can be used to represent vectors, often as points in Euclidean space, but they can also just represent a collection of numbers you would like to do math with. Moving from $1$ dimension to $2$ dimensions, an array could represent both a collection of vectors aligned side-by-side or a matrix in a more traditional mathematical sense. We won't spend much time on the matrix sense as most of the applications of _ndarrays_ we will see in this class are better described as a collection of vectors.\n",
    "\n",
    "An example of this could be a collection of vectors representing the prices of several stocks and their \"earnings per share,\" which together are used in finance to compute a price-earnings ratio, or more commonly, a [P/E ratio](https://www.investopedia.com/university/peratio/peratio1.asp).\n",
    "\n",
    "$$\n",
    "\\begin{bmatrix}\n",
    "\\text{prices} \\\\\n",
    "\\text{earnings per share}\n",
    "\\end{bmatrix}\n",
    "=\n",
    "\\begin{bmatrix}\n",
    "175 & 150 & 180 \\\\\n",
    "1.60 & 1.03 & 2.00\n",
    "\\end{bmatrix}\n",
    "$$"
   ]
  },
  {
   "cell_type": "markdown",
   "metadata": {},
   "source": [
    "In NumPy, this could be represented by a 2D array as follows."
   ]
  },
  {
   "cell_type": "code",
   "execution_count": 137,
   "metadata": {
    "ExecuteTime": {
     "end_time": "2024-07-03T18:15:11.094865Z",
     "start_time": "2024-07-03T18:15:11.092036Z"
    }
   },
   "outputs": [
    {
     "data": {
      "text/plain": "array([[175.  , 150.  , 180.  ],\n       [  1.6 ,   1.03,   2.  ]])"
     },
     "execution_count": 137,
     "metadata": {},
     "output_type": "execute_result"
    }
   ],
   "source": [
    "prices = [175, 150, 180]\n",
    "earnings = [1.60, 1.03, 2.00]\n",
    "\n",
    "data = np.array([prices, earnings])\n",
    "data"
   ]
  },
  {
   "cell_type": "markdown",
   "metadata": {},
   "source": [
    "Here we have represented our data, $\\mathcal{D}$, as a collection of three column vectors, each representing one observation. With this data, we can calculate the P/E ratios of each of these stocks.\n",
    "\n",
    "$$\\text{P/E Ratio}\\; = \\frac{\\text{Price per Share}}{\\text{Earnings per Share}}$$"
   ]
  },
  {
   "cell_type": "code",
   "execution_count": 138,
   "metadata": {
    "ExecuteTime": {
     "end_time": "2024-07-03T18:15:11.105435Z",
     "start_time": "2024-07-03T18:15:11.103700Z"
    }
   },
   "outputs": [],
   "source": [
    "def pe_ratio(data):\n",
    "    prices = data[0, :] # all values from row 1\n",
    "    earnings = data[1, :] # row 2\n",
    "    \n",
    "    return prices / earnings"
   ]
  },
  {
   "cell_type": "code",
   "execution_count": 139,
   "metadata": {
    "ExecuteTime": {
     "end_time": "2024-07-03T18:15:11.119187Z",
     "start_time": "2024-07-03T18:15:11.117080Z"
    }
   },
   "outputs": [
    {
     "name": "stdout",
     "output_type": "stream",
     "text": [
      "P/E ratios are: [109.375      145.63106796  90.        ]\n"
     ]
    }
   ],
   "source": [
    "print(\"P/E ratios are:\", pe_ratio(data))"
   ]
  },
  {
   "cell_type": "markdown",
   "metadata": {},
   "source": [
    "> **Notice:**  we did **not** need to _manually_ loop through the elements. 😀"
   ]
  },
  {
   "cell_type": "markdown",
   "metadata": {},
   "source": [
    "### Arrays have Axes\n",
    "\n",
    "NumPy arrays have axes that correspond to the order of numbers supplied when indexing.\n",
    "\n",
    "![axes](utility/pics/elsp_0105.png)"
   ]
  },
  {
   "cell_type": "markdown",
   "metadata": {},
   "source": [
    "It makes sense to consider axes for many operations. For example, the `min` method on arrays will default to returning the minimum value in each column, preferring to follow axis 0. However, there are cases where you want to get the minimum of each row instead. For these cases, you can specify which axis `min` should use."
   ]
  },
  {
   "cell_type": "markdown",
   "metadata": {},
   "source": [
    "To demonstrate, we will use our sample BMI dataset. Here is a reminder of what the data looked like."
   ]
  },
  {
   "cell_type": "code",
   "execution_count": 140,
   "metadata": {
    "ExecuteTime": {
     "end_time": "2024-07-03T18:15:11.167431Z",
     "start_time": "2024-07-03T18:15:11.165083Z"
    }
   },
   "outputs": [
    {
     "data": {
      "text/plain": "array([[175.  , 150.  , 180.  ],\n       [  1.6 ,   1.03,   2.  ]])"
     },
     "execution_count": 140,
     "metadata": {},
     "output_type": "execute_result"
    }
   ],
   "source": [
    "data"
   ]
  },
  {
   "cell_type": "markdown",
   "metadata": {},
   "source": [
    "If we wanted to find the minimum value in `data` we would simply use the `min` method on the array as is done in the next cell."
   ]
  },
  {
   "cell_type": "code",
   "execution_count": 141,
   "metadata": {
    "ExecuteTime": {
     "end_time": "2024-07-03T18:15:11.185880Z",
     "start_time": "2024-07-03T18:15:11.183498Z"
    }
   },
   "outputs": [
    {
     "data": {
      "text/plain": "1.03"
     },
     "execution_count": 141,
     "metadata": {},
     "output_type": "execute_result"
    }
   ],
   "source": [
    "data.min()"
   ]
  },
  {
   "cell_type": "markdown",
   "metadata": {},
   "source": [
    "However, often times we would like to find the minimum value in a particular row or column. Depending on the data you are representing with the array, this might mean finding the minimum stock price and stock earnings per share as with our P/E ratio example."
   ]
  },
  {
   "cell_type": "markdown",
   "metadata": {},
   "source": [
    "We can find the minimum price and earnings (each row; axis 1) we can specify that `min` should find the `min` in a specific axis."
   ]
  },
  {
   "cell_type": "code",
   "execution_count": 142,
   "metadata": {
    "ExecuteTime": {
     "end_time": "2024-07-03T18:15:11.202580Z",
     "start_time": "2024-07-03T18:15:11.200220Z"
    }
   },
   "outputs": [
    {
     "data": {
      "text/plain": "array([150.  ,   1.03])"
     },
     "execution_count": 142,
     "metadata": {},
     "output_type": "execute_result"
    }
   ],
   "source": [
    "data.min(axis=1)"
   ]
  },
  {
   "cell_type": "markdown",
   "metadata": {},
   "source": [
    "Many vectorized operations that manipulate arrays can take an axis argument, allowing you more flexibility."
   ]
  },
  {
   "cell_type": "markdown",
   "metadata": {},
   "source": [
    "Now, using the power of arrays, let's reattempt our goal from above to find the oldest student, Alex, in the group of students. Note that we do not want strings in our numpy arrays, so we will put the names into a list and the numeric entries into a two dimensional array (matrix). "
   ]
  },
  {
   "cell_type": "code",
   "execution_count": 143,
   "metadata": {
    "ExecuteTime": {
     "end_time": "2024-07-03T18:15:11.251755Z",
     "start_time": "2024-07-03T18:15:11.248677Z"
    }
   },
   "outputs": [
    {
     "data": {
      "text/plain": "array([[  21, 2021],\n       [  18, 2020],\n       [  21, 2019],\n       [  50, 2021],\n       [  21, 2020]])"
     },
     "execution_count": 143,
     "metadata": {},
     "output_type": "execute_result"
    }
   ],
   "source": [
    "names = ['Billy','Meghan','Jeff', 'Alex','Cate']\n",
    "roster = [\n",
    "    [21, 2021],\n",
    "    [18, 2020],\n",
    "    [21, 2019],\n",
    "    [50, 2021],\n",
    "    [21, 2020]\n",
    "]\n",
    "R = np.array(roster)\n",
    "R"
   ]
  },
  {
   "cell_type": "markdown",
   "metadata": {},
   "source": [
    "**Try this!** Get the age and graduation year of the oldest person in our `roster` with Python built-in functions."
   ]
  },
  {
   "cell_type": "code",
   "execution_count": 144,
   "metadata": {
    "ExecuteTime": {
     "end_time": "2024-07-03T18:15:11.274995Z",
     "start_time": "2024-07-03T18:15:11.272471Z"
    }
   },
   "outputs": [
    {
     "data": {
      "text/plain": "(50, 2021)"
     },
     "execution_count": 144,
     "metadata": {},
     "output_type": "execute_result"
    }
   ],
   "source": [
    "# your code here \n",
    "max_age = max(R[:,0])\n",
    "grad_year = R[R[:,0].argmax(), 1]\n",
    "max_age, grad_year"
   ]
  },
  {
   "cell_type": "markdown",
   "metadata": {},
   "source": [
    "The array approach to doing this would be to identify the row that contains the greatest age. First, we can find the [`argmax`](https://docs.scipy.org/doc/numpy/reference/generated/numpy.argmax.html), or the \"arg with the max value\" of the first column in `R` — this will return the index of the row containing the max. Then, we can simply retrieve the value in `names` at that index.\n",
    "\n",
    "This comes together in the following cell."
   ]
  },
  {
   "cell_type": "code",
   "execution_count": 145,
   "metadata": {
    "ExecuteTime": {
     "end_time": "2024-07-03T18:15:11.323996Z",
     "start_time": "2024-07-03T18:15:11.321538Z"
    }
   },
   "outputs": [
    {
     "data": {
      "text/plain": "'Alex'"
     },
     "execution_count": 145,
     "metadata": {},
     "output_type": "execute_result"
    }
   ],
   "source": [
    "names[R[:,0].argmax()]"
   ]
  },
  {
   "cell_type": "markdown",
   "metadata": {},
   "source": [
    "**Try this!** Adapt your code to reveal the name of the youngest person. You can use the reference on [array functions](https://docs.scipy.org/doc/numpy-1.14.0/reference/arrays.ndarray.html#calculation) linked above."
   ]
  },
  {
   "cell_type": "code",
   "execution_count": 146,
   "metadata": {
    "ExecuteTime": {
     "end_time": "2024-07-03T18:15:11.351472Z",
     "start_time": "2024-07-03T18:15:11.348830Z"
    }
   },
   "outputs": [
    {
     "data": {
      "text/plain": "'Meghan'"
     },
     "execution_count": 146,
     "metadata": {},
     "output_type": "execute_result"
    }
   ],
   "source": [
    "# your code here \n",
    "names[R[:,0].argmin()]"
   ]
  }
 ],
 "metadata": {
  "kernelspec": {
   "display_name": "Python 3 (ipykernel)",
   "language": "python",
   "name": "python3"
  },
  "language_info": {
   "codemirror_mode": {
    "name": "ipython",
    "version": 3
   },
   "file_extension": ".py",
   "mimetype": "text/x-python",
   "name": "python",
   "nbconvert_exporter": "python",
   "pygments_lexer": "ipython3",
   "version": "3.10.12"
  }
 },
 "nbformat": 4,
 "nbformat_minor": 4
}
