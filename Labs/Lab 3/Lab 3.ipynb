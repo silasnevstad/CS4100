{
 "cells": [
  {
   "cell_type": "code",
   "execution_count": 102,
   "metadata": {
    "collapsed": false,
    "ExecuteTime": {
     "end_time": "2024-07-26T17:20:20.681616Z",
     "start_time": "2024-07-26T17:20:20.675897Z"
    }
   },
   "outputs": [],
   "source": [
    "# For tips on running notebooks in Google Colab, see\n",
    "# https://pytorch.org/tutorials/beginner/colab\n",
    "%matplotlib inline"
   ]
  },
  {
   "cell_type": "markdown",
   "metadata": {},
   "source": [
    "Tensors\n",
    "=======\n",
    "\n",
    "Tensors are a specialized data structure that are very similar to arrays\n",
    "and matrices. In PyTorch, we use tensors to encode the inputs and\n",
    "outputs of a model, as well as the model's parameters.\n",
    "\n",
    "Tensors are similar to [NumPy's](https://numpy.org/) ndarrays, except\n",
    "that tensors can run on GPUs or other hardware accelerators. In fact,\n",
    "tensors and NumPy arrays can often share the same underlying memory,\n",
    "eliminating the need to copy data (see\n",
    "`bridge-to-np-label`{.interpreted-text role=\"ref\"}). Tensors are also\n",
    "optimized for automatic differentiation (we\\'ll see more about that\n",
    "later in the [Autograd](autogradqs_tutorial.html) section). If you're\n",
    "familiar with ndarrays, you'll be right at home with the Tensor API. If\n",
    "not, follow along!\n"
   ]
  },
  {
   "cell_type": "code",
   "execution_count": 103,
   "metadata": {
    "collapsed": false,
    "ExecuteTime": {
     "end_time": "2024-07-26T17:20:21.121702Z",
     "start_time": "2024-07-26T17:20:21.119235Z"
    }
   },
   "outputs": [],
   "source": [
    "import torch\n",
    "import numpy as np"
   ]
  },
  {
   "cell_type": "markdown",
   "metadata": {},
   "source": [
    "Initializing a Tensor\n",
    "=====================\n",
    "\n",
    "Tensors can be initialized in various ways. Take a look at the following\n",
    "examples:\n",
    "\n",
    "**Directly from data**\n",
    "\n",
    "Tensors can be created directly from data. The data type is\n",
    "automatically inferred.\n"
   ]
  },
  {
   "cell_type": "code",
   "execution_count": 104,
   "metadata": {
    "collapsed": false,
    "ExecuteTime": {
     "end_time": "2024-07-26T17:20:21.131872Z",
     "start_time": "2024-07-26T17:20:21.128373Z"
    }
   },
   "outputs": [],
   "source": [
    "data = [[1, 2],[3, 4]]\n",
    "x_data = torch.tensor(data)"
   ]
  },
  {
   "cell_type": "markdown",
   "metadata": {},
   "source": [
    "**From a NumPy array**\n",
    "\n",
    "Tensors can be created from NumPy arrays (and vice versa - see\n",
    "`bridge-to-np-label`{.interpreted-text role=\"ref\"}).\n"
   ]
  },
  {
   "cell_type": "code",
   "execution_count": 105,
   "metadata": {
    "collapsed": false,
    "ExecuteTime": {
     "end_time": "2024-07-26T17:20:21.159674Z",
     "start_time": "2024-07-26T17:20:21.156191Z"
    }
   },
   "outputs": [],
   "source": [
    "np_array = np.array(data)\n",
    "x_np = torch.from_numpy(np_array)"
   ]
  },
  {
   "cell_type": "markdown",
   "metadata": {},
   "source": [
    "**From another tensor:**\n",
    "\n",
    "The new tensor retains the properties (shape, datatype) of the argument\n",
    "tensor, unless explicitly overridden.\n"
   ]
  },
  {
   "cell_type": "code",
   "execution_count": 106,
   "metadata": {
    "collapsed": false,
    "ExecuteTime": {
     "end_time": "2024-07-26T17:20:21.196947Z",
     "start_time": "2024-07-26T17:20:21.191359Z"
    }
   },
   "outputs": [
    {
     "name": "stdout",
     "output_type": "stream",
     "text": [
      "Ones Tensor: \n",
      " tensor([[1, 1],\n",
      "        [1, 1]]) \n",
      "\n",
      "Random Tensor: \n",
      " tensor([[0.6845, 0.7968],\n",
      "        [0.1319, 0.0676]]) \n"
     ]
    }
   ],
   "source": [
    "x_ones = torch.ones_like(x_data) # retains the properties of x_data\n",
    "print(f\"Ones Tensor: \\n {x_ones} \\n\")\n",
    "\n",
    "x_rand = torch.rand_like(x_data, dtype=torch.float) # overrides the datatype of x_data\n",
    "print(f\"Random Tensor: \\n {x_rand} \\n\")"
   ]
  },
  {
   "cell_type": "markdown",
   "metadata": {},
   "source": [
    "**With random or constant values:**\n",
    "\n",
    "`shape` is a tuple of tensor dimensions. In the functions below, it\n",
    "determines the dimensionality of the output tensor.\n"
   ]
  },
  {
   "cell_type": "code",
   "execution_count": 107,
   "metadata": {
    "collapsed": false,
    "ExecuteTime": {
     "end_time": "2024-07-26T17:20:21.231050Z",
     "start_time": "2024-07-26T17:20:21.224991Z"
    }
   },
   "outputs": [
    {
     "name": "stdout",
     "output_type": "stream",
     "text": [
      "Random Tensor: \n",
      " tensor([[0.6691, 0.2227, 0.5243],\n",
      "        [0.2090, 0.1903, 0.2377]]) \n",
      "\n",
      "Ones Tensor: \n",
      " tensor([[1., 1., 1.],\n",
      "        [1., 1., 1.]]) \n",
      "\n",
      "Zeros Tensor: \n",
      " tensor([[0., 0., 0.],\n",
      "        [0., 0., 0.]])\n"
     ]
    }
   ],
   "source": [
    "shape = (2,3,)\n",
    "rand_tensor = torch.rand(shape)\n",
    "ones_tensor = torch.ones(shape)\n",
    "zeros_tensor = torch.zeros(shape)\n",
    "\n",
    "print(f\"Random Tensor: \\n {rand_tensor} \\n\")\n",
    "print(f\"Ones Tensor: \\n {ones_tensor} \\n\")\n",
    "print(f\"Zeros Tensor: \\n {zeros_tensor}\")"
   ]
  },
  {
   "cell_type": "markdown",
   "metadata": {},
   "source": [
    "------------------------------------------------------------------------\n"
   ]
  },
  {
   "cell_type": "markdown",
   "metadata": {},
   "source": [
    "Attributes of a Tensor\n",
    "======================\n",
    "\n",
    "Tensor attributes describe their shape, datatype, and the device on\n",
    "which they are stored.\n"
   ]
  },
  {
   "cell_type": "code",
   "execution_count": 108,
   "metadata": {
    "collapsed": false,
    "ExecuteTime": {
     "end_time": "2024-07-26T17:20:21.277243Z",
     "start_time": "2024-07-26T17:20:21.274620Z"
    }
   },
   "outputs": [
    {
     "name": "stdout",
     "output_type": "stream",
     "text": [
      "Shape of tensor: torch.Size([3, 4])\n",
      "Datatype of tensor: torch.float32\n",
      "Device tensor is stored on: cpu\n"
     ]
    }
   ],
   "source": [
    "tensor = torch.rand(3,4)\n",
    "\n",
    "print(f\"Shape of tensor: {tensor.shape}\")\n",
    "print(f\"Datatype of tensor: {tensor.dtype}\")\n",
    "print(f\"Device tensor is stored on: {tensor.device}\")"
   ]
  },
  {
   "cell_type": "markdown",
   "metadata": {},
   "source": [
    "------------------------------------------------------------------------\n"
   ]
  },
  {
   "cell_type": "markdown",
   "metadata": {},
   "source": [
    "Operations on Tensors\n",
    "=====================\n",
    "\n",
    "Over 100 tensor operations, including arithmetic, linear algebra, matrix\n",
    "manipulation (transposing, indexing, slicing), sampling and more are\n",
    "comprehensively described\n",
    "[here](https://pytorch.org/docs/stable/torch.html).\n",
    "\n",
    "Each of these operations can be run on the GPU (at typically higher\n",
    "speeds than on a CPU). If you're using Colab, allocate a GPU by going to\n",
    "Runtime \\> Change runtime type \\> GPU.\n",
    "\n",
    "By default, tensors are created on the CPU. We need to explicitly move\n",
    "tensors to the GPU using `.to` method (after checking for GPU\n",
    "availability). Keep in mind that copying large tensors across devices\n",
    "can be expensive in terms of time and memory!\n"
   ]
  },
  {
   "cell_type": "code",
   "execution_count": 109,
   "metadata": {
    "collapsed": false,
    "ExecuteTime": {
     "end_time": "2024-07-26T17:20:21.301314Z",
     "start_time": "2024-07-26T17:20:21.298928Z"
    }
   },
   "outputs": [
    {
     "name": "stdout",
     "output_type": "stream",
     "text": [
      "GPU not available\n"
     ]
    }
   ],
   "source": [
    "# We move our tensor to the GPU if available\n",
    "if torch.cuda.is_available():\n",
    "    print(\"GPU available\")\n",
    "    tensor = tensor.to(\"cuda\")\n",
    "else:\n",
    "    print(\"GPU not available\")"
   ]
  },
  {
   "cell_type": "markdown",
   "metadata": {},
   "source": [
    "Try out some of the operations from the list. If you\\'re familiar with\n",
    "the NumPy API, you\\'ll find the Tensor API a breeze to use.\n"
   ]
  },
  {
   "cell_type": "markdown",
   "metadata": {},
   "source": [
    "**Standard numpy-like indexing and slicing:**\n"
   ]
  },
  {
   "cell_type": "code",
   "execution_count": 110,
   "metadata": {
    "collapsed": false,
    "ExecuteTime": {
     "end_time": "2024-07-26T17:20:21.355073Z",
     "start_time": "2024-07-26T17:20:21.349108Z"
    }
   },
   "outputs": [
    {
     "name": "stdout",
     "output_type": "stream",
     "text": [
      "First row: tensor([1., 1., 1., 1.])\n",
      "First column: tensor([1., 1., 1., 1.])\n",
      "Last column: tensor([1., 1., 1., 1.])\n",
      "tensor([[1., 0., 1., 1.],\n",
      "        [1., 0., 1., 1.],\n",
      "        [1., 0., 1., 1.],\n",
      "        [1., 0., 1., 1.]])\n"
     ]
    }
   ],
   "source": [
    "tensor = torch.ones(4, 4)\n",
    "print(f\"First row: {tensor[0]}\")\n",
    "print(f\"First column: {tensor[:, 0]}\")\n",
    "print(f\"Last column: {tensor[..., -1]}\")\n",
    "tensor[:,1] = 0\n",
    "print(tensor)"
   ]
  },
  {
   "cell_type": "markdown",
   "metadata": {},
   "source": [
    "**Joining tensors** You can use `torch.cat` to concatenate a sequence of\n",
    "tensors along a given dimension. See also\n",
    "[torch.stack](https://pytorch.org/docs/stable/generated/torch.stack.html),\n",
    "another tensor joining operator that is subtly different from\n",
    "`torch.cat`.\n"
   ]
  },
  {
   "cell_type": "code",
   "execution_count": 111,
   "metadata": {
    "collapsed": false,
    "ExecuteTime": {
     "end_time": "2024-07-26T17:20:21.364730Z",
     "start_time": "2024-07-26T17:20:21.362309Z"
    }
   },
   "outputs": [
    {
     "name": "stdout",
     "output_type": "stream",
     "text": [
      "tensor([[1., 0., 1., 1., 1., 0., 1., 1., 1., 0., 1., 1.],\n",
      "        [1., 0., 1., 1., 1., 0., 1., 1., 1., 0., 1., 1.],\n",
      "        [1., 0., 1., 1., 1., 0., 1., 1., 1., 0., 1., 1.],\n",
      "        [1., 0., 1., 1., 1., 0., 1., 1., 1., 0., 1., 1.]])\n"
     ]
    }
   ],
   "source": [
    "t1 = torch.cat([tensor, tensor, tensor], dim=1)\n",
    "print(t1)"
   ]
  },
  {
   "cell_type": "markdown",
   "metadata": {},
   "source": [
    "**Arithmetic operations**\n"
   ]
  },
  {
   "cell_type": "code",
   "execution_count": 112,
   "metadata": {
    "collapsed": false,
    "ExecuteTime": {
     "end_time": "2024-07-26T17:20:21.385691Z",
     "start_time": "2024-07-26T17:20:21.377881Z"
    }
   },
   "outputs": [
    {
     "name": "stdout",
     "output_type": "stream",
     "text": [
      "tensor([[3., 3., 3., 3.],\n",
      "        [3., 3., 3., 3.],\n",
      "        [3., 3., 3., 3.],\n",
      "        [3., 3., 3., 3.]])\n",
      "tensor([[1., 0., 1., 1.],\n",
      "        [1., 0., 1., 1.],\n",
      "        [1., 0., 1., 1.],\n",
      "        [1., 0., 1., 1.]])\n"
     ]
    }
   ],
   "source": [
    "# This computes the matrix multiplication between two tensors. y1, y2, y3 will have the same value\n",
    "# ``tensor.T`` returns the transpose of a tensor\n",
    "y1 = tensor @ tensor.T\n",
    "y2 = tensor.matmul(tensor.T)\n",
    "\n",
    "y3 = torch.rand_like(y1)\n",
    "torch.matmul(tensor, tensor.T, out=y3)\n",
    "print(y3)\n",
    "\n",
    "\n",
    "# This computes the element-wise product. z1, z2, z3 will have the same value\n",
    "z1 = tensor * tensor\n",
    "z2 = tensor.mul(tensor)\n",
    "\n",
    "z3 = torch.rand_like(tensor)\n",
    "torch.mul(tensor, tensor, out=z3)\n",
    "print(z3)"
   ]
  },
  {
   "cell_type": "markdown",
   "metadata": {},
   "source": [
    "**Single-element tensors** If you have a one-element tensor, for example\n",
    "by aggregating all values of a tensor into one value, you can convert it\n",
    "to a Python numerical value using `item()`:\n"
   ]
  },
  {
   "cell_type": "code",
   "execution_count": 113,
   "metadata": {
    "collapsed": false,
    "ExecuteTime": {
     "end_time": "2024-07-26T17:20:21.450698Z",
     "start_time": "2024-07-26T17:20:21.447011Z"
    }
   },
   "outputs": [
    {
     "name": "stdout",
     "output_type": "stream",
     "text": [
      "12.0 <class 'float'>\n"
     ]
    }
   ],
   "source": [
    "agg = tensor.sum()\n",
    "agg_item = agg.item()\n",
    "print(agg_item, type(agg_item))"
   ]
  },
  {
   "cell_type": "markdown",
   "metadata": {},
   "source": [
    "**In-place operations** Operations that store the result into the\n",
    "operand are called in-place. They are denoted by a `_` suffix. For\n",
    "example: `x.copy_(y)`, `x.t_()`, will change `x`.\n"
   ]
  },
  {
   "cell_type": "code",
   "execution_count": 114,
   "metadata": {
    "collapsed": false,
    "ExecuteTime": {
     "end_time": "2024-07-26T17:20:21.465669Z",
     "start_time": "2024-07-26T17:20:21.461652Z"
    }
   },
   "outputs": [
    {
     "name": "stdout",
     "output_type": "stream",
     "text": [
      "tensor([[1., 0., 1., 1.],\n",
      "        [1., 0., 1., 1.],\n",
      "        [1., 0., 1., 1.],\n",
      "        [1., 0., 1., 1.]]) \n",
      "\n",
      "tensor([[6., 5., 6., 6.],\n",
      "        [6., 5., 6., 6.],\n",
      "        [6., 5., 6., 6.],\n",
      "        [6., 5., 6., 6.]])\n"
     ]
    }
   ],
   "source": [
    "print(f\"{tensor} \\n\")\n",
    "tensor.add_(5)\n",
    "print(tensor)"
   ]
  },
  {
   "cell_type": "markdown",
   "metadata": {},
   "source": [
    "NOTE: In-place operations save some memory, but can be problematic when computing derivatives because of an immediate loss of history. Hence, their use is discouraged."
   ]
  },
  {
   "cell_type": "markdown",
   "metadata": {},
   "source": [
    "------------------------------------------------------------------------\n"
   ]
  },
  {
   "cell_type": "markdown",
   "metadata": {},
   "source": [
    "Bridge with NumPy\n",
    "=================\n",
    "\n",
    "Tensors on the CPU and NumPy arrays can share their underlying memory\n",
    "locations, and changing one will change the other.\n"
   ]
  },
  {
   "cell_type": "markdown",
   "metadata": {},
   "source": [
    "Tensor to NumPy array\n",
    "=====================\n"
   ]
  },
  {
   "cell_type": "code",
   "execution_count": 115,
   "metadata": {
    "collapsed": false,
    "ExecuteTime": {
     "end_time": "2024-07-26T17:20:21.473769Z",
     "start_time": "2024-07-26T17:20:21.470746Z"
    }
   },
   "outputs": [
    {
     "name": "stdout",
     "output_type": "stream",
     "text": [
      "t: tensor([1., 1., 1., 1., 1.])\n",
      "n: [1. 1. 1. 1. 1.]\n"
     ]
    }
   ],
   "source": [
    "t = torch.ones(5)\n",
    "print(f\"t: {t}\")\n",
    "n = t.numpy()\n",
    "print(f\"n: {n}\")"
   ]
  },
  {
   "cell_type": "markdown",
   "metadata": {},
   "source": [
    "A change in the tensor reflects in the NumPy array.\n"
   ]
  },
  {
   "cell_type": "code",
   "execution_count": 116,
   "metadata": {
    "collapsed": false,
    "ExecuteTime": {
     "end_time": "2024-07-26T17:20:21.526033Z",
     "start_time": "2024-07-26T17:20:21.523215Z"
    }
   },
   "outputs": [
    {
     "name": "stdout",
     "output_type": "stream",
     "text": [
      "t: tensor([2., 2., 2., 2., 2.])\n",
      "n: [2. 2. 2. 2. 2.]\n"
     ]
    }
   ],
   "source": [
    "t.add_(1)\n",
    "print(f\"t: {t}\")\n",
    "print(f\"n: {n}\")"
   ]
  },
  {
   "cell_type": "markdown",
   "metadata": {},
   "source": [
    "NumPy array to Tensor\n",
    "=====================\n"
   ]
  },
  {
   "cell_type": "code",
   "execution_count": 117,
   "metadata": {
    "collapsed": false,
    "ExecuteTime": {
     "end_time": "2024-07-26T17:20:21.542425Z",
     "start_time": "2024-07-26T17:20:21.540636Z"
    }
   },
   "outputs": [],
   "source": [
    "n = np.ones(5)\n",
    "t = torch.from_numpy(n)"
   ]
  },
  {
   "cell_type": "markdown",
   "metadata": {},
   "source": [
    "Changes in the NumPy array reflects in the tensor.\n"
   ]
  },
  {
   "cell_type": "code",
   "execution_count": 118,
   "metadata": {
    "collapsed": false,
    "ExecuteTime": {
     "end_time": "2024-07-26T17:20:21.553976Z",
     "start_time": "2024-07-26T17:20:21.551632Z"
    }
   },
   "outputs": [
    {
     "name": "stdout",
     "output_type": "stream",
     "text": [
      "t: tensor([2., 2., 2., 2., 2.], dtype=torch.float64)\n",
      "n: [2. 2. 2. 2. 2.]\n"
     ]
    }
   ],
   "source": [
    "np.add(n, 1, out=n)\n",
    "print(f\"t: {t}\")\n",
    "print(f\"n: {n}\")"
   ]
  },
  {
   "cell_type": "markdown",
   "metadata": {},
   "source": [
    "Datasets & DataLoaders\n",
    "======================"
   ]
  },
  {
   "cell_type": "markdown",
   "metadata": {},
   "source": [
    "Code for processing data samples can get messy and hard to maintain; we\n",
    "ideally want our dataset code to be decoupled from our model training\n",
    "code for better readability and modularity. PyTorch provides two data\n",
    "primitives: `torch.utils.data.DataLoader` and `torch.utils.data.Dataset`\n",
    "that allow you to use pre-loaded datasets as well as your own data.\n",
    "`Dataset` stores the samples and their corresponding labels, and\n",
    "`DataLoader` wraps an iterable around the `Dataset` to enable easy\n",
    "access to the samples.\n",
    "\n",
    "PyTorch domain libraries provide a number of pre-loaded datasets (such\n",
    "as FashionMNIST) that subclass `torch.utils.data.Dataset` and implement\n",
    "functions specific to the particular data. They can be used to prototype\n",
    "and benchmark your model. You can find them here: [Image\n",
    "Datasets](https://pytorch.org/vision/stable/datasets.html), [Text\n",
    "Datasets](https://pytorch.org/text/stable/datasets.html), and [Audio\n",
    "Datasets](https://pytorch.org/audio/stable/datasets.html)\n"
   ]
  },
  {
   "cell_type": "markdown",
   "metadata": {},
   "source": [
    "Loading a Dataset\n",
    "=================\n",
    "\n",
    "Here is an example of how to load the\n",
    "[Fashion-MNIST](https://research.zalando.com/project/fashion_mnist/fashion_mnist/)\n",
    "dataset from TorchVision. Fashion-MNIST is a dataset of Zalando's\n",
    "article images consisting of 60,000 training examples and 10,000 test\n",
    "examples. Each example comprises a 28×28 grayscale image and an\n",
    "associated label from one of 10 classes.\n",
    "\n",
    "We load the [FashionMNIST Dataset](https://pytorch.org/vision/stable/datasets.html#fashion-mnist) with the following parameters:\n",
    "\n",
    ":   -   `root` is the path where the train/test data is stored,\n",
    "    -   `train` specifies training or test dataset,\n",
    "    -   `download=True` downloads the data from the internet if it\\'s\n",
    "        not available at `root`.\n",
    "    -   `transform` and `target_transform` specify the feature and label\n",
    "        transformations\n"
   ]
  },
  {
   "cell_type": "code",
   "execution_count": 119,
   "metadata": {
    "collapsed": false,
    "ExecuteTime": {
     "end_time": "2024-07-26T17:20:21.636631Z",
     "start_time": "2024-07-26T17:20:21.600619Z"
    }
   },
   "outputs": [],
   "source": [
    "from torch.utils.data import Dataset\n",
    "from torchvision import datasets\n",
    "from torchvision.transforms import ToTensor\n",
    "import matplotlib.pyplot as plt\n",
    "\n",
    "\n",
    "training_data = datasets.FashionMNIST(\n",
    "    root=\"data\",\n",
    "    train=True,\n",
    "    download=True,\n",
    "    transform=ToTensor()\n",
    ")\n",
    "\n",
    "test_data = datasets.FashionMNIST(\n",
    "    root=\"data\",\n",
    "    train=False,\n",
    "    download=True,\n",
    "    transform=ToTensor()\n",
    ")"
   ]
  },
  {
   "cell_type": "markdown",
   "metadata": {},
   "source": [
    "Iterating and Visualizing the Dataset\n",
    "=====================================\n",
    "\n",
    "We can index `Datasets` manually like a list: `training_data[index]`. We\n",
    "use `matplotlib` to visualize some samples in our training data.\n"
   ]
  },
  {
   "cell_type": "code",
   "execution_count": 120,
   "metadata": {
    "collapsed": false,
    "ExecuteTime": {
     "end_time": "2024-07-26T17:20:21.870083Z",
     "start_time": "2024-07-26T17:20:21.649625Z"
    }
   },
   "outputs": [
    {
     "data": {
      "text/plain": "<Figure size 800x800 with 9 Axes>",
      "image/png": "[encoded data removed]"
     },
     "metadata": {},
     "output_type": "display_data"
    }
   ],
   "source": [
    "import matplotlib.pyplot as plt\n",
    "labels_map = {\n",
    "    0: \"T-Shirt\",\n",
    "    1: \"Trouser\",\n",
    "    2: \"Pullover\",\n",
    "    3: \"Dress\",\n",
    "    4: \"Coat\",\n",
    "    5: \"Sandal\",\n",
    "    6: \"Shirt\",\n",
    "    7: \"Sneaker\",\n",
    "    8: \"Bag\",\n",
    "    9: \"Ankle Boot\",\n",
    "}\n",
    "figure = plt.figure(figsize=(8, 8))\n",
    "cols, rows = 3, 3\n",
    "for i in range(1, cols * rows + 1):\n",
    "    sample_idx = torch.randint(len(training_data), size=(1,)).item()\n",
    "    img, label = training_data[sample_idx]\n",
    "    figure.add_subplot(rows, cols, i)\n",
    "    plt.title(labels_map[label])\n",
    "    plt.axis(\"off\")\n",
    "    plt.imshow(img.squeeze(), cmap=\"gray\")\n",
    "plt.show()"
   ]
  },
  {
   "cell_type": "markdown",
   "metadata": {},
   "source": [
    "------------------------------------------------------------------------\n"
   ]
  },
  {
   "cell_type": "markdown",
   "metadata": {},
   "source": [
    "Creating a Custom Dataset for your files\n",
    "========================================\n",
    "\n",
    "A custom Dataset class must implement three functions:\n",
    "<code>\\_\\_init\\_\\_</code>, <code>\\_\\_len\\_\\_</code>, and\n",
    "<code>\\_\\_getitem\\_\\_</code>. Take a look at this implementation; the\n",
    "FashionMNIST images are stored in a directory `img_dir`, and their\n",
    "labels are stored separately in a CSV file `annotations_file`.\n",
    "\n",
    "In the next sections, we\\'ll break down what\\'s happening in each of\n",
    "these functions.\n"
   ]
  },
  {
   "cell_type": "code",
   "execution_count": 121,
   "metadata": {
    "collapsed": false,
    "ExecuteTime": {
     "end_time": "2024-07-26T17:20:21.874468Z",
     "start_time": "2024-07-26T17:20:21.871094Z"
    }
   },
   "outputs": [],
   "source": [
    "import os\n",
    "import pandas as pd\n",
    "from torchvision.io import read_image\n",
    "\n",
    "class CustomImageDataset(Dataset):\n",
    "    def __init__(self, annotations_file, img_dir, transform=None, target_transform=None):\n",
    "        self.img_labels = pd.read_csv(annotations_file)\n",
    "        self.img_dir = img_dir\n",
    "        self.transform = transform\n",
    "        self.target_transform = target_transform\n",
    "\n",
    "    def __len__(self):\n",
    "        return len(self.img_labels)\n",
    "\n",
    "    def __getitem__(self, idx):\n",
    "        img_path = os.path.join(self.img_dir, self.img_labels.iloc[idx, 0])\n",
    "        image = read_image(img_path)\n",
    "        label = self.img_labels.iloc[idx, 1]\n",
    "        if self.transform:\n",
    "            image = self.transform(image)\n",
    "        if self.target_transform:\n",
    "            label = self.target_transform(label)\n",
    "        return image, label"
   ]
  },
  {
   "cell_type": "markdown",
   "metadata": {},
   "source": [
    "`__init__`\n",
    "==========\n",
    "\n",
    "The <code>\\_\\_init\\_\\_()</code> function is run once when instantiating the Dataset\n",
    "object. We initialize the directory containing the images, the\n",
    "annotations file, and both transforms (covered in more detail in the\n",
    "next section).\n",
    "\n",
    "The labels.csv file looks like: :\n",
    "\n",
    "    tshirt1.jpg, 0\n",
    "    tshirt2.jpg, 0\n",
    "    ......\n",
    "    ankleboot999.jpg, 9\n"
   ]
  },
  {
   "cell_type": "code",
   "execution_count": 122,
   "metadata": {
    "collapsed": false,
    "ExecuteTime": {
     "end_time": "2024-07-26T17:20:21.877271Z",
     "start_time": "2024-07-26T17:20:21.875251Z"
    }
   },
   "outputs": [],
   "source": [
    "def __init__(self, annotations_file, img_dir, transform=None, target_transform=None):\n",
    "    self.img_labels = pd.read_csv(annotations_file)\n",
    "    self.img_dir = img_dir\n",
    "    self.transform = transform\n",
    "    self.target_transform = target_transform"
   ]
  },
  {
   "cell_type": "markdown",
   "metadata": {},
   "source": [
    "`__len__`\n",
    "=========\n",
    "\n",
    "The <code>\\_\\_len\\_\\_()</code> function returns the number of samples in our dataset.\n",
    "\n",
    "Example:\n"
   ]
  },
  {
   "cell_type": "code",
   "execution_count": 123,
   "metadata": {
    "collapsed": false,
    "ExecuteTime": {
     "end_time": "2024-07-26T17:20:21.880481Z",
     "start_time": "2024-07-26T17:20:21.878762Z"
    }
   },
   "outputs": [],
   "source": [
    "def __len__(self):\n",
    "    return len(self.img_labels)"
   ]
  },
  {
   "cell_type": "markdown",
   "metadata": {},
   "source": [
    "`__getitem__`\n",
    "=============\n",
    "\n",
    "The <code>\\_\\_getitem\\_\\_()</code> function loads and returns a sample from the dataset\n",
    "at the given index `idx`. Based on the index, it identifies the image\\'s\n",
    "location on disk, converts that to a tensor using `read_image`,\n",
    "retrieves the corresponding label from the csv data in\n",
    "`self.img_labels`, calls the transform functions on them (if\n",
    "applicable), and returns the tensor image and corresponding label in a\n",
    "tuple.\n"
   ]
  },
  {
   "cell_type": "code",
   "execution_count": 124,
   "metadata": {
    "collapsed": false,
    "ExecuteTime": {
     "end_time": "2024-07-26T17:20:21.883433Z",
     "start_time": "2024-07-26T17:20:21.881221Z"
    }
   },
   "outputs": [],
   "source": [
    "def __getitem__(self, idx):\n",
    "    img_path = os.path.join(self.img_dir, self.img_labels.iloc[idx, 0])\n",
    "    image = read_image(img_path)\n",
    "    label = self.img_labels.iloc[idx, 1]\n",
    "    if self.transform:\n",
    "        image = self.transform(image)\n",
    "    if self.target_transform:\n",
    "        label = self.target_transform(label)\n",
    "    return image, label"
   ]
  },
  {
   "cell_type": "markdown",
   "metadata": {},
   "source": [
    "------------------------------------------------------------------------\n"
   ]
  },
  {
   "cell_type": "markdown",
   "metadata": {},
   "source": [
    "Preparing your data for training with DataLoaders\n",
    "=================================================\n",
    "\n",
    "The `Dataset` retrieves our dataset\\'s features and labels one sample at\n",
    "a time. While training a model, we typically want to pass samples in\n",
    "\\\"minibatches\\\", reshuffle the data at every epoch to reduce model\n",
    "overfitting, and use Python\\'s `multiprocessing` to speed up data\n",
    "retrieval.\n",
    "\n",
    "`DataLoader` is an iterable that abstracts this complexity for us in an\n",
    "easy API.\n"
   ]
  },
  {
   "cell_type": "code",
   "execution_count": 125,
   "metadata": {
    "collapsed": false,
    "ExecuteTime": {
     "end_time": "2024-07-26T17:20:21.893890Z",
     "start_time": "2024-07-26T17:20:21.884207Z"
    }
   },
   "outputs": [],
   "source": [
    "from torch.utils.data import DataLoader\n",
    "\n",
    "train_dataloader = DataLoader(training_data, batch_size=64, shuffle=True)\n",
    "test_dataloader = DataLoader(test_data, batch_size=64, shuffle=True)"
   ]
  },
  {
   "cell_type": "markdown",
   "metadata": {},
   "source": [
    "Iterate through the DataLoader\n",
    "==============================\n",
    "\n",
    "We have loaded that dataset into the `DataLoader` and can iterate\n",
    "through the dataset as needed. Each iteration below returns a batch of\n",
    "`train_features` and `train_labels` (containing `batch_size=64` features\n",
    "and labels respectively). Because we specified `shuffle=True`, after we\n",
    "iterate over all batches the data is shuffled (for finer-grained control\n",
    "over the data loading order, take a look at\n",
    "[Samplers](https://pytorch.org/docs/stable/data.html#data-loading-order-and-sampler)).\n"
   ]
  },
  {
   "cell_type": "code",
   "execution_count": 126,
   "metadata": {
    "collapsed": false,
    "ExecuteTime": {
     "end_time": "2024-07-26T17:20:21.961567Z",
     "start_time": "2024-07-26T17:20:21.894537Z"
    }
   },
   "outputs": [
    {
     "name": "stdout",
     "output_type": "stream",
     "text": [
      "Feature batch shape: torch.Size([64, 1, 28, 28])\n",
      "Labels batch shape: torch.Size([64])\n"
     ]
    },
    {
     "data": {
      "text/plain": "<Figure size 640x480 with 1 Axes>",
      "image/png": "[encoded data removed]"
     },
     "metadata": {},
     "output_type": "display_data"
    },
    {
     "name": "stdout",
     "output_type": "stream",
     "text": [
      "Label: 9\n"
     ]
    }
   ],
   "source": [
    "# Display image and label.\n",
    "train_features, train_labels = next(iter(train_dataloader))\n",
    "print(f\"Feature batch shape: {train_features.size()}\")\n",
    "print(f\"Labels batch shape: {train_labels.size()}\")\n",
    "img = train_features[0].squeeze()\n",
    "label = train_labels[0]\n",
    "plt.imshow(img, cmap=\"gray\")\n",
    "plt.show()\n",
    "print(f\"Label: {label}\")"
   ]
  },
  {
   "cell_type": "markdown",
   "metadata": {},
   "source": [
    "------------------------------------------------------------------------\n"
   ]
  },
  {
   "cell_type": "markdown",
   "metadata": {},
   "source": [
    "Transforms\n",
    "==========\n",
    "\n",
    "Data does not always come in its final processed form that is required\n",
    "for training machine learning algorithms. We use **transforms** to\n",
    "perform some manipulation of the data and make it suitable for training.\n",
    "\n",
    "All TorchVision datasets have two parameters -`transform` to modify the\n",
    "features and `target_transform` to modify the labels - that accept\n",
    "callables containing the transformation logic. The\n",
    "[torchvision.transforms](https://pytorch.org/vision/stable/transforms.html)\n",
    "module offers several commonly-used transforms out of the box.\n",
    "\n",
    "The FashionMNIST features are in PIL Image format, and the labels are\n",
    "integers. For training, we need the features as normalized tensors, and\n",
    "the labels as one-hot encoded tensors. To make these transformations, we\n",
    "use `ToTensor` and `Lambda`.\n"
   ]
  },
  {
   "cell_type": "code",
   "execution_count": 127,
   "metadata": {
    "collapsed": false,
    "ExecuteTime": {
     "end_time": "2024-07-26T17:20:21.986918Z",
     "start_time": "2024-07-26T17:20:21.962284Z"
    }
   },
   "outputs": [],
   "source": [
    "from torchvision.transforms import ToTensor, Lambda\n",
    "\n",
    "ds = datasets.FashionMNIST(\n",
    "    root=\"data\",\n",
    "    train=True,\n",
    "    download=True,\n",
    "    transform=ToTensor(),\n",
    "    target_transform=Lambda(lambda y: torch.zeros(10, dtype=torch.float).scatter_(0, torch.tensor(y), value=1))\n",
    ")"
   ]
  },
  {
   "cell_type": "markdown",
   "metadata": {},
   "source": [
    "ToTensor()\n",
    "==========\n",
    "\n",
    "[ToTensor](https://pytorch.org/vision/stable/transforms.html#torchvision.transforms.ToTensor)\n",
    "converts a PIL image or NumPy `ndarray` into a `FloatTensor`. and scales\n",
    "the image\\'s pixel intensity values in the range \\[0., 1.\\]\n"
   ]
  },
  {
   "cell_type": "markdown",
   "metadata": {},
   "source": [
    "Lambda Transforms\n",
    "=================\n",
    "\n",
    "Lambda transforms apply any user-defined lambda function. Here, we\n",
    "define a function to turn the integer into a one-hot encoded tensor. It\n",
    "first creates a zero tensor of size 10 (the number of labels in our\n",
    "dataset) and calls\n",
    "[scatter\\_](https://pytorch.org/docs/stable/generated/torch.Tensor.scatter_.html)\n",
    "which assigns a `value=1` on the index as given by the label `y`.\n"
   ]
  },
  {
   "cell_type": "code",
   "execution_count": 128,
   "metadata": {
    "collapsed": false,
    "ExecuteTime": {
     "end_time": "2024-07-26T17:20:21.991222Z",
     "start_time": "2024-07-26T17:20:21.987621Z"
    }
   },
   "outputs": [],
   "source": [
    "target_transform = Lambda(lambda y: torch.zeros(\n",
    "    10, dtype=torch.float).scatter_(dim=0, index=torch.tensor(y), value=1))"
   ]
  },
  {
   "cell_type": "markdown",
   "metadata": {},
   "source": [
    "Further Reading\n",
    "===============\n",
    "\n",
    "-   [torchvision.transforms\n",
    "    API](https://pytorch.org/vision/stable/transforms.html)\n"
   ]
  },
  {
   "cell_type": "markdown",
   "metadata": {},
   "source": [
    "------------------------------------------------------------------------\n"
   ]
  },
  {
   "cell_type": "markdown",
   "metadata": {},
   "source": [
    "Build the Neural Network\n",
    "========================\n",
    "\n",
    "Neural networks comprise of layers/modules that perform operations on\n",
    "data. The [torch.nn](https://pytorch.org/docs/stable/nn.html) namespace\n",
    "provides all the building blocks you need to build your own neural\n",
    "network. Every module in PyTorch subclasses the\n",
    "[nn.Module](https://pytorch.org/docs/stable/generated/torch.nn.Module.html).\n",
    "A neural network is a module itself that consists of other modules\n",
    "(layers). This nested structure allows for building and managing complex\n",
    "architectures easily.\n",
    "\n",
    "In the following sections, we\\'ll build a neural network to classify\n",
    "images in the FashionMNIST dataset.\n"
   ]
  },
  {
   "cell_type": "code",
   "execution_count": 129,
   "metadata": {
    "collapsed": false,
    "ExecuteTime": {
     "end_time": "2024-07-26T17:20:21.995520Z",
     "start_time": "2024-07-26T17:20:21.993409Z"
    }
   },
   "outputs": [],
   "source": [
    "from torch import nn\n",
    "from torchvision import transforms"
   ]
  },
  {
   "cell_type": "markdown",
   "metadata": {},
   "source": [
    "Get Device for Training\n",
    "=======================\n",
    "\n",
    "We want to be able to train our model on a hardware accelerator like the\n",
    "GPU or MPS, if available. Let\\'s check to see if\n",
    "[torch.cuda](https://pytorch.org/docs/stable/notes/cuda.html) or\n",
    "[torch.backends.mps](https://pytorch.org/docs/stable/notes/mps.html) are\n",
    "available, otherwise we use the CPU.\n"
   ]
  },
  {
   "cell_type": "code",
   "execution_count": 130,
   "metadata": {
    "collapsed": false,
    "ExecuteTime": {
     "end_time": "2024-07-26T17:20:21.998810Z",
     "start_time": "2024-07-26T17:20:21.996347Z"
    }
   },
   "outputs": [
    {
     "name": "stdout",
     "output_type": "stream",
     "text": [
      "Using mps device\n"
     ]
    }
   ],
   "source": [
    "device = (\n",
    "    \"cuda\"\n",
    "    if torch.cuda.is_available()\n",
    "    else \"mps\"\n",
    "    if torch.backends.mps.is_available()\n",
    "    else \"cpu\"\n",
    ")\n",
    "print(f\"Using {device} device\")"
   ]
  },
  {
   "cell_type": "markdown",
   "metadata": {},
   "source": [
    "Define the Class\n",
    "================\n",
    "\n",
    "We define our neural network by subclassing `nn.Module`, and initialize\n",
    "the neural network layers in `__init__`. Every `nn.Module` subclass\n",
    "implements the operations on input data in the `forward` method."
   ]
  },
  {
   "cell_type": "code",
   "execution_count": 131,
   "metadata": {
    "collapsed": false,
    "ExecuteTime": {
     "end_time": "2024-07-26T17:20:22.002216Z",
     "start_time": "2024-07-26T17:20:21.999540Z"
    }
   },
   "outputs": [],
   "source": [
    "class NeuralNetwork(nn.Module):\n",
    "    def __init__(self):\n",
    "        super().__init__()\n",
    "        self.flatten = nn.Flatten()\n",
    "        self.linear_relu_stack = nn.Sequential(\n",
    "            nn.Linear(28*28, 512),\n",
    "            nn.ReLU(),\n",
    "            nn.Linear(512, 512),\n",
    "            nn.ReLU(),\n",
    "            nn.Linear(512, 10),\n",
    "        )\n",
    "\n",
    "    def forward(self, x):\n",
    "        x = self.flatten(x)\n",
    "        logits = self.linear_relu_stack(x)\n",
    "        return logits"
   ]
  },
  {
   "cell_type": "markdown",
   "metadata": {},
   "source": [
    "We create an instance of `NeuralNetwork`, and move it to the `device`,\n",
    "and print its structure.\n"
   ]
  },
  {
   "cell_type": "code",
   "execution_count": 132,
   "metadata": {
    "collapsed": false,
    "ExecuteTime": {
     "end_time": "2024-07-26T17:20:22.058697Z",
     "start_time": "2024-07-26T17:20:22.003047Z"
    }
   },
   "outputs": [
    {
     "name": "stdout",
     "output_type": "stream",
     "text": [
      "NeuralNetwork(\n",
      "  (flatten): Flatten(start_dim=1, end_dim=-1)\n",
      "  (linear_relu_stack): Sequential(\n",
      "    (0): Linear(in_features=784, out_features=512, bias=True)\n",
      "    (1): ReLU()\n",
      "    (2): Linear(in_features=512, out_features=512, bias=True)\n",
      "    (3): ReLU()\n",
      "    (4): Linear(in_features=512, out_features=10, bias=True)\n",
      "  )\n",
      ")\n"
     ]
    }
   ],
   "source": [
    "model = NeuralNetwork().to(device)\n",
    "print(model)"
   ]
  },
  {
   "cell_type": "markdown",
   "metadata": {},
   "source": [
    "To use the model, we pass it the input data. This executes the model\\'s\n",
    "`forward`, along with some [background\n",
    "operations](https://github.com/pytorch/pytorch/blob/270111b7b611d174967ed204776985cefca9c144/torch/nn/modules/module.py#L866).\n",
    "Do not call `model.forward()` directly!\n",
    "\n",
    "Calling the model on the input returns a 2-dimensional tensor with dim=0\n",
    "corresponding to each output of 10 raw predicted values for each class,\n",
    "and dim=1 corresponding to the individual values of each output. We get\n",
    "the prediction probabilities by passing it through an instance of the\n",
    "`nn.Softmax` module.\n"
   ]
  },
  {
   "cell_type": "code",
   "execution_count": 133,
   "metadata": {
    "collapsed": false,
    "ExecuteTime": {
     "end_time": "2024-07-26T17:20:22.077992Z",
     "start_time": "2024-07-26T17:20:22.059632Z"
    }
   },
   "outputs": [
    {
     "name": "stdout",
     "output_type": "stream",
     "text": [
      "Predicted class: tensor([0], device='mps:0')\n"
     ]
    }
   ],
   "source": [
    "X = torch.rand(1, 28, 28, device=device)\n",
    "logits = model(X)\n",
    "pred_probab = nn.Softmax(dim=1)(logits)\n",
    "y_pred = pred_probab.argmax(1)\n",
    "print(f\"Predicted class: {y_pred}\")"
   ]
  },
  {
   "cell_type": "markdown",
   "metadata": {},
   "source": [
    "------------------------------------------------------------------------\n"
   ]
  },
  {
   "cell_type": "markdown",
   "metadata": {},
   "source": [
    "Model Layers\n",
    "============\n",
    "\n",
    "Let\\'s break down the layers in the FashionMNIST model. To illustrate\n",
    "it, we will take a sample minibatch of 3 images of size 28x28 and see\n",
    "what happens to it as we pass it through the network.\n"
   ]
  },
  {
   "cell_type": "code",
   "execution_count": 134,
   "metadata": {
    "collapsed": false,
    "ExecuteTime": {
     "end_time": "2024-07-26T17:20:22.081737Z",
     "start_time": "2024-07-26T17:20:22.078782Z"
    }
   },
   "outputs": [
    {
     "name": "stdout",
     "output_type": "stream",
     "text": [
      "torch.Size([3, 28, 28])\n"
     ]
    }
   ],
   "source": [
    "input_image = torch.rand(3,28,28)\n",
    "print(input_image.size())"
   ]
  },
  {
   "cell_type": "markdown",
   "metadata": {},
   "source": [
    "nn.Flatten\n",
    "==========\n",
    "\n",
    "We initialize the\n",
    "[nn.Flatten](https://pytorch.org/docs/stable/generated/torch.nn.Flatten.html)\n",
    "layer to convert each 2D 28x28 image into a contiguous array of 784\n",
    "pixel values ( the minibatch dimension (at dim=0) is maintained).\n"
   ]
  },
  {
   "cell_type": "code",
   "execution_count": 135,
   "metadata": {
    "collapsed": false,
    "ExecuteTime": {
     "end_time": "2024-07-26T17:20:22.086886Z",
     "start_time": "2024-07-26T17:20:22.083924Z"
    }
   },
   "outputs": [
    {
     "name": "stdout",
     "output_type": "stream",
     "text": [
      "torch.Size([3, 784])\n"
     ]
    }
   ],
   "source": [
    "flatten = nn.Flatten()\n",
    "flat_image = flatten(input_image)\n",
    "print(flat_image.size())"
   ]
  },
  {
   "cell_type": "markdown",
   "metadata": {},
   "source": [
    "nn.Linear\n",
    "=========\n",
    "\n",
    "The [linear\n",
    "layer](https://pytorch.org/docs/stable/generated/torch.nn.Linear.html)\n",
    "is a module that applies a linear transformation on the input using its\n",
    "stored weights and biases.\n"
   ]
  },
  {
   "cell_type": "code",
   "execution_count": 136,
   "metadata": {
    "collapsed": false,
    "ExecuteTime": {
     "end_time": "2024-07-26T17:20:22.091087Z",
     "start_time": "2024-07-26T17:20:22.087616Z"
    }
   },
   "outputs": [
    {
     "name": "stdout",
     "output_type": "stream",
     "text": [
      "torch.Size([3, 20])\n"
     ]
    }
   ],
   "source": [
    "layer1 = nn.Linear(in_features=28*28, out_features=20)\n",
    "hidden1 = layer1(flat_image)\n",
    "print(hidden1.size())"
   ]
  },
  {
   "cell_type": "markdown",
   "metadata": {},
   "source": [
    "nn.ReLU\n",
    "=======\n",
    "\n",
    "Non-linear activations are what create the complex mappings between the\n",
    "model\\'s inputs and outputs. They are applied after linear\n",
    "transformations to introduce *nonlinearity*, helping neural networks\n",
    "learn a wide variety of phenomena.\n",
    "\n",
    "In this model, we use\n",
    "[nn.ReLU](https://pytorch.org/docs/stable/generated/torch.nn.ReLU.html)\n",
    "between our linear layers, but there\\'s other activations to introduce\n",
    "non-linearity in your model.\n"
   ]
  },
  {
   "cell_type": "code",
   "execution_count": 137,
   "metadata": {
    "collapsed": false,
    "ExecuteTime": {
     "end_time": "2024-07-26T17:20:22.107843Z",
     "start_time": "2024-07-26T17:20:22.104115Z"
    }
   },
   "outputs": [
    {
     "name": "stdout",
     "output_type": "stream",
     "text": [
      "Before ReLU: tensor([[ 6.9865e-03, -3.8498e-01, -2.8768e-01, -8.1188e-01, -4.0348e-01,\n",
      "          2.3957e-01,  8.2933e-02, -1.7229e-01, -2.5624e-01,  4.9105e-02,\n",
      "          7.4405e-01,  3.4711e-01, -1.9117e-03, -4.1862e-01, -9.5466e-01,\n",
      "          4.9626e-02, -5.2283e-01, -4.7600e-02, -9.5103e-01, -1.7293e-02],\n",
      "        [-1.0338e-01, -5.7448e-01,  1.0685e-01, -7.2597e-01, -4.7768e-01,\n",
      "          1.8878e-01,  5.7903e-02, -3.0842e-01, -6.8847e-02,  2.8219e-01,\n",
      "          6.5772e-01,  4.4290e-01,  4.2189e-01, -3.4132e-01, -5.4363e-01,\n",
      "          1.3999e-01, -5.5880e-01,  5.6813e-02, -5.8121e-01,  5.2932e-04],\n",
      "        [-2.7595e-01, -5.8689e-01, -1.4475e-01, -1.6510e-01, -3.4138e-01,\n",
      "          4.8762e-01,  1.4370e-01, -6.7503e-02, -3.2720e-01, -6.1730e-02,\n",
      "          4.0536e-01,  9.3800e-01,  2.1293e-01, -8.7959e-02, -8.3305e-01,\n",
      "         -2.6455e-02, -6.7270e-01,  1.8137e-01, -6.4107e-01,  1.5452e-01]],\n",
      "       grad_fn=<AddmmBackward0>)\n",
      "\n",
      "\n",
      "After ReLU: tensor([[6.9865e-03, 0.0000e+00, 0.0000e+00, 0.0000e+00, 0.0000e+00, 2.3957e-01,\n",
      "         8.2933e-02, 0.0000e+00, 0.0000e+00, 4.9105e-02, 7.4405e-01, 3.4711e-01,\n",
      "         0.0000e+00, 0.0000e+00, 0.0000e+00, 4.9626e-02, 0.0000e+00, 0.0000e+00,\n",
      "         0.0000e+00, 0.0000e+00],\n",
      "        [0.0000e+00, 0.0000e+00, 1.0685e-01, 0.0000e+00, 0.0000e+00, 1.8878e-01,\n",
      "         5.7903e-02, 0.0000e+00, 0.0000e+00, 2.8219e-01, 6.5772e-01, 4.4290e-01,\n",
      "         4.2189e-01, 0.0000e+00, 0.0000e+00, 1.3999e-01, 0.0000e+00, 5.6813e-02,\n",
      "         0.0000e+00, 5.2932e-04],\n",
      "        [0.0000e+00, 0.0000e+00, 0.0000e+00, 0.0000e+00, 0.0000e+00, 4.8762e-01,\n",
      "         1.4370e-01, 0.0000e+00, 0.0000e+00, 0.0000e+00, 4.0536e-01, 9.3800e-01,\n",
      "         2.1293e-01, 0.0000e+00, 0.0000e+00, 0.0000e+00, 0.0000e+00, 1.8137e-01,\n",
      "         0.0000e+00, 1.5452e-01]], grad_fn=<ReluBackward0>)\n"
     ]
    }
   ],
   "source": [
    "print(f\"Before ReLU: {hidden1}\\n\\n\")\n",
    "hidden1 = nn.ReLU()(hidden1)\n",
    "print(f\"After ReLU: {hidden1}\")"
   ]
  },
  {
   "cell_type": "markdown",
   "metadata": {},
   "source": [
    "nn.Sequential\n",
    "=============\n",
    "\n",
    "[nn.Sequential](https://pytorch.org/docs/stable/generated/torch.nn.Sequential.html)\n",
    "is an ordered container of modules. The data is passed through all the\n",
    "modules in the same order as defined. You can use sequential containers\n",
    "to put together a quick network like `seq_modules`.\n"
   ]
  },
  {
   "cell_type": "code",
   "execution_count": 138,
   "metadata": {
    "collapsed": false,
    "ExecuteTime": {
     "end_time": "2024-07-26T17:20:22.240727Z",
     "start_time": "2024-07-26T17:20:22.238122Z"
    }
   },
   "outputs": [],
   "source": [
    "seq_modules = nn.Sequential(\n",
    "    flatten,\n",
    "    layer1,\n",
    "    nn.ReLU(),\n",
    "    nn.Linear(20, 10)\n",
    ")\n",
    "input_image = torch.rand(3,28,28)\n",
    "logits = seq_modules(input_image)"
   ]
  },
  {
   "cell_type": "markdown",
   "metadata": {},
   "source": [
    "nn.Softmax\n",
    "==========\n",
    "\n",
    "The last linear layer of the neural network returns [logits]{.title-ref}\n",
    "- raw values in \\[-infty, infty\\] - which are passed to the\n",
    "[nn.Softmax](https://pytorch.org/docs/stable/generated/torch.nn.Softmax.html)\n",
    "module. The logits are scaled to values \\[0, 1\\] representing the\n",
    "model\\'s predicted probabilities for each class. `dim` parameter\n",
    "indicates the dimension along which the values must sum to 1.\n"
   ]
  },
  {
   "cell_type": "code",
   "execution_count": 139,
   "metadata": {
    "collapsed": false,
    "ExecuteTime": {
     "end_time": "2024-07-26T17:20:22.287500Z",
     "start_time": "2024-07-26T17:20:22.285132Z"
    }
   },
   "outputs": [],
   "source": [
    "softmax = nn.Softmax(dim=1)\n",
    "pred_probab = softmax(logits)"
   ]
  },
  {
   "cell_type": "markdown",
   "metadata": {},
   "source": [
    "Model Parameters\n",
    "================\n",
    "\n",
    "Many layers inside a neural network are *parameterized*, i.e. have\n",
    "associated weights and biases that are optimized during training.\n",
    "Subclassing `nn.Module` automatically tracks all fields defined inside\n",
    "your model object, and makes all parameters accessible using your\n",
    "model\\'s `parameters()` or `named_parameters()` methods.\n",
    "\n",
    "In this example, we iterate over each parameter, and print its size and\n",
    "a preview of its values.\n"
   ]
  },
  {
   "cell_type": "code",
   "execution_count": 140,
   "metadata": {
    "collapsed": false,
    "ExecuteTime": {
     "end_time": "2024-07-26T17:20:22.402788Z",
     "start_time": "2024-07-26T17:20:22.368156Z"
    }
   },
   "outputs": [
    {
     "name": "stdout",
     "output_type": "stream",
     "text": [
      "Model structure: NeuralNetwork(\n",
      "  (flatten): Flatten(start_dim=1, end_dim=-1)\n",
      "  (linear_relu_stack): Sequential(\n",
      "    (0): Linear(in_features=784, out_features=512, bias=True)\n",
      "    (1): ReLU()\n",
      "    (2): Linear(in_features=512, out_features=512, bias=True)\n",
      "    (3): ReLU()\n",
      "    (4): Linear(in_features=512, out_features=10, bias=True)\n",
      "  )\n",
      ")\n",
      "\n",
      "\n",
      "Layer: linear_relu_stack.0.weight | Size: torch.Size([512, 784]) | Values : tensor([[ 0.0031,  0.0075, -0.0015,  ..., -0.0200, -0.0306, -0.0064],\n",
      "        [-0.0035,  0.0324,  0.0310,  ...,  0.0014, -0.0330, -0.0018]],\n",
      "       device='mps:0', grad_fn=<SliceBackward0>) \n",
      "\n",
      "Layer: linear_relu_stack.0.bias | Size: torch.Size([512]) | Values : tensor([ 0.0090, -0.0086], device='mps:0', grad_fn=<SliceBackward0>) \n",
      "\n",
      "Layer: linear_relu_stack.2.weight | Size: torch.Size([512, 512]) | Values : tensor([[-0.0246, -0.0067,  0.0134,  ..., -0.0396,  0.0412, -0.0292],\n",
      "        [-0.0235,  0.0040, -0.0078,  ...,  0.0164, -0.0432, -0.0117]],\n",
      "       device='mps:0', grad_fn=<SliceBackward0>) \n",
      "\n",
      "Layer: linear_relu_stack.2.bias | Size: torch.Size([512]) | Values : tensor([-0.0075,  0.0303], device='mps:0', grad_fn=<SliceBackward0>) \n",
      "\n",
      "Layer: linear_relu_stack.4.weight | Size: torch.Size([10, 512]) | Values : tensor([[-0.0383,  0.0041, -0.0274,  ...,  0.0152, -0.0109, -0.0380],\n",
      "        [ 0.0013,  0.0231,  0.0019,  ...,  0.0032,  0.0255,  0.0144]],\n",
      "       device='mps:0', grad_fn=<SliceBackward0>) \n",
      "\n",
      "Layer: linear_relu_stack.4.bias | Size: torch.Size([10]) | Values : tensor([ 0.0280, -0.0130], device='mps:0', grad_fn=<SliceBackward0>) \n"
     ]
    }
   ],
   "source": [
    "print(f\"Model structure: {model}\\n\\n\")\n",
    "\n",
    "for name, param in model.named_parameters():\n",
    "    print(f\"Layer: {name} | Size: {param.size()} | Values : {param[:2]} \\n\")"
   ]
  },
  {
   "cell_type": "markdown",
   "metadata": {},
   "source": [
    "------------------------------------------------------------------------\n"
   ]
  },
  {
   "cell_type": "markdown",
   "metadata": {},
   "source": [
    "Further Reading\n",
    "===============\n",
    "\n",
    "-   [torch.nn API](https://pytorch.org/docs/stable/nn.html)\n"
   ]
  },
  {
   "cell_type": "markdown",
   "metadata": {},
   "source": [
    "Automatic Differentiation with `torch.autograd`\n",
    "===============================================\n",
    "\n",
    "When training neural networks, the most frequently used algorithm is\n",
    "**back propagation**. In this algorithm, parameters (model weights) are\n",
    "adjusted according to the **gradient** of the loss function with respect\n",
    "to the given parameter.\n",
    "\n",
    "To compute those gradients, PyTorch has a built-in differentiation\n",
    "engine called `torch.autograd`. It supports automatic computation of\n",
    "gradient for any computational graph.\n",
    "\n",
    "Consider the simplest one-layer neural network, with input `x`,\n",
    "parameters `w` and `b`, and some loss function. It can be defined in\n",
    "PyTorch in the following manner:\n"
   ]
  },
  {
   "cell_type": "code",
   "execution_count": 141,
   "metadata": {
    "collapsed": false,
    "ExecuteTime": {
     "end_time": "2024-07-26T17:20:22.408716Z",
     "start_time": "2024-07-26T17:20:22.403914Z"
    }
   },
   "outputs": [],
   "source": [
    "x = torch.ones(5)  # input tensor\n",
    "y = torch.zeros(3)  # expected output\n",
    "w = torch.randn(5, 3, requires_grad=True)\n",
    "b = torch.randn(3, requires_grad=True)\n",
    "z = torch.matmul(x, w)+b\n",
    "loss = torch.nn.functional.binary_cross_entropy_with_logits(z, y)"
   ]
  },
  {
   "cell_type": "markdown",
   "metadata": {},
   "source": [
    "Tensors, Functions and Computational graph\n",
    "==========================================\n",
    "\n",
    "This code defines the following **computational graph**:\n",
    "\n",
    "![](https://pytorch.org/tutorials/_static/img/basics/comp-graph.png)\n",
    "\n",
    "In this network, `w` and `b` are **parameters**, which we need to\n",
    "optimize. Thus, we need to be able to compute the gradients of loss\n",
    "function with respect to those variables. In order to do that, we set\n",
    "the `requires_grad` property of those tensors.\n"
   ]
  },
  {
   "cell_type": "markdown",
   "metadata": {},
   "source": [
    "<div style=\"background-color: #54c7ec; color: #fff; font-weight: 700; padding-left: 10px; padding-top: 5px; padding-bottom: 5px\"><strong>NOTE:</strong></div>\n",
    "<div style=\"background-color: #f3f4f7; padding-left: 10px; padding-top: 10px; padding-bottom: 10px; padding-right: 10px\">\n",
    "<p style=\"color: #000\">You can set the value of <code>requires_grad</code> when creating atensor, or later by using <code>x.requires_grad_(True)</code> method.</p>\n",
    "</div>\n"
   ]
  },
  {
   "cell_type": "markdown",
   "metadata": {},
   "source": [
    "A function that we apply to tensors to construct computational graph is\n",
    "in fact an object of class `Function`. This object knows how to compute\n",
    "the function in the *forward* direction, and also how to compute its\n",
    "derivative during the *backward propagation* step. A reference to the\n",
    "backward propagation function is stored in `grad_fn` property of a\n",
    "tensor. You can find more information of `Function` [in the\n",
    "documentation](https://pytorch.org/docs/stable/autograd.html#function).\n"
   ]
  },
  {
   "cell_type": "code",
   "execution_count": 142,
   "metadata": {
    "collapsed": false,
    "ExecuteTime": {
     "end_time": "2024-07-26T17:20:22.411241Z",
     "start_time": "2024-07-26T17:20:22.409403Z"
    }
   },
   "outputs": [
    {
     "name": "stdout",
     "output_type": "stream",
     "text": [
      "Gradient function for z = <AddBackward0 object at 0x30d691e20>\n",
      "Gradient function for loss = <BinaryCrossEntropyWithLogitsBackward0 object at 0x342529730>\n"
     ]
    }
   ],
   "source": [
    "print(f\"Gradient function for z = {z.grad_fn}\")\n",
    "print(f\"Gradient function for loss = {loss.grad_fn}\")"
   ]
  },
  {
   "cell_type": "markdown",
   "metadata": {},
   "source": [
    "Computing Gradients\n",
    "===================\n",
    "\n",
    "To optimize weights of parameters in the neural network, we need to\n",
    "compute the derivatives of our loss function with respect to parameters,\n",
    "namely, we need $\\frac{\\partial loss}{\\partial w}$ and\n",
    "$\\frac{\\partial loss}{\\partial b}$ under some fixed values of `x` and\n",
    "`y`. To compute those derivatives, we call `loss.backward()`, and then\n",
    "retrieve the values from `w.grad` and `b.grad`:\n"
   ]
  },
  {
   "cell_type": "code",
   "execution_count": 143,
   "metadata": {
    "collapsed": false,
    "ExecuteTime": {
     "end_time": "2024-07-26T17:20:22.427330Z",
     "start_time": "2024-07-26T17:20:22.424424Z"
    }
   },
   "outputs": [
    {
     "name": "stdout",
     "output_type": "stream",
     "text": [
      "tensor([[0.0934, 0.2957, 0.3193],\n",
      "        [0.0934, 0.2957, 0.3193],\n",
      "        [0.0934, 0.2957, 0.3193],\n",
      "        [0.0934, 0.2957, 0.3193],\n",
      "        [0.0934, 0.2957, 0.3193]])\n",
      "tensor([0.0934, 0.2957, 0.3193])\n"
     ]
    }
   ],
   "source": [
    "loss.backward()\n",
    "print(w.grad)\n",
    "print(b.grad)"
   ]
  },
  {
   "cell_type": "markdown",
   "metadata": {},
   "source": [
    "<div style=\"background-color: #54c7ec; color: #fff; font-weight: 700; padding-left: 10px; padding-top: 5px; padding-bottom: 5px\"><strong>NOTE:</strong></div>\n",
    "<div style=\"background-color: #f3f4f7; padding-left: 10px; padding-top: 10px; padding-bottom: 10px; padding-right: 10px\">\n",
    "<ul style=\"color:#000\">\n",
    "<li>We can only obtain the <code>grad</code> properties for the leafnodes of the computational graph, which have <code>requires_grad</code> propertyset to <code>True</code>. For all other nodes in our graph, gradients will not beavailable.- We can only perform gradient calculations using<code>backward</code> once on a given graph, for performance reasons. If we needto do several <code>backward</code> calls on the same graph, we need to pass<code>retain_graph=True</code> to the <code>backward</code> call.</li>\n",
    "</ul>\n",
    "</div>\n"
   ]
  },
  {
   "cell_type": "markdown",
   "metadata": {},
   "source": [
    "Disabling Gradient Tracking\n",
    "===========================\n",
    "\n",
    "By default, all tensors with `requires_grad=True` are tracking their\n",
    "computational history and support gradient computation. However, there\n",
    "are some cases when we do not need to do that, for example, when we have\n",
    "trained the model and just want to apply it to some input data, i.e. we\n",
    "only want to do *forward* computations through the network. We can stop\n",
    "tracking computations by surrounding our computation code with\n",
    "`torch.no_grad()` block:\n"
   ]
  },
  {
   "cell_type": "code",
   "execution_count": 144,
   "metadata": {
    "collapsed": false,
    "ExecuteTime": {
     "end_time": "2024-07-26T17:20:22.436469Z",
     "start_time": "2024-07-26T17:20:22.434063Z"
    }
   },
   "outputs": [
    {
     "name": "stdout",
     "output_type": "stream",
     "text": [
      "True\n",
      "False\n"
     ]
    }
   ],
   "source": [
    "z = torch.matmul(x, w)+b\n",
    "print(z.requires_grad)\n",
    "\n",
    "with torch.no_grad():\n",
    "    z = torch.matmul(x, w)+b\n",
    "print(z.requires_grad)"
   ]
  },
  {
   "cell_type": "markdown",
   "metadata": {},
   "source": [
    "Another way to achieve the same result is to use the `detach()` method\n",
    "on the tensor:\n"
   ]
  },
  {
   "cell_type": "code",
   "execution_count": 145,
   "metadata": {
    "collapsed": false,
    "ExecuteTime": {
     "end_time": "2024-07-26T17:20:22.454337Z",
     "start_time": "2024-07-26T17:20:22.452030Z"
    }
   },
   "outputs": [
    {
     "name": "stdout",
     "output_type": "stream",
     "text": [
      "False\n"
     ]
    }
   ],
   "source": [
    "z = torch.matmul(x, w)+b\n",
    "z_det = z.detach()\n",
    "print(z_det.requires_grad)"
   ]
  },
  {
   "cell_type": "markdown",
   "metadata": {},
   "source": [
    "There are reasons you might want to disable gradient tracking:\n",
    "\n",
    ":   -   To mark some parameters in your neural network as **frozen\n",
    "        parameters**.\n",
    "    -   To **speed up computations** when you are only doing forward\n",
    "        pass, because computations on tensors that do not track\n",
    "        gradients would be more efficient.\n"
   ]
  },
  {
   "cell_type": "markdown",
   "metadata": {},
   "source": [
    "More on Computational Graphs\n",
    "============================\n",
    "\n",
    "Conceptually, autograd keeps a record of data (tensors) and all executed\n",
    "operations (along with the resulting new tensors) in a directed acyclic\n",
    "graph (DAG) consisting of\n",
    "[Function](https://pytorch.org/docs/stable/autograd.html#torch.autograd.Function)\n",
    "objects. In this DAG, leaves are the input tensors, roots are the output\n",
    "tensors. By tracing this graph from roots to leaves, you can\n",
    "automatically compute the gradients using the chain rule.\n",
    "\n",
    "In a forward pass, autograd does two things simultaneously:\n",
    "\n",
    "-   run the requested operation to compute a resulting tensor\n",
    "-   maintain the operation's *gradient function* in the DAG.\n",
    "\n",
    "The backward pass kicks off when `.backward()` is called on the DAG\n",
    "root. `autograd` then:\n",
    "\n",
    "-   computes the gradients from each `.grad_fn`,\n",
    "-   accumulates them in the respective tensor's `.grad` attribute\n",
    "-   using the chain rule, propagates all the way to the leaf tensors.\n",
    "\n",
    "<div style=\"background-color: #54c7ec; color: #fff; font-weight: 700; padding-left: 10px; padding-top: 5px; padding-bottom: 5px\"><strong>NOTE:</strong></div>\n",
    "<div style=\"background-color: #f3f4f7; padding-left: 10px; padding-top: 10px; padding-bottom: 10px; padding-right: 10px\">\n",
    "<p style=\"color:#000\">An important thing to note is that the graph is recreated from scratch; after each<code>.backward()</code> call, autograd starts populating a new graph. This isexactly what allows you to use control flow statements in your model;you can change the shape, size and operations at every iteration ifneeded.</p>\n",
    "</div>\n"
   ]
  },
  {
   "cell_type": "markdown",
   "metadata": {},
   "source": [
    "Tensor Gradients and Jacobian Products\n",
    "========================================================\n",
    "\n",
    "In many cases, we have a scalar loss function, and we need to compute\n",
    "the gradient with respect to some parameters. However, there are cases\n",
    "when the output function is an arbitrary tensor. In this case, PyTorch\n",
    "allows you to compute so-called **Jacobian product**, and not the actual\n",
    "gradient.\n",
    "\n",
    "For a vector function $\\vec{y}=f(\\vec{x})$, where\n",
    "$\\vec{x}=\\langle x_1,\\dots,x_n\\rangle$ and\n",
    "$\\vec{y}=\\langle y_1,\\dots,y_m\\rangle$, a gradient of $\\vec{y}$ with\n",
    "respect to $\\vec{x}$ is given by **Jacobian matrix**:\n",
    "\n",
    "$$\\begin{aligned}\n",
    "J=\\left(\\begin{array}{ccc}\n",
    "   \\frac{\\partial y_{1}}{\\partial x_{1}} & \\cdots & \\frac{\\partial y_{1}}{\\partial x_{n}}\\\\\n",
    "   \\vdots & \\ddots & \\vdots\\\\\n",
    "   \\frac{\\partial y_{m}}{\\partial x_{1}} & \\cdots & \\frac{\\partial y_{m}}{\\partial x_{n}}\n",
    "   \\end{array}\\right)\n",
    "\\end{aligned}$$\n",
    "\n",
    "Instead of computing the Jacobian matrix itself, PyTorch allows you to\n",
    "compute **Jacobian Product** $v^T\\cdot J$ for a given input vector\n",
    "$v=(v_1 \\dots v_m)$. This is achieved by calling `backward` with $v$ as\n",
    "an argument. The size of $v$ should be the same as the size of the\n",
    "original tensor, with respect to which we want to compute the product:\n"
   ]
  },
  {
   "cell_type": "code",
   "execution_count": 146,
   "metadata": {
    "collapsed": false,
    "ExecuteTime": {
     "end_time": "2024-07-26T17:20:22.529484Z",
     "start_time": "2024-07-26T17:20:22.523124Z"
    }
   },
   "outputs": [
    {
     "name": "stdout",
     "output_type": "stream",
     "text": [
      "First call\n",
      "tensor([[4., 2., 2., 2., 2.],\n",
      "        [2., 4., 2., 2., 2.],\n",
      "        [2., 2., 4., 2., 2.],\n",
      "        [2., 2., 2., 4., 2.]])\n",
      "\n",
      "Second call\n",
      "tensor([[8., 4., 4., 4., 4.],\n",
      "        [4., 8., 4., 4., 4.],\n",
      "        [4., 4., 8., 4., 4.],\n",
      "        [4., 4., 4., 8., 4.]])\n",
      "\n",
      "Call after zeroing gradients\n",
      "tensor([[4., 2., 2., 2., 2.],\n",
      "        [2., 4., 2., 2., 2.],\n",
      "        [2., 2., 4., 2., 2.],\n",
      "        [2., 2., 2., 4., 2.]])\n"
     ]
    }
   ],
   "source": [
    "inp = torch.eye(4, 5, requires_grad=True)\n",
    "out = (inp+1).pow(2).t()\n",
    "out.backward(torch.ones_like(out), retain_graph=True)\n",
    "print(f\"First call\\n{inp.grad}\")\n",
    "out.backward(torch.ones_like(out), retain_graph=True)\n",
    "print(f\"\\nSecond call\\n{inp.grad}\")\n",
    "inp.grad.zero_()\n",
    "out.backward(torch.ones_like(out), retain_graph=True)\n",
    "print(f\"\\nCall after zeroing gradients\\n{inp.grad}\")"
   ]
  },
  {
   "cell_type": "markdown",
   "metadata": {},
   "source": [
    "Notice that when we call `backward` for the second time with the same\n",
    "argument, the value of the gradient is different. This happens because\n",
    "when doing `backward` propagation, PyTorch **accumulates the\n",
    "gradients**, i.e. the value of computed gradients is added to the `grad`\n",
    "property of all leaf nodes of computational graph. If you want to\n",
    "compute the proper gradients, you need to zero out the `grad` property\n",
    "before. In real-life training an *optimizer* helps us to do this.\n"
   ]
  },
  {
   "cell_type": "markdown",
   "metadata": {},
   "source": [
    "<div style=\"background-color: #54c7ec; color: #fff; font-weight: 700; padding-left: 10px; padding-top: 5px; padding-bottom: 5px\"><strong>NOTE:</strong></div>\n",
    "<div style=\"background-color: #f3f4f7; padding-left: 10px; padding-top: 10px; padding-bottom: 10px; padding-right: 10px\">\n",
    "<p style=\"color:#000\">Previously we were calling <code>backward()</code> function withoutparameters. This is essentially equivalent to calling<code>backward(torch.tensor(1.0))</code>, which is a useful way to compute thegradients in case of a scalar-valued function, such as loss duringneural network training.</p>\n",
    "</div>\n"
   ]
  },
  {
   "cell_type": "markdown",
   "metadata": {},
   "source": [
    "------------------------------------------------------------------------\n"
   ]
  },
  {
   "cell_type": "markdown",
   "metadata": {},
   "source": [
    "Further Reading\n",
    "===============\n",
    "\n",
    "-   [Autograd\n",
    "    Mechanics](https://pytorch.org/docs/stable/notes/autograd.html)\n"
   ]
  },
  {
   "cell_type": "code",
   "execution_count": 147,
   "metadata": {
    "collapsed": false,
    "ExecuteTime": {
     "end_time": "2024-07-26T17:20:22.535706Z",
     "start_time": "2024-07-26T17:20:22.533524Z"
    }
   },
   "outputs": [],
   "source": [
    "# For tips on running notebooks in Google Colab, see\n",
    "# https://pytorch.org/tutorials/beginner/colab\n",
    "%matplotlib inline"
   ]
  },
  {
   "cell_type": "markdown",
   "metadata": {},
   "source": [
    "Optimizing Model Parameters\n",
    "===========================\n",
    "\n",
    "Now that we have a model and data it\\'s time to train, validate and test\n",
    "our model by optimizing its parameters on our data. Training a model is\n",
    "an iterative process; in each iteration the model makes a guess about\n",
    "the output, calculates the error in its guess (*loss*), collects the\n",
    "derivatives of the error with respect to its parameters (as we saw in\n",
    "the [previous section](autograd_tutorial.html)), and **optimizes** these\n",
    "parameters using gradient descent. For a more detailed walkthrough of\n",
    "this process, check out this video on [backpropagation from\n",
    "3Blue1Brown](https://www.youtube.com/watch?v=tIeHLnjs5U8).\n"
   ]
  },
  {
   "cell_type": "code",
   "execution_count": 148,
   "metadata": {
    "collapsed": false,
    "ExecuteTime": {
     "end_time": "2024-07-26T17:20:22.568135Z",
     "start_time": "2024-07-26T17:20:22.548030Z"
    }
   },
   "outputs": [],
   "source": [
    "training_data = datasets.FashionMNIST(\n",
    "    root=\"data\",\n",
    "    train=True,\n",
    "    download=True,\n",
    "    transform=ToTensor()\n",
    ")\n",
    "\n",
    "test_data = datasets.FashionMNIST(\n",
    "    root=\"data\",\n",
    "    train=False,\n",
    "    download=True,\n",
    "    transform=ToTensor()\n",
    ")\n",
    "\n",
    "train_dataloader = DataLoader(training_data, batch_size=64)\n",
    "test_dataloader = DataLoader(test_data, batch_size=64)\n",
    "\n",
    "class NeuralNetwork(nn.Module):\n",
    "    def __init__(self):\n",
    "        super().__init__()\n",
    "        self.flatten = nn.Flatten()\n",
    "        self.linear_relu_stack = nn.Sequential(\n",
    "            nn.Linear(28*28, 512),\n",
    "            nn.ReLU(),\n",
    "            nn.Linear(512, 512),\n",
    "            nn.ReLU(),\n",
    "            nn.Linear(512, 10),\n",
    "        )\n",
    "\n",
    "    def forward(self, x):\n",
    "        x = self.flatten(x)\n",
    "        logits = self.linear_relu_stack(x)\n",
    "        return logits\n",
    "\n",
    "model = NeuralNetwork()"
   ]
  },
  {
   "cell_type": "markdown",
   "metadata": {},
   "source": [
    "Hyperparameters\n",
    "===============\n",
    "\n",
    "Hyperparameters are adjustable parameters that let you control the model\n",
    "optimization process. Different hyperparameter values can impact model\n",
    "training and convergence rates ([read\n",
    "more](https://pytorch.org/tutorials/beginner/hyperparameter_tuning_tutorial.html)\n",
    "about hyperparameter tuning)\n",
    "\n",
    "We define the following hyperparameters for training:\n",
    "\n",
    ":   -   **Number of Epochs** - the number times to iterate over the\n",
    "        dataset\n",
    "    -   **Batch Size** - the number of data samples propagated through\n",
    "        the network before the parameters are updated\n",
    "    -   **Learning Rate** - how much to update models parameters at each\n",
    "        batch/epoch. Smaller values yield slow learning speed, while\n",
    "        large values may result in unpredictable behavior during\n",
    "        training.\n"
   ]
  },
  {
   "cell_type": "code",
   "execution_count": 149,
   "metadata": {
    "collapsed": false,
    "ExecuteTime": {
     "end_time": "2024-07-26T17:20:22.591832Z",
     "start_time": "2024-07-26T17:20:22.589802Z"
    }
   },
   "outputs": [],
   "source": [
    "learning_rate = 1e-3\n",
    "batch_size = 64\n",
    "epochs = 5"
   ]
  },
  {
   "cell_type": "markdown",
   "metadata": {},
   "source": [
    "Optimization Loop\n",
    "=================\n",
    "\n",
    "Once we set our hyperparameters, we can then train and optimize our\n",
    "model with an optimization loop. Each iteration of the optimization loop\n",
    "is called an **epoch**.\n",
    "\n",
    "Each epoch consists of two main parts:\n",
    "\n",
    "-   **The Train Loop** - iterate over the training dataset and try\n",
    "        to converge to optimal parameters.\n",
    "-   **The Validation/Test Loop** - iterate over the test dataset to\n",
    "        check if model performance is improving.\n",
    "\n",
    "Let\\'s briefly familiarize ourselves with some of the concepts used in\n",
    "the training loop. Jump ahead to see the\n",
    "`full-impl-label`{.interpreted-text role=\"ref\"} of the optimization\n",
    "loop.\n",
    "\n",
    "Loss Function\n",
    "-------------\n",
    "\n",
    "When presented with some training data, our untrained network is likely\n",
    "not to give the correct answer. **Loss function** measures the degree of\n",
    "dissimilarity of obtained result to the target value, and it is the loss\n",
    "function that we want to minimize during training. To calculate the loss\n",
    "we make a prediction using the inputs of our given data sample and\n",
    "compare it against the true data label value.\n",
    "\n",
    "Common loss functions include\n",
    "[nn.MSELoss](https://pytorch.org/docs/stable/generated/torch.nn.MSELoss.html#torch.nn.MSELoss)\n",
    "(Mean Square Error) for regression tasks, and\n",
    "[nn.NLLLoss](https://pytorch.org/docs/stable/generated/torch.nn.NLLLoss.html#torch.nn.NLLLoss)\n",
    "(Negative Log Likelihood) for classification.\n",
    "[nn.CrossEntropyLoss](https://pytorch.org/docs/stable/generated/torch.nn.CrossEntropyLoss.html#torch.nn.CrossEntropyLoss)\n",
    "combines `nn.LogSoftmax` and `nn.NLLLoss`.\n",
    "\n",
    "We pass our model\\'s output logits to `nn.CrossEntropyLoss`, which will\n",
    "normalize the logits and compute the prediction error.\n"
   ]
  },
  {
   "cell_type": "code",
   "execution_count": 150,
   "metadata": {
    "collapsed": false,
    "ExecuteTime": {
     "end_time": "2024-07-26T17:20:22.602742Z",
     "start_time": "2024-07-26T17:20:22.600865Z"
    }
   },
   "outputs": [],
   "source": [
    "# Initialize the loss function\n",
    "loss_fn = nn.CrossEntropyLoss()"
   ]
  },
  {
   "cell_type": "markdown",
   "metadata": {},
   "source": [
    "Optimizer\n",
    "=========\n",
    "\n",
    "Optimization is the process of adjusting model parameters to reduce\n",
    "model error in each training step. **Optimization algorithms** define\n",
    "how this process is performed (in this example we use Stochastic\n",
    "Gradient Descent). All optimization logic is encapsulated in the\n",
    "`optimizer` object. Here, we use the SGD optimizer; additionally, there\n",
    "are many [different\n",
    "optimizers](https://pytorch.org/docs/stable/optim.html) available in\n",
    "PyTorch such as ADAM and RMSProp, that work better for different kinds\n",
    "of models and data.\n",
    "\n",
    "We initialize the optimizer by registering the model\\'s parameters that\n",
    "need to be trained, and passing in the learning rate hyperparameter.\n"
   ]
  },
  {
   "cell_type": "code",
   "execution_count": 151,
   "metadata": {
    "collapsed": false,
    "ExecuteTime": {
     "end_time": "2024-07-26T17:20:22.614946Z",
     "start_time": "2024-07-26T17:20:22.612236Z"
    }
   },
   "outputs": [],
   "source": [
    "optimizer = torch.optim.SGD(model.parameters(), lr=learning_rate)"
   ]
  },
  {
   "cell_type": "markdown",
   "metadata": {},
   "source": [
    "Inside the training loop, optimization happens in three steps:\n",
    "\n",
    ":   -   Call `optimizer.zero_grad()` to reset the gradients of model\n",
    "        parameters. Gradients by default add up; to prevent\n",
    "        double-counting, we explicitly zero them at each iteration.\n",
    "    -   Backpropagate the prediction loss with a call to\n",
    "        `loss.backward()`. PyTorch deposits the gradients of the loss\n",
    "        w.r.t. each parameter.\n",
    "    -   Once we have our gradients, we call `optimizer.step()` to adjust\n",
    "        the parameters by the gradients collected in the backward pass.\n"
   ]
  },
  {
   "cell_type": "markdown",
   "metadata": {},
   "source": [
    "Full Implementation\n",
    "===================\n",
    "\n",
    "We define `train_loop` that loops over our optimization code, and\n",
    "`test_loop` that evaluates the model\\'s performance against our test\n",
    "data.\n"
   ]
  },
  {
   "cell_type": "code",
   "execution_count": 152,
   "metadata": {
    "collapsed": false,
    "ExecuteTime": {
     "end_time": "2024-07-26T17:20:22.650677Z",
     "start_time": "2024-07-26T17:20:22.646940Z"
    }
   },
   "outputs": [],
   "source": [
    "def train_loop(dataloader, model, loss_fn, optimizer):\n",
    "    size = len(dataloader.dataset)\n",
    "    # Set the model to training mode - important for batch normalization and dropout layers\n",
    "    # Unnecessary in this situation but added for best practices\n",
    "    model.train()\n",
    "    for batch, (X, y) in enumerate(dataloader):\n",
    "        # Compute prediction and loss\n",
    "        pred = model(X)\n",
    "        loss = loss_fn(pred, y)\n",
    "\n",
    "        # Backpropagation\n",
    "        loss.backward()\n",
    "        optimizer.step()\n",
    "        optimizer.zero_grad()\n",
    "\n",
    "        if batch % 100 == 0:\n",
    "            loss, current = loss.item(), batch * batch_size + len(X)\n",
    "            print(f\"loss: {loss:>7f}  [{current:>5d}/{size:>5d}]\")\n",
    "\n",
    "\n",
    "def test_loop(dataloader, model, loss_fn):\n",
    "    # Set the model to evaluation mode - important for batch normalization and dropout layers\n",
    "    # Unnecessary in this situation but added for best practices\n",
    "    model.eval()\n",
    "    size = len(dataloader.dataset)\n",
    "    num_batches = len(dataloader)\n",
    "    test_loss, correct = 0, 0\n",
    "\n",
    "    # Evaluating the model with torch.no_grad() ensures that no gradients are computed during test mode\n",
    "    # also serves to reduce unnecessary gradient computations and memory usage for tensors with requires_grad=True\n",
    "    with torch.no_grad():\n",
    "        for X, y in dataloader:\n",
    "            pred = model(X)\n",
    "            test_loss += loss_fn(pred, y).item()\n",
    "            correct += (pred.argmax(1) == y).type(torch.float).sum().item()\n",
    "\n",
    "    test_loss /= num_batches\n",
    "    correct /= size\n",
    "    print(f\"Test Error: \\n Accuracy: {(100*correct):>0.1f}%, Avg loss: {test_loss:>8f} \\n\")"
   ]
  },
  {
   "cell_type": "markdown",
   "metadata": {},
   "source": [
    "We initialize the loss function and optimizer, and pass it to\n",
    "`train_loop` and `test_loop`. Feel free to increase the number of epochs\n",
    "to track the model\\'s improving performance.\n"
   ]
  },
  {
   "cell_type": "code",
   "execution_count": 153,
   "metadata": {
    "collapsed": false,
    "ExecuteTime": {
     "end_time": "2024-07-26T17:20:49.484121Z",
     "start_time": "2024-07-26T17:20:22.656638Z"
    }
   },
   "outputs": [
    {
     "name": "stdout",
     "output_type": "stream",
     "text": [
      "Epoch 1\n",
      "-------------------------------\n",
      "loss: 2.310117  [   64/60000]\n",
      "loss: 2.292322  [ 6464/60000]\n",
      "loss: 2.263330  [12864/60000]\n",
      "loss: 2.258707  [19264/60000]\n",
      "loss: 2.254688  [25664/60000]\n",
      "loss: 2.213517  [32064/60000]\n",
      "loss: 2.233852  [38464/60000]\n",
      "loss: 2.190547  [44864/60000]\n",
      "loss: 2.189074  [51264/60000]\n",
      "loss: 2.160326  [57664/60000]\n",
      "Test Error: \n",
      " Accuracy: 36.6%, Avg loss: 2.145915 \n",
      "\n",
      "Epoch 2\n",
      "-------------------------------\n",
      "loss: 2.162745  [   64/60000]\n",
      "loss: 2.148282  [ 6464/60000]\n",
      "loss: 2.077654  [12864/60000]\n",
      "loss: 2.102281  [19264/60000]\n",
      "loss: 2.064460  [25664/60000]\n",
      "loss: 1.990561  [32064/60000]\n",
      "loss: 2.032287  [38464/60000]\n",
      "loss: 1.934636  [44864/60000]\n",
      "loss: 1.954543  [51264/60000]\n",
      "loss: 1.895108  [57664/60000]\n",
      "Test Error: \n",
      " Accuracy: 53.0%, Avg loss: 1.872827 \n",
      "\n",
      "Epoch 3\n",
      "-------------------------------\n",
      "loss: 1.908645  [   64/60000]\n",
      "loss: 1.876431  [ 6464/60000]\n",
      "loss: 1.744049  [12864/60000]\n",
      "loss: 1.802851  [19264/60000]\n",
      "loss: 1.710724  [25664/60000]\n",
      "loss: 1.647636  [32064/60000]\n",
      "loss: 1.685698  [38464/60000]\n",
      "loss: 1.564622  [44864/60000]\n",
      "loss: 1.608209  [51264/60000]\n",
      "loss: 1.521442  [57664/60000]\n",
      "Test Error: \n",
      " Accuracy: 57.1%, Avg loss: 1.517478 \n",
      "\n",
      "Epoch 4\n",
      "-------------------------------\n",
      "loss: 1.583489  [   64/60000]\n",
      "loss: 1.549607  [ 6464/60000]\n",
      "loss: 1.390097  [12864/60000]\n",
      "loss: 1.476879  [19264/60000]\n",
      "loss: 1.378836  [25664/60000]\n",
      "loss: 1.361473  [32064/60000]\n",
      "loss: 1.387674  [38464/60000]\n",
      "loss: 1.292008  [44864/60000]\n",
      "loss: 1.339537  [51264/60000]\n",
      "loss: 1.259770  [57664/60000]\n",
      "Test Error: \n",
      " Accuracy: 62.1%, Avg loss: 1.266592 \n",
      "\n",
      "Epoch 5\n",
      "-------------------------------\n",
      "loss: 1.340155  [   64/60000]\n",
      "loss: 1.322068  [ 6464/60000]\n",
      "loss: 1.153218  [12864/60000]\n",
      "loss: 1.264462  [19264/60000]\n",
      "loss: 1.158246  [25664/60000]\n",
      "loss: 1.175254  [32064/60000]\n",
      "loss: 1.202341  [38464/60000]\n",
      "loss: 1.120520  [44864/60000]\n",
      "loss: 1.169007  [51264/60000]\n",
      "loss: 1.103187  [57664/60000]\n",
      "Test Error: \n",
      " Accuracy: 64.4%, Avg loss: 1.106076 \n",
      "\n",
      "Epoch 6\n",
      "-------------------------------\n",
      "loss: 1.173255  [   64/60000]\n",
      "loss: 1.173708  [ 6464/60000]\n",
      "loss: 0.991710  [12864/60000]\n",
      "loss: 1.126258  [19264/60000]\n",
      "loss: 1.014138  [25664/60000]\n",
      "loss: 1.044548  [32064/60000]\n",
      "loss: 1.081666  [38464/60000]\n",
      "loss: 1.005913  [44864/60000]\n",
      "loss: 1.053016  [51264/60000]\n",
      "loss: 1.000611  [57664/60000]\n",
      "Test Error: \n",
      " Accuracy: 66.2%, Avg loss: 0.997578 \n",
      "\n",
      "Epoch 7\n",
      "-------------------------------\n",
      "loss: 1.052270  [   64/60000]\n",
      "loss: 1.073223  [ 6464/60000]\n",
      "loss: 0.876770  [12864/60000]\n",
      "loss: 1.030512  [19264/60000]\n",
      "loss: 0.918191  [25664/60000]\n",
      "loss: 0.948635  [32064/60000]\n",
      "loss: 0.998592  [38464/60000]\n",
      "loss: 0.927847  [44864/60000]\n",
      "loss: 0.969641  [51264/60000]\n",
      "loss: 0.930047  [57664/60000]\n",
      "Test Error: \n",
      " Accuracy: 67.7%, Avg loss: 0.921517 \n",
      "\n",
      "Epoch 8\n",
      "-------------------------------\n",
      "loss: 0.961166  [   64/60000]\n",
      "loss: 1.002038  [ 6464/60000]\n",
      "loss: 0.792622  [12864/60000]\n",
      "loss: 0.961565  [19264/60000]\n",
      "loss: 0.852127  [25664/60000]\n",
      "loss: 0.876663  [32064/60000]\n",
      "loss: 0.938699  [38464/60000]\n",
      "loss: 0.874155  [44864/60000]\n",
      "loss: 0.908571  [51264/60000]\n",
      "loss: 0.878909  [57664/60000]\n",
      "Test Error: \n",
      " Accuracy: 68.9%, Avg loss: 0.866205 \n",
      "\n",
      "Epoch 9\n",
      "-------------------------------\n",
      "loss: 0.890759  [   64/60000]\n",
      "loss: 0.948708  [ 6464/60000]\n",
      "loss: 0.729061  [12864/60000]\n",
      "loss: 0.910057  [19264/60000]\n",
      "loss: 0.804768  [25664/60000]\n",
      "loss: 0.821585  [32064/60000]\n",
      "loss: 0.893172  [38464/60000]\n",
      "loss: 0.836568  [44864/60000]\n",
      "loss: 0.863070  [51264/60000]\n",
      "loss: 0.840033  [57664/60000]\n",
      "Test Error: \n",
      " Accuracy: 70.1%, Avg loss: 0.824391 \n",
      "\n",
      "Epoch 10\n",
      "-------------------------------\n",
      "loss: 0.834817  [   64/60000]\n",
      "loss: 0.906447  [ 6464/60000]\n",
      "loss: 0.679434  [12864/60000]\n",
      "loss: 0.870449  [19264/60000]\n",
      "loss: 0.769044  [25664/60000]\n",
      "loss: 0.778782  [32064/60000]\n",
      "loss: 0.856921  [38464/60000]\n",
      "loss: 0.808922  [44864/60000]\n",
      "loss: 0.827979  [51264/60000]\n",
      "loss: 0.808986  [57664/60000]\n",
      "Test Error: \n",
      " Accuracy: 71.5%, Avg loss: 0.791451 \n",
      "\n",
      "Done!\n"
     ]
    }
   ],
   "source": [
    "loss_fn = nn.CrossEntropyLoss()\n",
    "optimizer = torch.optim.SGD(model.parameters(), lr=learning_rate)\n",
    "\n",
    "epochs = 10\n",
    "for t in range(epochs):\n",
    "    print(f\"Epoch {t+1}\\n-------------------------------\")\n",
    "    train_loop(train_dataloader, model, loss_fn, optimizer)\n",
    "    test_loop(test_dataloader, model, loss_fn)\n",
    "print(\"Done!\")"
   ]
  },
  {
   "cell_type": "markdown",
   "metadata": {},
   "source": [
    "Further Reading\n",
    "===============\n",
    "\n",
    "-   [Loss\n",
    "    Functions](https://pytorch.org/docs/stable/nn.html#loss-functions)\n",
    "-   [torch.optim](https://pytorch.org/docs/stable/optim.html)\n",
    "-   [Warmstart Training a\n",
    "    Model](https://pytorch.org/tutorials/recipes/recipes/warmstarting_model_using_parameters_from_a_different_model.html)\n"
   ]
  },
  {
   "cell_type": "markdown",
   "metadata": {},
   "source": [
    "Save and Load the Model\n",
    "=======================\n",
    "\n",
    "In this section we will look at how to persist model state with saving,\n",
    "loading and running model predictions.\n"
   ]
  },
  {
   "cell_type": "code",
   "execution_count": 154,
   "metadata": {
    "collapsed": false,
    "ExecuteTime": {
     "end_time": "2024-07-26T17:20:49.488379Z",
     "start_time": "2024-07-26T17:20:49.486037Z"
    }
   },
   "outputs": [],
   "source": [
    "import torchvision.models as models"
   ]
  },
  {
   "cell_type": "markdown",
   "metadata": {},
   "source": [
    "Saving and Loading Model Weights\n",
    "================================\n",
    "\n",
    "PyTorch models store the learned parameters in an internal state\n",
    "dictionary, called `state_dict`. These can be persisted via the\n",
    "`torch.save` method:\n"
   ]
  },
  {
   "cell_type": "code",
   "execution_count": 155,
   "metadata": {
    "collapsed": false,
    "ExecuteTime": {
     "end_time": "2024-07-26T17:20:50.927743Z",
     "start_time": "2024-07-26T17:20:49.489110Z"
    }
   },
   "outputs": [],
   "source": [
    "model = models.vgg16(weights='IMAGENET1K_V1')\n",
    "torch.save(model.state_dict(), 'model_weights.pth')"
   ]
  },
  {
   "cell_type": "markdown",
   "metadata": {},
   "source": [
    "To load model weights, you need to create an instance of the same model\n",
    "first, and then load the parameters using `load_state_dict()` method.\n"
   ]
  },
  {
   "cell_type": "code",
   "execution_count": 156,
   "metadata": {
    "collapsed": false,
    "ExecuteTime": {
     "end_time": "2024-07-26T17:20:53.315151Z",
     "start_time": "2024-07-26T17:20:50.929467Z"
    }
   },
   "outputs": [
    {
     "name": "stderr",
     "output_type": "stream",
     "text": [
      "/var/folders/83/wpyq6tg521bbw528_qx02kdh0000gn/T/ipykernel_69113/401321913.py:2: FutureWarning: You are using `torch.load` with `weights_only=False` (the current default value), which uses the default pickle module implicitly. It is possible to construct malicious pickle data which will execute arbitrary code during unpickling (See https://github.com/pytorch/pytorch/blob/main/SECURITY.md#untrusted-models for more details). In a future release, the default value for `weights_only` will be flipped to `True`. This limits the functions that could be executed during unpickling. Arbitrary objects will no longer be allowed to be loaded via this mode unless they are explicitly allowlisted by the user via `torch.serialization.add_safe_globals`. We recommend you start setting `weights_only=True` for any use case where you don't have full control of the loaded file. Please open an issue on GitHub for any issues related to this experimental feature.\n",
      "  model.load_state_dict(torch.load('model_weights.pth'))\n"
     ]
    },
    {
     "data": {
      "text/plain": "VGG(\n  (features): Sequential(\n    (0): Conv2d(3, 64, kernel_size=(3, 3), stride=(1, 1), padding=(1, 1))\n    (1): ReLU(inplace=True)\n    (2): Conv2d(64, 64, kernel_size=(3, 3), stride=(1, 1), padding=(1, 1))\n    (3): ReLU(inplace=True)\n    (4): MaxPool2d(kernel_size=2, stride=2, padding=0, dilation=1, ceil_mode=False)\n    (5): Conv2d(64, 128, kernel_size=(3, 3), stride=(1, 1), padding=(1, 1))\n    (6): ReLU(inplace=True)\n    (7): Conv2d(128, 128, kernel_size=(3, 3), stride=(1, 1), padding=(1, 1))\n    (8): ReLU(inplace=True)\n    (9): MaxPool2d(kernel_size=2, stride=2, padding=0, dilation=1, ceil_mode=False)\n    (10): Conv2d(128, 256, kernel_size=(3, 3), stride=(1, 1), padding=(1, 1))\n    (11): ReLU(inplace=True)\n    (12): Conv2d(256, 256, kernel_size=(3, 3), stride=(1, 1), padding=(1, 1))\n    (13): ReLU(inplace=True)\n    (14): Conv2d(256, 256, kernel_size=(3, 3), stride=(1, 1), padding=(1, 1))\n    (15): ReLU(inplace=True)\n    (16): MaxPool2d(kernel_size=2, stride=2, padding=0, dilation=1, ceil_mode=False)\n    (17): Conv2d(256, 512, kernel_size=(3, 3), stride=(1, 1), padding=(1, 1))\n    (18): ReLU(inplace=True)\n    (19): Conv2d(512, 512, kernel_size=(3, 3), stride=(1, 1), padding=(1, 1))\n    (20): ReLU(inplace=True)\n    (21): Conv2d(512, 512, kernel_size=(3, 3), stride=(1, 1), padding=(1, 1))\n    (22): ReLU(inplace=True)\n    (23): MaxPool2d(kernel_size=2, stride=2, padding=0, dilation=1, ceil_mode=False)\n    (24): Conv2d(512, 512, kernel_size=(3, 3), stride=(1, 1), padding=(1, 1))\n    (25): ReLU(inplace=True)\n    (26): Conv2d(512, 512, kernel_size=(3, 3), stride=(1, 1), padding=(1, 1))\n    (27): ReLU(inplace=True)\n    (28): Conv2d(512, 512, kernel_size=(3, 3), stride=(1, 1), padding=(1, 1))\n    (29): ReLU(inplace=True)\n    (30): MaxPool2d(kernel_size=2, stride=2, padding=0, dilation=1, ceil_mode=False)\n  )\n  (avgpool): AdaptiveAvgPool2d(output_size=(7, 7))\n  (classifier): Sequential(\n    (0): Linear(in_features=25088, out_features=4096, bias=True)\n    (1): ReLU(inplace=True)\n    (2): Dropout(p=0.5, inplace=False)\n    (3): Linear(in_features=4096, out_features=4096, bias=True)\n    (4): ReLU(inplace=True)\n    (5): Dropout(p=0.5, inplace=False)\n    (6): Linear(in_features=4096, out_features=1000, bias=True)\n  )\n)"
     },
     "execution_count": 156,
     "metadata": {},
     "output_type": "execute_result"
    }
   ],
   "source": [
    "model = models.vgg16() # we do not specify ``weights``, i.e. create untrained model\n",
    "model.load_state_dict(torch.load('model_weights.pth'))\n",
    "model.eval()"
   ]
  },
  {
   "cell_type": "markdown",
   "metadata": {},
   "source": [
    "<div style=\"background-color: #54c7ec; color: #fff; font-weight: 700; padding-left: 10px; padding-top: 5px; padding-bottom: 5px\"><strong>NOTE:</strong></div>\n",
    "<div style=\"background-color: #f3f4f7; padding-left: 10px; padding-top: 10px; padding-bottom: 10px; padding-right: 10px\">\n",
    "<p style=\"color:#000\">be sure to call <code>model.eval()</code> method before inferencing to set the dropout and batch normalization layers to evaluation mode. Failing to do this will yield inconsistent inference results.</p>\n",
    "</div>\n"
   ]
  },
  {
   "cell_type": "markdown",
   "metadata": {},
   "source": [
    "Saving and Loading Models with Shapes\n",
    "=====================================\n",
    "\n",
    "When loading model weights, we needed to instantiate the model class\n",
    "first, because the class defines the structure of a network. We might\n",
    "want to save the structure of this class together with the model, in\n",
    "which case we can pass `model` (and not `model.state_dict()`) to the\n",
    "saving function:\n"
   ]
  },
  {
   "cell_type": "code",
   "execution_count": 157,
   "metadata": {
    "collapsed": false,
    "ExecuteTime": {
     "end_time": "2024-07-26T17:20:53.981637Z",
     "start_time": "2024-07-26T17:20:53.316731Z"
    }
   },
   "outputs": [],
   "source": [
    "torch.save(model, 'model.pth')"
   ]
  },
  {
   "cell_type": "markdown",
   "metadata": {},
   "source": [
    "We can then load the model like this:\n"
   ]
  },
  {
   "cell_type": "code",
   "execution_count": 158,
   "metadata": {
    "collapsed": false,
    "ExecuteTime": {
     "end_time": "2024-07-26T17:20:54.150037Z",
     "start_time": "2024-07-26T17:20:53.982404Z"
    }
   },
   "outputs": [
    {
     "name": "stderr",
     "output_type": "stream",
     "text": [
      "/var/folders/83/wpyq6tg521bbw528_qx02kdh0000gn/T/ipykernel_69113/2002706324.py:1: FutureWarning: You are using `torch.load` with `weights_only=False` (the current default value), which uses the default pickle module implicitly. It is possible to construct malicious pickle data which will execute arbitrary code during unpickling (See https://github.com/pytorch/pytorch/blob/main/SECURITY.md#untrusted-models for more details). In a future release, the default value for `weights_only` will be flipped to `True`. This limits the functions that could be executed during unpickling. Arbitrary objects will no longer be allowed to be loaded via this mode unless they are explicitly allowlisted by the user via `torch.serialization.add_safe_globals`. We recommend you start setting `weights_only=True` for any use case where you don't have full control of the loaded file. Please open an issue on GitHub for any issues related to this experimental feature.\n",
      "  model = torch.load('model.pth')\n"
     ]
    }
   ],
   "source": [
    "model = torch.load('model.pth')"
   ]
  },
  {
   "cell_type": "markdown",
   "metadata": {},
   "source": [
    "<div style=\"background-color: #54c7ec; color: #fff; font-weight: 700; padding-left: 10px; padding-top: 5px; padding-bottom: 5px\"><strong>NOTE:</strong></div>\n",
    "<div style=\"background-color: #f3f4f7; padding-left: 10px; padding-top: 10px; padding-bottom: 10px; padding-right: 10px\">\n",
    "<p style=\"color:#000\">This approach uses Python <a href=\"https://docs.python.org/3/library/pickle.html\">pickle</a> module when serializing the model, thus it relies on the actual class definition to be available when loading the model.</p>\n",
    "</div>\n"
   ]
  },
  {
   "cell_type": "markdown",
   "metadata": {},
   "source": [
    "Related Tutorials\n",
    "=================\n",
    "\n",
    "-   [Saving and Loading a General Checkpoint in\n",
    "    PyTorch](https://pytorch.org/tutorials/recipes/recipes/saving_and_loading_a_general_checkpoint.html)\n",
    "-   [Tips for loading an nn.Module from a\n",
    "    checkpoint](https://pytorch.org/tutorials/recipes/recipes/module_load_state_dict_tips.html?highlight=loading%20nn%20module%20from%20checkpoint)\n"
   ]
  },
  {
   "cell_type": "code",
   "outputs": [],
   "source": [],
   "metadata": {
    "collapsed": false,
    "ExecuteTime": {
     "end_time": "2024-07-26T17:20:54.153091Z",
     "start_time": "2024-07-26T17:20:54.151334Z"
    }
   },
   "execution_count": 158
  }
 ],
 "metadata": {
  "kernelspec": {
   "display_name": "Python 3 (ipykernel)",
   "language": "python",
   "name": "python3"
  },
  "language_info": {
   "codemirror_mode": {
    "name": "ipython",
    "version": 3
   },
   "file_extension": ".py",
   "mimetype": "text/x-python",
   "name": "python",
   "nbconvert_exporter": "python",
   "pygments_lexer": "ipython3",
   "version": "3.11.5"
  }
 },
 "nbformat": 4,
 "nbformat_minor": 4
}
