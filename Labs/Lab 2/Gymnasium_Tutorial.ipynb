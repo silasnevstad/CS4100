{
 "cells": [
  {
   "cell_type": "markdown",
   "id": "cac53cf9-7bfa-4da8-9506-c2dba2dda92e",
   "metadata": {},
   "source": [
    "Lab 2 : Open AI Gymnasium\n",
    "----\n",
    "\n",
    "As we are steadily advancing towards Reinforcement Learning in class, it's time to get our hands dirty with another cool Python package. Gymnasium, originally developed by OpenAI is a useful tool that is commonly used for solving RL-related challenges. With Gymnasium, users can easily design, implement, and evaluate reinforcement learning algorithms by leveraging predefined environments such as classic control tasks, Atari 2600 games, and more. Furthermore, Gymnasium provides an easy API to implement your own environments!"
   ]
  },
  {
   "cell_type": "markdown",
   "id": "b52ed948-05a8-4a3f-9a66-c2a754c8b329",
   "metadata": {},
   "source": [
    "First, let's get started with installing Gymnasium!\n",
    "\n",
    "Step 1. Make sure you have python and pip installed. Check the installation of python and pip using \n",
    "- `python --version` and `pip --version`\n",
    "If pip is not installed:\n",
    "- Follow the steps listed for your respective operating system at [Pip Docs - Installation](https://pip.pypa.io/en/stable/installation/).\n",
    "\n",
    "Step 2. Now execute `pip install gym` in your terminal to install gymnasium or run the cell below."
   ]
  },
  {
   "cell_type": "code",
   "execution_count": 202,
   "id": "5b3d3a92-0ace-4d2b-9389-93d9fd4699f3",
   "metadata": {
    "ExecuteTime": {
     "end_time": "2024-07-19T19:08:47.684662Z",
     "start_time": "2024-07-19T19:08:45.644471Z"
    }
   },
   "outputs": [
    {
     "name": "stdout",
     "output_type": "stream",
     "text": [
      "Good evening, silasnevstad.\r\n",
      "Requirement already satisfied: gym in /opt/homebrew/lib/python3.11/site-packages (0.26.2)\r\n",
      "Requirement already satisfied: numpy>=1.18.0 in /opt/homebrew/lib/python3.11/site-packages (from gym) (1.26.4)\r\n",
      "Requirement already satisfied: cloudpickle>=1.2.0 in /opt/homebrew/lib/python3.11/site-packages (from gym) (2.2.1)\r\n",
      "Requirement already satisfied: gym-notices>=0.0.4 in /opt/homebrew/lib/python3.11/site-packages (from gym) (0.0.8)\r\n",
      "\r\n",
      "\u001B[1m[\u001B[0m\u001B[34;49mnotice\u001B[0m\u001B[1;39;49m]\u001B[0m\u001B[39;49m A new release of pip is available: \u001B[0m\u001B[31;49m24.0\u001B[0m\u001B[39;49m -> \u001B[0m\u001B[32;49m24.1.2\u001B[0m\r\n",
      "\u001B[1m[\u001B[0m\u001B[34;49mnotice\u001B[0m\u001B[1;39;49m]\u001B[0m\u001B[39;49m To update, run: \u001B[0m\u001B[32;49mpython3.11 -m pip install --upgrade pip\u001B[0m\r\n"
     ]
    }
   ],
   "source": [
    "!pip install gym"
   ]
  },
  {
   "cell_type": "markdown",
   "id": "1ccaff9a-c81d-4889-9236-b65341252f47",
   "metadata": {},
   "source": [
    "Now to verify installation of gym execute the cell below"
   ]
  },
  {
   "cell_type": "code",
   "execution_count": 203,
   "id": "af7d2e68-590a-450e-8e64-a031afabe535",
   "metadata": {
    "ExecuteTime": {
     "end_time": "2024-07-19T19:08:47.688476Z",
     "start_time": "2024-07-19T19:08:47.686244Z"
    }
   },
   "outputs": [],
   "source": [
    "import gym"
   ]
  },
  {
   "cell_type": "markdown",
   "id": "2d3c4595-a2f2-4995-a65f-74d48bb57b48",
   "metadata": {},
   "source": [
    "Great! Now let's talk about environments! \n",
    "\n",
    "The fundamental building block of OpenAI Gym is the `Env` class. It is a Python class that implements a simulator that runs the  environment you want to train your agent in. Open AI Gym comes packed with a lot of environments, such as one where you can move a car up a hill, balance a swinging pendulum etc. Take a moment now to visit [Gymnasium - Farama](https://gymnasium.farama.org/) to see the complete list of environments, along with demonstrations of what the task in each environment is. \n",
    "\n",
    "In this lab, we will begin with the `MountainCar` environment. Our goal is to control a car on a track positioned between two mountains. The objective is to drive up the mountain on the right, but the car's engine lacks the power to climb it directly. To solve this problem, we require the car to make strategic back-and-forth movements to build momentum. \n",
    "\n",
    "Let's see how we can train our car to climb up the mountain using gymnasium."
   ]
  },
  {
   "cell_type": "markdown",
   "id": "a7c64f01-9657-4071-a037-71919d671119",
   "metadata": {},
   "source": [
    "## Part 1"
   ]
  },
  {
   "cell_type": "code",
   "execution_count": 204,
   "id": "eb0da5d9-ba4b-4764-accf-1ca1e05948f4",
   "metadata": {
    "ExecuteTime": {
     "end_time": "2024-07-19T19:08:47.692774Z",
     "start_time": "2024-07-19T19:08:47.689301Z"
    }
   },
   "outputs": [],
   "source": [
    "# While creating our mountain car environment, render_mode is an optional argument. \n",
    "# It is used to render the environment visually when needed.\n",
    "# For more details, visit https://gymnasium.farama.org/api/env/\n",
    "\n",
    "env = gym.make('MountainCar-v0', render_mode=\"rgb_array\")"
   ]
  },
  {
   "cell_type": "markdown",
   "id": "3be7abdf-d9b9-42b4-9a8c-2efa1997704d",
   "metadata": {},
   "source": [
    "In Reinforcement Learning, we think of two key terms - the `Observation Space` and `Action space`.\n",
    "\n",
    "The `Observation Space` is the set of all possible observations that an agent can receive from the environment. These observations provide information about the current state of the environment. Observations can be diverse and may include sensor readings, images, or any relevant data that helps the agent make decisions.\n",
    "\n",
    "For example, for an agent trying to learn how to shoot a target the observation space can include - the agent's current position or location, the position and movement of the target, information about obstacles or barriers in the environment if any, and the agent's ammunition status or the number of bullets remaining.\n",
    "\n",
    "The `Action Space` represents the set of possible actions that the agent can take to interact with the environment. These actions represent the decisions or movements that the agent can make to interact with the environment.\n",
    "\n",
    "For example for an agent trying to learn how to shoot a target the action space can include - adjusting the aim or direction of the firearm, pulling the trigger to shoot, reloading the firearm, and changing the stance or position of the agent.\n",
    "\n",
    "The basic structure of the environment is described by the observation_space and the action_space attributes of the Gym Env class."
   ]
  },
  {
   "cell_type": "markdown",
   "id": "480cd8d0-0dfc-4d21-b5f4-48f74d1bb7a6",
   "metadata": {},
   "source": [
    "## To-do \n",
    "Can you guess what the observation space and state space of the mountain car problem would be? Write your answer below. Try to provide 2-3 examples for each.\n"
   ]
  },
  {
   "cell_type": "code",
   "execution_count": 205,
   "id": "78f0ae5a-1466-47a2-9a0f-fe36d6511653",
   "metadata": {
    "ExecuteTime": {
     "end_time": "2024-07-19T19:08:47.696056Z",
     "start_time": "2024-07-19T19:08:47.694271Z"
    }
   },
   "outputs": [],
   "source": [
    "#### YOUR ANSWER HERE\n",
    "# The observation space for the mountain car problem would be the position and velocity of the car.\n",
    "# For example, the car's position could be at x=-0.5 (left of origin) and its velocity could be 0.03 (slightly moving right)\n",
    "# The action space would be the acceleration of the car in the left or right (forwards or backwards) direction.\n",
    "# For example, the car could accelerate by different amounts in the left or right direction (accelerate left, accelerate right, or don't accelerate)."
   ]
  },
  {
   "cell_type": "code",
   "execution_count": 206,
   "id": "d161a237-b07c-4228-8f41-e422a45ccc49",
   "metadata": {
    "ExecuteTime": {
     "end_time": "2024-07-19T19:08:47.699285Z",
     "start_time": "2024-07-19T19:08:47.696860Z"
    }
   },
   "outputs": [
    {
     "name": "stdout",
     "output_type": "stream",
     "text": [
      "The observation space: Box([-1.2  -0.07], [0.6  0.07], (2,), float32)\n",
      "The action space: Discrete(3)\n"
     ]
    }
   ],
   "source": [
    "# Observation and action space for mountain-view problem\n",
    "obs_space = env.observation_space\n",
    "action_space = env.action_space\n",
    "print(\"The observation space: {}\".format(obs_space))\n",
    "print(\"The action space: {}\".format(action_space))"
   ]
  },
  {
   "cell_type": "markdown",
   "id": "ee6e1260-0405-497b-b1a8-3c4033200966",
   "metadata": {},
   "source": [
    "The observation_space for our environment is a Box with shape (2,), and returns two lists with entries of type float32.\n",
    "The action_space was Discrete with shape (2). \n",
    "\n",
    "What do these actually mean? \n",
    "\n",
    "Both Box and Discrete are types of data structures called \"Spaces\" provided by Gym, modeling various aspects of the problem at hand. All of these data structures are derived from the gym.Space base class.\n",
    "\n",
    "Box, for instance, is used when modeling real-valued quantities, i.e. a continuous space. The printed output can be a bit tricky to read - the first list in the observation space above contains minimum values for the set of quantities that are modeled, and the second list contains the maxima. \n",
    "\n",
    "For this particular problem (Mountain Car), the values at index 0 within both lists refer to the minimum and maximum value of the car's position along the x-axis, i.e. the car will always be between x=-1.2 and x=0.6. The values at index 1 represent the range of the velocity, i.e. the car's speed will be between -0.07 and 0.07. Both these values are allowed to vary continuously with the precision of the float32 dtype.\n",
    "\n",
    "Discrete, on the other hand, signifies that there are a finite number of options to choose from. In this case, Discrete(3) represents the fact that the agent has three choices: 0: accelerate left, 1: don't accelerate, and 2: accelerate right. The easiest way to find descriptions for actions (and their indices) is to visit the [Gymnasium page for that task](https://gymnasium.farama.org/environments/classic_control/mountain_car/)."
   ]
  },
  {
   "cell_type": "code",
   "execution_count": 207,
   "id": "65911af6-c32d-45bc-aa78-a5257e3b9195",
   "metadata": {
    "ExecuteTime": {
     "end_time": "2024-07-19T19:08:47.701960Z",
     "start_time": "2024-07-19T19:08:47.699905Z"
    }
   },
   "outputs": [
    {
     "name": "stdout",
     "output_type": "stream",
     "text": [
      "Upper Bound for Env Observation [0.6  0.07]\n",
      "Lower Bound for Env Observation [-1.2  -0.07]\n"
     ]
    }
   ],
   "source": [
    "print(\"Upper Bound for Env Observation\", env.observation_space.high)\n",
    "print(\"Lower Bound for Env Observation\", env.observation_space.low)"
   ]
  },
  {
   "cell_type": "markdown",
   "id": "8ca0d771-dee2-4571-b337-1abb978f9549",
   "metadata": {},
   "source": [
    "You can set these upper/lower limits while defining your space, as well as when you are creating an environment.\n",
    "\n",
    "From here on, remember that an observation for the mountain car environment is a vector of two numbers, representing position and velocity respectively. The middle point between the two mountains in the environment is taken to be the origin, with the right being considered the positive direction and the left being the negative direction."
   ]
  },
  {
   "cell_type": "markdown",
   "id": "f02de71b-4878-4222-ba60-262972798b87",
   "metadata": {},
   "source": [
    "Now let's talk about how the env class helps the agent interact with the environment!\n",
    "\n",
    "`reset`: This function returns the initial observation of the environment after placing the agent back in its starting state. Our first observation in any RL task implemented using Gymnasium must be obtained by calling this function. This function should also be called every time a terminal/end state is reached.\n",
    "`step`: This function takes an action as input, applies it to the environment, and returns the following:\n",
    "- `observation`: The current state of the environment after the action is taken.\n",
    "- `reward`: The reward obtained from the action.\n",
    "- `terminated`: Return true or false, depending on whether the agent has reached a terminal state (as defined under the task).\n",
    "- `truncated`: Determine if the truncation condition, often a time limit or agent going out of bounds, is satisfied. This can prompt an early episode termination before reaching a terminal state. Think of this as cases that may end a game preemptively.\n",
    "- `info`: Extra information for debugging or environment-specific details, such as lives remaining.\n",
    "\n",
    "Next, we demonstrate the step function, which is how we get the agent to execute an action in a Gymnasium environment. For now, we will simply pick a random action from the environment's action space. "
   ]
  },
  {
   "cell_type": "code",
   "execution_count": 208,
   "id": "d1898f7c-34f7-4501-abb2-acc459a90bcf",
   "metadata": {
    "ExecuteTime": {
     "end_time": "2024-07-19T19:08:47.705834Z",
     "start_time": "2024-07-19T19:08:47.702636Z"
    }
   },
   "outputs": [
    {
     "name": "stdout",
     "output_type": "stream",
     "text": [
      "The initial observation is (array([-0.56183714,  0.        ], dtype=float32), {})\n",
      "The new observation is [-0.56255096 -0.00071384]\n"
     ]
    }
   ],
   "source": [
    "# reset the environment and see the initial observation\n",
    "obs = env.reset()\n",
    "print(\"The initial observation is {}\".format(obs))\n",
    "\n",
    "# Sample a random action from the entire action space\n",
    "random_action = env.action_space.sample()\n",
    "\n",
    "# # Take the action and get the new observation space\n",
    "new_obs, reward, terminated, truncated, info = env.step(random_action)\n",
    "print(\"The new observation is {}\".format(new_obs))"
   ]
  },
  {
   "cell_type": "code",
   "execution_count": 209,
   "id": "d3e61c01-ae9a-4d66-923e-b77aa005d63e",
   "metadata": {
    "ExecuteTime": {
     "end_time": "2024-07-19T19:08:52.173613Z",
     "start_time": "2024-07-19T19:08:47.706587Z"
    }
   },
   "outputs": [
    {
     "name": "stdout",
     "output_type": "stream",
     "text": [
      "Good evening, silasnevstad.\r\n",
      "Found existing installation: pygame 2.6.0\r\n",
      "Uninstalling pygame-2.6.0:\r\n",
      "  Successfully uninstalled pygame-2.6.0\r\n",
      "Good evening, silasnevstad.\r\n",
      "Collecting pygame\r\n",
      "  Using cached pygame-2.6.0-cp311-cp311-macosx_11_0_arm64.whl.metadata (12 kB)\r\n",
      "Using cached pygame-2.6.0-cp311-cp311-macosx_11_0_arm64.whl (12.4 MB)\r\n",
      "Installing collected packages: pygame\r\n",
      "Successfully installed pygame-2.6.0\r\n",
      "\r\n",
      "\u001B[1m[\u001B[0m\u001B[34;49mnotice\u001B[0m\u001B[1;39;49m]\u001B[0m\u001B[39;49m A new release of pip is available: \u001B[0m\u001B[31;49m24.0\u001B[0m\u001B[39;49m -> \u001B[0m\u001B[32;49m24.1.2\u001B[0m\r\n",
      "\u001B[1m[\u001B[0m\u001B[34;49mnotice\u001B[0m\u001B[1;39;49m]\u001B[0m\u001B[39;49m To update, run: \u001B[0m\u001B[32;49mpython3.11 -m pip install --upgrade pip\u001B[0m\r\n",
      "Good evening, silasnevstad.\r\n",
      "Requirement already satisfied: gym[classic_control] in /opt/homebrew/lib/python3.11/site-packages (0.26.2)\r\n",
      "Requirement already satisfied: numpy>=1.18.0 in /opt/homebrew/lib/python3.11/site-packages (from gym[classic_control]) (1.26.4)\r\n",
      "Requirement already satisfied: cloudpickle>=1.2.0 in /opt/homebrew/lib/python3.11/site-packages (from gym[classic_control]) (2.2.1)\r\n",
      "Requirement already satisfied: gym-notices>=0.0.4 in /opt/homebrew/lib/python3.11/site-packages (from gym[classic_control]) (0.0.8)\r\n",
      "Collecting pygame==2.1.0 (from gym[classic_control])\r\n",
      "  Using cached pygame-2.1.0.tar.gz (5.8 MB)\r\n",
      "  Preparing metadata (setup.py) ... \u001B[?25lerror\r\n",
      "  \u001B[1;31merror\u001B[0m: \u001B[1msubprocess-exited-with-error\u001B[0m\r\n",
      "  \r\n",
      "  \u001B[31m×\u001B[0m \u001B[32mpython setup.py egg_info\u001B[0m did not run successfully.\r\n",
      "  \u001B[31m│\u001B[0m exit code: \u001B[1;36m1\u001B[0m\r\n",
      "  \u001B[31m╰─>\u001B[0m \u001B[31m[34 lines of output]\u001B[0m\r\n",
      "  \u001B[31m   \u001B[0m \r\n",
      "  \u001B[31m   \u001B[0m \r\n",
      "  \u001B[31m   \u001B[0m WARNING, No \"Setup\" File Exists, Running \"buildconfig/config.py\"\r\n",
      "  \u001B[31m   \u001B[0m Using Darwin configuration...\r\n",
      "  \u001B[31m   \u001B[0m \r\n",
      "  \u001B[31m   \u001B[0m /bin/sh: pkg-config: command not found\r\n",
      "  \u001B[31m   \u001B[0m /bin/sh: pkg-config: command not found\r\n",
      "  \u001B[31m   \u001B[0m /bin/sh: pkg-config: command not found\r\n",
      "  \u001B[31m   \u001B[0m Traceback (most recent call last):\r\n",
      "  \u001B[31m   \u001B[0m   File \"<string>\", line 2, in <module>\r\n",
      "  \u001B[31m   \u001B[0m   File \"<pip-setuptools-caller>\", line 34, in <module>\r\n",
      "  \u001B[31m   \u001B[0m   File \"/private/var/folders/83/wpyq6tg521bbw528_qx02kdh0000gn/T/pip-install-_mfl2wi3/pygame_34723044a0cd45978045fa1afdd68c30/setup.py\", line 388, in <module>\r\n",
      "  \u001B[31m   \u001B[0m     buildconfig.config.main(AUTO_CONFIG)\r\n",
      "  \u001B[31m   \u001B[0m   File \"/private/var/folders/83/wpyq6tg521bbw528_qx02kdh0000gn/T/pip-install-_mfl2wi3/pygame_34723044a0cd45978045fa1afdd68c30/buildconfig/config.py\", line 234, in main\r\n",
      "  \u001B[31m   \u001B[0m     deps = CFG.main(**kwds)\r\n",
      "  \u001B[31m   \u001B[0m            ^^^^^^^^^^^^^^^^\r\n",
      "  \u001B[31m   \u001B[0m   File \"/private/var/folders/83/wpyq6tg521bbw528_qx02kdh0000gn/T/pip-install-_mfl2wi3/pygame_34723044a0cd45978045fa1afdd68c30/buildconfig/config_darwin.py\", line 143, in main\r\n",
      "  \u001B[31m   \u001B[0m     find_freetype(),\r\n",
      "  \u001B[31m   \u001B[0m     ^^^^^^^^^^^^^^^\r\n",
      "  \u001B[31m   \u001B[0m   File \"/private/var/folders/83/wpyq6tg521bbw528_qx02kdh0000gn/T/pip-install-_mfl2wi3/pygame_34723044a0cd45978045fa1afdd68c30/buildconfig/config_darwin.py\", line 110, in find_freetype\r\n",
      "  \u001B[31m   \u001B[0m     pkg_config = DependencyProg(\r\n",
      "  \u001B[31m   \u001B[0m                  ^^^^^^^^^^^^^^^\r\n",
      "  \u001B[31m   \u001B[0m   File \"/private/var/folders/83/wpyq6tg521bbw528_qx02kdh0000gn/T/pip-install-_mfl2wi3/pygame_34723044a0cd45978045fa1afdd68c30/buildconfig/config_unix.py\", line 39, in __init__\r\n",
      "  \u001B[31m   \u001B[0m     self.ver = config[0].strip()\r\n",
      "  \u001B[31m   \u001B[0m                ~~~~~~^^^\r\n",
      "  \u001B[31m   \u001B[0m IndexError: list index out of range\r\n",
      "  \u001B[31m   \u001B[0m \r\n",
      "  \u001B[31m   \u001B[0m ---\r\n",
      "  \u001B[31m   \u001B[0m For help with compilation see:\r\n",
      "  \u001B[31m   \u001B[0m     https://www.pygame.org/wiki/MacCompile\r\n",
      "  \u001B[31m   \u001B[0m To contribute to pygame development see:\r\n",
      "  \u001B[31m   \u001B[0m     https://www.pygame.org/contribute.html\r\n",
      "  \u001B[31m   \u001B[0m ---\r\n",
      "  \u001B[31m   \u001B[0m \r\n",
      "  \u001B[31m   \u001B[0m \u001B[31m[end of output]\u001B[0m\r\n",
      "  \r\n",
      "  \u001B[1;35mnote\u001B[0m: This error originates from a subprocess, and is likely not a problem with pip.\r\n",
      "\u001B[1;31merror\u001B[0m: \u001B[1mmetadata-generation-failed\u001B[0m\r\n",
      "\r\n",
      "\u001B[31m×\u001B[0m Encountered error while generating package metadata.\r\n",
      "\u001B[31m╰─>\u001B[0m See above for output.\r\n",
      "\r\n",
      "\u001B[1;35mnote\u001B[0m: This is an issue with the package mentioned above, not pip.\r\n",
      "\u001B[1;36mhint\u001B[0m: See above for details.\r\n",
      "\r\n",
      "\u001B[1m[\u001B[0m\u001B[34;49mnotice\u001B[0m\u001B[1;39;49m]\u001B[0m\u001B[39;49m A new release of pip is available: \u001B[0m\u001B[31;49m24.0\u001B[0m\u001B[39;49m -> \u001B[0m\u001B[32;49m24.1.2\u001B[0m\r\n",
      "\u001B[1m[\u001B[0m\u001B[34;49mnotice\u001B[0m\u001B[1;39;49m]\u001B[0m\u001B[39;49m To update, run: \u001B[0m\u001B[32;49mpython3.11 -m pip install --upgrade pip\u001B[0m\r\n",
      "\u001B[?25h"
     ]
    }
   ],
   "source": [
    "# This step is optional and only needs to be executed if you want to render and view the environment. \n",
    "# May be finicky on MacOS. It's fine to skip it for now!\n",
    "!pip uninstall -y pygame\n",
    "!pip install pygame --pre\n",
    "!pip install 'gym[classic_control]'"
   ]
  },
  {
   "cell_type": "code",
   "execution_count": 210,
   "id": "28d9d259-6933-420a-8201-a536429bec29",
   "metadata": {
    "ExecuteTime": {
     "end_time": "2024-07-19T19:08:52.177390Z",
     "start_time": "2024-07-19T19:08:52.175026Z"
    }
   },
   "outputs": [],
   "source": [
    "env.close()\n",
    "# only way to end a simulation"
   ]
  },
  {
   "cell_type": "markdown",
   "id": "68f1cd30-8d74-4d44-8bbf-422034a674af",
   "metadata": {},
   "source": [
    "# To-do\n",
    "Now it's your turn to try writing code to see how far up the hill this cart can go by taking random steps in this environment.\\\n",
    "Since we are not training the agent at all, we don't expect to see much progress, but this should give us a good idea of how gymnasium works."
   ]
  },
  {
   "cell_type": "markdown",
   "id": "61e95af7-3928-4a67-96f0-042eb1813e73",
   "metadata": {},
   "source": [
    "#### To Ponder:\n",
    "\n",
    "In the previous code block where we were taking actions, we didn't use the agent's state and reward to decide the best action from the new state. All the generated actions are random, and you'll be doing the same thing below. We'll learn how to train agents in lecture!"
   ]
  },
  {
   "cell_type": "code",
   "execution_count": 211,
   "id": "cef06417-1720-42fd-9045-0cef49e52bea",
   "metadata": {},
   "outputs": [
    {
     "data": {
      "text/plain": "<Figure size 640x480 with 1 Axes>",
      "image/png": "[encoded data removed]"
     },
     "metadata": {},
     "output_type": "display_data"
    }
   ],
   "source": [
    "from matplotlib import pyplot as plt\n",
    "import time\n",
    "from IPython import display\n",
    "\n",
    "plt.ion()\n",
    "env_screen= None\n",
    "\n",
    "# Number of steps you run the agent for\n",
    "# This may take a few minutes to execute depending on the number of steps\n",
    "num_steps = 20\n",
    "\n",
    "# reset the environment here\n",
    "obs = env.reset()\n",
    "\n",
    "plt.figure()\n",
    "\n",
    "for step in range(num_steps):\n",
    "    # Render the env here (Rendering might take longer for the cell to execute. \n",
    "    # Stop execution once you get a sense of what's happening and move on to the next part of the lab).\n",
    "    plt.imshow(env.render())\n",
    "    display.display(plt.gcf())\n",
    "    display.clear_output(wait=True) \n",
    "    \n",
    "    # take random action (based on examples above)\n",
    "    random_action = env.action_space.sample()\n",
    "    \n",
    "    # apply the action using env.step here\n",
    "    obs, reward, terminated, truncated, info = env.step(random_action)\n",
    "    \n",
    "    # If the episode is finished (i.e., terminated or truncated), then reset the env and start another one;\n",
    "    if terminated or truncated:\n",
    "        obs, info = env.reset()\n",
    "        break\n",
    "\n",
    "# Close the env\n",
    "env.close()"
   ]
  },
  {
   "cell_type": "markdown",
   "id": "8741d2e0-62c9-4884-92ea-c7eec4d23900",
   "metadata": {},
   "source": [
    "## Part 2\n",
    "\n",
    "Now that we have seen how to use gymnasium using its default environment, let's see how can we build a custom environment and perform actions in it. This particular custom environment is built using the gymnasium extension for Markov Decision Processes."
   ]
  },
  {
   "cell_type": "markdown",
   "id": "b744f4c8-a757-45a1-9e64-627d1d88a589",
   "metadata": {},
   "source": [
    "Let's consider a 3x3 grid where the action space is to move up, down, left, or right. An action that takes you out of the grid is considered invalid. The red cells in the grid represent a reward of -20, the yellow cell has a reward of +5 and the green one has a reward of +10. Consider the green cell as the final goal state, which is where we want our agent to go. There is an equal probability of taking any valid action from a given cell. \n",
    "\n",
    "Here's how the grid is defined **(on a Euclidean plane)**:\n",
    "\n",
    "Cell 0 - 0,0 (start)\\\n",
    "Cell 1 - 0,1\\\n",
    "Cell 2 - 0,2\\\n",
    "Cell 3 - 1,0\\\n",
    "Cell 4 - 1,1\\\n",
    "Cell 5 - 1,2\\\n",
    "Cell 6 - 2,0 (goal)\\\n",
    "Cell 7 - 2,1\\\n",
    "Cell 8 - 2,2\n",
    "\n",
    "<div><img src=\"./grid.png\", style=\"width:400px\"/></div>"
   ]
  },
  {
   "cell_type": "code",
   "execution_count": 212,
   "id": "df2e21d5-cf0c-48ca-a5ec-5b1be49ed96f",
   "metadata": {
    "ExecuteTime": {
     "end_time": "2024-07-19T19:08:58.408569Z",
     "start_time": "2024-07-19T19:08:56.744118Z"
    }
   },
   "outputs": [
    {
     "name": "stdout",
     "output_type": "stream",
     "text": [
      "Good evening, silasnevstad.\r\n",
      "Requirement already satisfied: matrix-mdp-gym in /opt/homebrew/lib/python3.11/site-packages (1.1.1)\r\n",
      "Requirement already satisfied: gymnasium>=0.26.2 in /opt/homebrew/lib/python3.11/site-packages (from matrix-mdp-gym) (0.29.1)\r\n",
      "Requirement already satisfied: numpy>=1.19.5 in /opt/homebrew/lib/python3.11/site-packages (from matrix-mdp-gym) (1.26.4)\r\n",
      "Requirement already satisfied: cloudpickle>=1.2.0 in /opt/homebrew/lib/python3.11/site-packages (from gymnasium>=0.26.2->matrix-mdp-gym) (2.2.1)\r\n",
      "Requirement already satisfied: typing-extensions>=4.3.0 in /opt/homebrew/lib/python3.11/site-packages (from gymnasium>=0.26.2->matrix-mdp-gym) (4.8.0)\r\n",
      "Requirement already satisfied: farama-notifications>=0.0.1 in /opt/homebrew/lib/python3.11/site-packages (from gymnasium>=0.26.2->matrix-mdp-gym) (0.0.4)\r\n",
      "\r\n",
      "\u001B[1m[\u001B[0m\u001B[34;49mnotice\u001B[0m\u001B[1;39;49m]\u001B[0m\u001B[39;49m A new release of pip is available: \u001B[0m\u001B[31;49m24.0\u001B[0m\u001B[39;49m -> \u001B[0m\u001B[32;49m24.1.2\u001B[0m\r\n",
      "\u001B[1m[\u001B[0m\u001B[34;49mnotice\u001B[0m\u001B[1;39;49m]\u001B[0m\u001B[39;49m To update, run: \u001B[0m\u001B[32;49mpython3.11 -m pip install --upgrade pip\u001B[0m\r\n"
     ]
    }
   ],
   "source": [
    "!pip install matrix-mdp-gym"
   ]
  },
  {
   "cell_type": "code",
   "execution_count": 213,
   "id": "be1e5434-274a-4e43-8424-a8543f97b420",
   "metadata": {
    "ExecuteTime": {
     "end_time": "2024-07-19T19:08:58.412865Z",
     "start_time": "2024-07-19T19:08:58.410209Z"
    }
   },
   "outputs": [],
   "source": [
    "import numpy as np\n",
    "\n",
    "num_states = 9 # total number of cells\n",
    "num_actions = 4 # up, down, left, right\n",
    "num_terminal_states = 1 # initilaise the number of terminal goal states"
   ]
  },
  {
   "cell_type": "code",
   "execution_count": 214,
   "id": "5758daba-44c3-4f45-b859-7f5958185ee1",
   "metadata": {
    "ExecuteTime": {
     "end_time": "2024-07-19T19:08:58.415885Z",
     "start_time": "2024-07-19T19:08:58.413781Z"
    }
   },
   "outputs": [],
   "source": [
    "#To-do:\n",
    "# Initialise the action map as a dictionary, just to save human readable labels. 0 maps to 'up', 1 to 'down', 2 to 'left', and 3 to 'right'.\n",
    "A = {0: 'up', 1: 'down', 2: 'left', 3: 'right'}"
   ]
  },
  {
   "cell_type": "code",
   "execution_count": 215,
   "id": "5fe8bc81-5b56-498d-bea9-41891a5f5674",
   "metadata": {
    "ExecuteTime": {
     "end_time": "2024-07-19T19:08:58.419223Z",
     "start_time": "2024-07-19T19:08:58.416771Z"
    }
   },
   "outputs": [],
   "source": [
    "# To-do: fill in and complete the state_action_map here, this is a map of all the valid actions from a given state. \n",
    "# Values for cell 0 and 6 are filled in for you\n",
    "# (from cell 0 we can go to the cell above it, or the cell to its right. \n",
    "# The action map values, therefore, are 0 and 3. For cell 6, since this state is terminal, there are no actions from it.\n",
    "\n",
    "# While we are hardcoding this for now, you should consider writing code \n",
    "# that generates this map using the rules of your environment in general.\n",
    "\n",
    "states_actions_map = {\n",
    "    0: [0, 3],\n",
    "    1: [0, 2, 3],\n",
    "    2: [0, 2],\n",
    "    3: [0, 1, 3],\n",
    "    4: [0, 1, 2, 3],\n",
    "    5: [0, 1, 2],\n",
    "    6: [],\n",
    "    7: [1, 2, 3],\n",
    "    8: [1, 2],\n",
    "}"
   ]
  },
  {
   "cell_type": "code",
   "outputs": [],
   "source": [
    "# 1. Initialize transition and reward matrices.\n",
    "\n",
    "T = np.zeros((num_states, num_states, num_actions))\n",
    "R = np.zeros((num_states, num_states, num_actions))\n",
    "\n",
    "# 2. Fill in the transition matrix with the correct values.\n",
    "\n",
    "    # The matrix T represents transition probabilities, i.e., the probability of moving to state j from state i using action a. \n",
    "    # In uncertain environments, an action may have a small probability of failing and leading you to a different state than intended.\n",
    "    # For now, assume that the probability of failure is 0, i.e., an up action, for instance, \n",
    "    # will always take you to the cell above your current state, as long as such a cell exists. \n",
    "\n",
    "    # Note that T is a 3-dimensional matrix. Entries should be made at the index [new_state][current_state][action].\n",
    "    # For example, T[1][0][3] = 1 means that if we take action 3 (right) from cell 0 (start), the probability of reaching the cell 1 is 1.\n",
    "    # Use numpy operations to fill in the correct values in the matrix T.\n",
    "    \n",
    "for state in range(num_states):\n",
    "    for action in states_actions_map[state]:\n",
    "        if action == 0:\n",
    "            T[state + 3][state][0] = 1\n",
    "        elif action == 1:\n",
    "            T[state - 3][state][1] = 1\n",
    "        elif action == 2:\n",
    "            T[state - 1][state][2] = 1\n",
    "        elif action == 3:\n",
    "            T[state + 1][state][3] = 1\n",
    "\n",
    "# 3. Fill in the reward matrix with the correct values.\n",
    "\n",
    "    # The matrix R represents the rewards obtained by moving to state j from state i using action a. \n",
    "    # The red cells in the grid have a reward of -20, the yellow cell has a reward of +5, and the green one has a reward of +10.\n",
    "    # Assume rewards don't depend on the action used or the cell from which the agent moved to one of these cells for now.\n",
    "\n",
    "    # Entries should once again be made at the index [new_state][current_state][action].\n",
    "    # For example, R[2][1][3] = -20 indicates that if we take action 3 from cell 1 and reach cell 2, the reward is -20.\n",
    "    # Update the entries in the matrix R with the correct values below. \n",
    "    \n",
    "def get_reward(state):\n",
    "    if state in [2, 8]:\n",
    "        return -20\n",
    "    elif state == 6:\n",
    "        return 10\n",
    "    elif state == 5:\n",
    "        return 5\n",
    "    else:\n",
    "        return 0\n",
    "\n",
    "for state in range(num_states):\n",
    "    for action in states_actions_map[state]:\n",
    "        if action == 0:\n",
    "            R[state + 3][state][0] = get_reward(state + 3)\n",
    "        elif action == 1:\n",
    "            R[state - 3][state][1] = get_reward(state - 3)\n",
    "        elif action == 2:\n",
    "            R[state - 1][state][2] = get_reward(state - 1)\n",
    "        elif action == 3:\n",
    "            R[state + 1][state][3] = get_reward(state + 1)"
   ],
   "metadata": {
    "collapsed": false,
    "ExecuteTime": {
     "end_time": "2024-07-19T19:08:58.425256Z",
     "start_time": "2024-07-19T19:08:58.420133Z"
    }
   },
   "id": "7186a168d7be6f51",
   "execution_count": 216
  },
  {
   "cell_type": "code",
   "execution_count": 217,
   "id": "6aa0769d-4d9a-461f-beb0-1e00cf8dd1b4",
   "metadata": {
    "ExecuteTime": {
     "end_time": "2024-07-19T19:08:58.427996Z",
     "start_time": "2024-07-19T19:08:58.426098Z"
    }
   },
   "outputs": [],
   "source": [
    "# P_0 is simply the initial probability distribution. This represents where your agent is at the beginning.\n",
    "# If there is only one possible start state, the probability distribution is simply a one-hot vector,\n",
    "# where the probability at the start state is 1 and 0 elsewhere.\n",
    "\n",
    "import numpy as np\n",
    "P_0 = np.zeros(num_states)\n",
    "P_0[0] = 1.0"
   ]
  },
  {
   "cell_type": "code",
   "execution_count": 218,
   "id": "515f2f0d-09b1-4bad-9163-73c901ce7d7b",
   "metadata": {
    "ExecuteTime": {
     "end_time": "2024-07-19T19:08:58.432198Z",
     "start_time": "2024-07-19T19:08:58.428732Z"
    }
   },
   "outputs": [],
   "source": [
    "import matrix_mdp\n",
    "import gymnasium as gym\n",
    "env = gym.make('matrix_mdp/MatrixMDP-v0', p_0=P_0, p=T, r=R)"
   ]
  },
  {
   "cell_type": "code",
   "execution_count": 219,
   "id": "ca894307-9976-4215-bc81-c751fc00d66d",
   "metadata": {
    "ExecuteTime": {
     "end_time": "2024-07-19T19:08:58.434544Z",
     "start_time": "2024-07-19T19:08:58.432857Z"
    }
   },
   "outputs": [],
   "source": [
    "#First, we reset the environment and get the initial observation.\n",
    "observation, info = env.reset()"
   ]
  },
  {
   "cell_type": "markdown",
   "id": "b07c9c72-19ec-4995-828f-a74b7a32ed3b",
   "metadata": {},
   "source": [
    "Below, write the code for random exploration, i.e. randomly choosing an action at each time step and executing it.\n",
    "\n",
    "A random action is simply a random integer between 0 and the number of actions (num_actions not inclusive).\n",
    "However, you should make sure that the chosen action can actually be taken from the current state (i.e., the chosen action is valid).\n",
    "\n",
    "Keep track of the total reward in each episode, and reset the environment when the episode terminates.\n",
    "\n",
    "Print the average reward obtained over 10000 episodes. "
   ]
  },
  {
   "cell_type": "code",
   "execution_count": 220,
   "id": "3f2d1662-ba33-4f01-aec6-88be1cfa8c58",
   "metadata": {
    "ExecuteTime": {
     "end_time": "2024-07-19T19:08:58.436537Z",
     "start_time": "2024-07-19T19:08:58.435225Z"
    }
   },
   "outputs": [],
   "source": [
    "# setting total reward as zero\n",
    "total_rewards = 0.0"
   ]
  },
  {
   "cell_type": "code",
   "execution_count": 221,
   "id": "1d33a4a4-8b6b-452e-bc71-ec6adfdda8f9",
   "metadata": {
    "ExecuteTime": {
     "end_time": "2024-07-19T19:09:00.499784Z",
     "start_time": "2024-07-19T19:08:58.437214Z"
    }
   },
   "outputs": [
    {
     "name": "stdout",
     "output_type": "stream",
     "text": [
      "Average reward obtained:  -30.629\n"
     ]
    }
   ],
   "source": [
    "import random\n",
    "\n",
    "# To-Do:\n",
    "# For each episode, collect the reward the agent earns and store it.\n",
    "# After the end of all 10000 episodes, we are going to take the average reward earned by the agent.\n",
    "\n",
    "reward_list = []\n",
    "\n",
    "for i in range(10000):\n",
    "    observation, info = env.reset()\n",
    "    total_rewards = 0\n",
    "    while True:\n",
    "        # Pick an action using the random Python module random until we have a valid action for that cell\n",
    "        # Hint: use states_actions_map in conjunction with the random module\n",
    "        valid_actions = states_actions_map[observation]\n",
    "        random_action = np.random.choice(valid_actions)\n",
    "        \n",
    "        # or if we have to use the random module:\n",
    "        # random_action = random.randint(0, num_actions - 1)\n",
    "        # while random_action not in valid_actions:\n",
    "        #     random_action = random.randint(0, num_actions - 1)\n",
    "        \n",
    "        # Get a new observation, reward, terminated and other information here using the env.step() function\n",
    "        observation, reward, terminated, truncated, info = env.step(random_action)\n",
    "        \n",
    "        # Update rewards\n",
    "        total_rewards += reward\n",
    "\n",
    "        # break this loop if we have reached an end state\n",
    "        if terminated or truncated:\n",
    "            break\n",
    "    reward_list.append(total_rewards)\n",
    "\n",
    "# calculate and print the average reward here\n",
    "avg_reward = np.mean(reward_list)\n",
    "print(\"Average reward obtained: \", avg_reward)"
   ]
  },
  {
   "cell_type": "markdown",
   "id": "04b22b01-2c98-4ad3-b9c6-6f1d9416868d",
   "metadata": {},
   "source": [
    "Hope this lab helped you understand how to set up and navigate an environment in Gymnasium. \n",
    "As always, please don't hesitate to reach out to the instructor or the TAs if you have any questions!"
   ]
  }
 ],
 "metadata": {
  "kernelspec": {
   "display_name": "Python 3 (ipykernel)",
   "language": "python",
   "name": "python3"
  },
  "language_info": {
   "codemirror_mode": {
    "name": "ipython",
    "version": 3
   },
   "file_extension": ".py",
   "mimetype": "text/x-python",
   "name": "python",
   "nbconvert_exporter": "python",
   "pygments_lexer": "ipython3",
   "version": "3.11.5"
  }
 },
 "nbformat": 4,
 "nbformat_minor": 5
}
